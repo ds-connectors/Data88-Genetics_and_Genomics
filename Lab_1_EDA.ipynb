{
 "cells": [
  {
   "cell_type": "markdown",
   "metadata": {},
   "source": [
    "### Data 88: Data Science for Genetics and Genomics - 09/17/19\n",
    "\n",
    "# *Lab 1 - Comparative Genomics with EDA*\n",
    "\n",
    "### by Jonathan Fischer (adapted in part from work by Shishi Luo) "
   ]
  },
  {
   "cell_type": "code",
   "execution_count": 1,
   "metadata": {},
   "outputs": [],
   "source": [
    "# Import the necessary modules\n",
    "from datascience import *\n",
    "%matplotlib inline\n",
    "import matplotlib.pyplot as plt\n",
    "import numpy as np\n",
    "plt.style.use('fivethirtyeight')"
   ]
  },
  {
   "cell_type": "markdown",
   "metadata": {},
   "source": [
    "## Let's explore genome sizes for some commonly studied organisms"
   ]
  },
  {
   "cell_type": "code",
   "execution_count": 2,
   "metadata": {},
   "outputs": [],
   "source": [
    "# Load table of representatives for each kingdom\n",
    "# name your table model_species\n",
    "# table_name = Table.read_table('filename')\n",
    "# filename = https://raw.githubusercontent.com/ds-connectors/Data88-Genetics_and_Genomics/master/model_species.csv\n",
    "\n",
    "#model_species = Table.read_table('https://raw.githubusercontent.com/ds-connectors/Data88-Genetics_and_Genomics/master/model_species.csv')\n"
   ]
  },
  {
   "cell_type": "code",
   "execution_count": 3,
   "metadata": {},
   "outputs": [
    {
     "data": {
      "text/html": [
       "<table border=\"1\" class=\"dataframe\">\n",
       "    <thead>\n",
       "        <tr>\n",
       "            <th>Organism/Name</th> <th>Strain</th> <th>SubGroup</th> <th>Size (Mb)</th> <th>Scaffolds</th> <th>Genes</th> <th>Proteins</th>\n",
       "        </tr>\n",
       "    </thead>\n",
       "    <tbody>\n",
       "        <tr>\n",
       "            <td>Drosophila yakuba          </td> <td>Tai18E2   </td> <td>Insects      </td> <td>165.71   </td> <td>8123     </td> <td>16079</td> <td>23317   </td>\n",
       "        </tr>\n",
       "        <tr>\n",
       "            <td>Homo sapiens               </td> <td>nan       </td> <td>Mammals      </td> <td>3231.3   </td> <td>801      </td> <td>56201</td> <td>102633  </td>\n",
       "        </tr>\n",
       "        <tr>\n",
       "            <td>Caenorhabditis briggsae    </td> <td>AF16      </td> <td>Roundworms   </td> <td>108.384  </td> <td>638      </td> <td>22736</td> <td>21959   </td>\n",
       "        </tr>\n",
       "        <tr>\n",
       "            <td>Caenorhabditis elegans     </td> <td>Bristol N2</td> <td>Roundworms   </td> <td>100.286  </td> <td>7        </td> <td>46711</td> <td>27943   </td>\n",
       "        </tr>\n",
       "        <tr>\n",
       "            <td>Anopheles gambiae str. PEST</td> <td>PEST      </td> <td>Insects      </td> <td>265.027  </td> <td>8145     </td> <td>13184</td> <td>14099   </td>\n",
       "        </tr>\n",
       "        <tr>\n",
       "            <td>Drosophila melanogaster    </td> <td>nan       </td> <td>Insects      </td> <td>143.726  </td> <td>1870     </td> <td>17651</td> <td>30443   </td>\n",
       "        </tr>\n",
       "        <tr>\n",
       "            <td>Apis mellifera             </td> <td>DH4       </td> <td>Insects      </td> <td>250.287  </td> <td>5645     </td> <td>13401</td> <td>21777   </td>\n",
       "        </tr>\n",
       "        <tr>\n",
       "            <td>Danio rerio                </td> <td>Tuebingen </td> <td>Fishes       </td> <td>1371.72  </td> <td>3399     </td> <td>39803</td> <td>47861   </td>\n",
       "        </tr>\n",
       "        <tr>\n",
       "            <td>Mus musculus               </td> <td>C57BL/6J  </td> <td>Mammals      </td> <td>2803.57  </td> <td>293      </td> <td>48855</td> <td>78065   </td>\n",
       "        </tr>\n",
       "        <tr>\n",
       "            <td>Ciona intestinalis         </td> <td>nan       </td> <td>Other Animals</td> <td>115.227  </td> <td>1280     </td> <td>14983</td> <td>15438   </td>\n",
       "        </tr>\n",
       "    </tbody>\n",
       "</table>\n",
       "<p>... (51 rows omitted)</p>"
      ],
      "text/plain": [
       "Organism/Name               | Strain     | SubGroup      | Size (Mb) | Scaffolds | Genes | Proteins\n",
       "Drosophila yakuba           | Tai18E2    | Insects       | 165.71    | 8123      | 16079 | 23317\n",
       "Homo sapiens                | nan        | Mammals       | 3231.3    | 801       | 56201 | 102633\n",
       "Caenorhabditis briggsae     | AF16       | Roundworms    | 108.384   | 638       | 22736 | 21959\n",
       "Caenorhabditis elegans      | Bristol N2 | Roundworms    | 100.286   | 7         | 46711 | 27943\n",
       "Anopheles gambiae str. PEST | PEST       | Insects       | 265.027   | 8145      | 13184 | 14099\n",
       "Drosophila melanogaster     | nan        | Insects       | 143.726   | 1870      | 17651 | 30443\n",
       "Apis mellifera              | DH4        | Insects       | 250.287   | 5645      | 13401 | 21777\n",
       "Danio rerio                 | Tuebingen  | Fishes        | 1371.72   | 3399      | 39803 | 47861\n",
       "Mus musculus                | C57BL/6J   | Mammals       | 2803.57   | 293       | 48855 | 78065\n",
       "Ciona intestinalis          | nan        | Other Animals | 115.227   | 1280      | 14983 | 15438\n",
       "... (51 rows omitted)"
      ]
     },
     "execution_count": 3,
     "metadata": {},
     "output_type": "execute_result"
    }
   ],
   "source": [
    "# We can see the whole table with the table_name.show() command. table_name will show the first 10 rows. Try it out!\n",
    "# table_name.show()\n",
    "\n",
    "#model_species\n",
    "#model_species.show()"
   ]
  },
  {
   "cell_type": "code",
   "execution_count": null,
   "metadata": {},
   "outputs": [],
   "source": [
    "# Let's rank organisms by their genome size. To sort the table, \n",
    "# use table_name.sort('Column_name').show()\n",
    "# to sort in descending order, use the additional option like so: \n",
    "# table_name.sort('Column_name', descending = True).show()\n",
    "# Try both ways out\n",
    "\n",
    "#model_species.sort('Size').show()\n",
    "#model_species.sort('Size',descending = True).show()"
   ]
  },
  {
   "cell_type": "code",
   "execution_count": null,
   "metadata": {},
   "outputs": [],
   "source": [
    "# Can we extract just the organisms with more than 60,000 genes? This is the rough number that humans have. \n",
    "# This is done by table_name.where(table_name['Column_name'] ~ condition). \n",
    "# ~ in the above is the operator for the condition. In this case, it's > for greater than\n",
    "\n",
    "#model_species.where(model_species['Genes'] > 60000)"
   ]
  },
  {
   "cell_type": "markdown",
   "metadata": {},
   "source": [
    "## Let's compare the genome sizes of some animal species"
   ]
  },
  {
   "cell_type": "code",
   "execution_count": null,
   "metadata": {},
   "outputs": [],
   "source": [
    "# Load animal information. Name the table animals\n",
    "# See Cell 2 for a hint\n",
    "# filename is https://raw.githubusercontent.com/ds-connectors/Data88-Genetics_and_Genomics/master/animals.csv\n",
    "\n",
    "#animals = Table.read_table('https://raw.githubusercontent.com/shishiluo/Genomics-DataScience/master/data/animals.csv')"
   ]
  },
  {
   "cell_type": "code",
   "execution_count": null,
   "metadata": {
    "scrolled": false
   },
   "outputs": [],
   "source": [
    "# Display full table. How many organisms does it have? Hint: Table.num_rows\n",
    "# See Cell 3 if you need a hint\n",
    "\n",
    "#animals.num_rows\n",
    "#animals.sort('Genes', descending = False).show()"
   ]
  },
  {
   "cell_type": "markdown",
   "metadata": {},
   "source": [
    "With so many organisms, it can be hard to interpret the table. Histograms are a great way to visualize the distribution of a quantity of interest."
   ]
  },
  {
   "cell_type": "code",
   "execution_count": null,
   "metadata": {},
   "outputs": [],
   "source": [
    "# Histogram of genome sizes (in megabases)\n",
    "# object.hist('column_name', bins = b, normed = n)\n",
    "# b gives the number of bins in the histogram\n",
    "# n is either True or False for whether bin heights should be normalized by number of observations\n",
    "# Choose 20 bins and normed = False\n",
    "\n",
    "#animals.hist('Size (Mb)', bins = 20, normed = False)"
   ]
  },
  {
   "cell_type": "code",
   "execution_count": null,
   "metadata": {},
   "outputs": [],
   "source": [
    "# Histograms of genome sizes split by subgroup (aka pivot histograms)\n",
    "# Let's normalize by frequency here because each group may have a different number of \n",
    "# object.hist('column_name', group = variable_to_group_by, bins = b, normed = n)\n",
    "\n",
    "#animals.hist('Size (Mb)', group = 'SubGroup', \n",
    "#                   normed=True, orientation='vertical')"
   ]
  },
  {
   "cell_type": "code",
   "execution_count": null,
   "metadata": {},
   "outputs": [],
   "source": [
    "# Scatterplot of proteins vs. genes in animals\n",
    "# Number of proteins on Y axis, number of genes on X axis\n",
    "# object.scatter('X_column', 'Y_column')\n",
    "\n",
    "#animals.scatter('Genes', 'Proteins')"
   ]
  },
  {
   "cell_type": "code",
   "execution_count": null,
   "metadata": {},
   "outputs": [],
   "source": [
    "# Repeat above but for genome size on X axis and number of genes on Y axis\n",
    "# Does anything look out of place?\n",
    "\n",
    "#animals.scatter('Size (Mb)', 'Genes')"
   ]
  },
  {
   "cell_type": "markdown",
   "metadata": {},
   "source": [
    "## Let's repeat this analysis but for plants"
   ]
  },
  {
   "cell_type": "code",
   "execution_count": null,
   "metadata": {},
   "outputs": [],
   "source": [
    "# Load table containing data for plant species"
   ]
  },
  {
   "cell_type": "code",
   "execution_count": null,
   "metadata": {},
   "outputs": [],
   "source": [
    "# Display full table"
   ]
  },
  {
   "cell_type": "code",
   "execution_count": null,
   "metadata": {},
   "outputs": [],
   "source": [
    "# Histogram of genome sizes"
   ]
  },
  {
   "cell_type": "code",
   "execution_count": null,
   "metadata": {},
   "outputs": [],
   "source": [
    "# Make a pivot histogram of different types of plants"
   ]
  },
  {
   "cell_type": "code",
   "execution_count": null,
   "metadata": {},
   "outputs": [],
   "source": [
    "# Make scatterplots of 1) the number of genes vs the genome size and 2) the number of proteins vs number of genes"
   ]
  },
  {
   "cell_type": "code",
   "execution_count": null,
   "metadata": {},
   "outputs": [],
   "source": [
    "# For each of the two scatterplots, compute the correlations between the measured variables"
   ]
  },
  {
   "cell_type": "markdown",
   "metadata": {},
   "source": [
    "## Now compare plants and animals"
   ]
  },
  {
   "cell_type": "code",
   "execution_count": null,
   "metadata": {},
   "outputs": [],
   "source": [
    "# Make a pivot histogram comparing the genome sizes and number of genes in plants and animals.\n",
    "# What can you say about the respective distributions?\n",
    "\n",
    "# Need to add code to merge tables once plant table is made\n",
    "\n",
    "#merged.hist('Genes', group = 'Type', \n",
    "#                   normed=True, orientation='vertical')"
   ]
  },
  {
   "cell_type": "code",
   "execution_count": null,
   "metadata": {},
   "outputs": [],
   "source": [
    "# Compute the mean and standard deviation \n",
    "# Use np.mean(table['variable_name'])\n",
    "# replace mean with std for standard deviation\n",
    "\n",
    "#np.mean(animals['Genes'])\n",
    "#np.std(animals['Genes'])"
   ]
  },
  {
   "cell_type": "markdown",
   "metadata": {},
   "source": [
    "# \"Bonus\" exercises"
   ]
  },
  {
   "cell_type": "code",
   "execution_count": null,
   "metadata": {},
   "outputs": [],
   "source": [
    "# Load table of species data for different kingdoms (plus viruses)"
   ]
  },
  {
   "cell_type": "code",
   "execution_count": null,
   "metadata": {},
   "outputs": [],
   "source": [
    "# Make a pivot histogram which displays the number of genes for each kingdom"
   ]
  },
  {
   "cell_type": "code",
   "execution_count": null,
   "metadata": {},
   "outputs": [],
   "source": [
    "# Make a pivot histogram of the genome density (genes / size) across the species in this table"
   ]
  }
 ],
 "metadata": {
  "kernelspec": {
   "display_name": "Python 3",
   "language": "python",
   "name": "python3"
  },
  "language_info": {
   "codemirror_mode": {
    "name": "ipython",
    "version": 3
   },
   "file_extension": ".py",
   "mimetype": "text/x-python",
   "name": "python",
   "nbconvert_exporter": "python",
   "pygments_lexer": "ipython3",
   "version": "3.7.3"
  }
 },
 "nbformat": 4,
 "nbformat_minor": 2
}
