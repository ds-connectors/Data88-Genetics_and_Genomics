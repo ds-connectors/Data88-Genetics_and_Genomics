{
 "cells": [
  {
   "cell_type": "markdown",
   "metadata": {},
   "source": [
    "### Data 88: Data Science for Genetics and Genomics - 09/17/19\n",
    "\n",
    "# *Lab 1 - Comparative Genomics with EDA*\n",
    "\n",
    "### by Jonathan Fischer (adapted in part from work by Shishi Luo) "
   ]
  },
  {
   "cell_type": "code",
   "execution_count": null,
   "metadata": {},
   "outputs": [],
   "source": [
    "# Import the necessary modules\n",
    "from datascience import *\n",
    "%matplotlib inline\n",
    "import matplotlib.pyplot as plt\n",
    "import numpy as np\n",
    "plt.style.use('fivethirtyeight')"
   ]
  },
  {
   "cell_type": "markdown",
   "metadata": {},
   "source": [
    "## Let's explore genome sizes for some commonly studied organisms"
   ]
  },
  {
   "cell_type": "code",
   "execution_count": null,
   "metadata": {},
   "outputs": [],
   "source": [
    "# Load table of representatives for each kingdom\n",
    "# name your table model_species\n",
    "# table_name = Table.read_table('filename')\n",
    "# filename = https://raw.githubusercontent.com/shishiluo/Genomics-DataScience/master/data/model_species.csv\n",
    "\n",
    "#model_species = Table.read_table('https://raw.githubusercontent.com/shishiluo/Genomics-DataScience/master/data/model_species.csv')"
   ]
  },
  {
   "cell_type": "code",
   "execution_count": null,
   "metadata": {},
   "outputs": [],
   "source": [
    "# We can see the whole table with the table_name.show() command. table_name will show the first 10 rows. Try it out!\n",
    "# table_name.show()\n",
    "\n",
    "#model_species\n",
    "#model_species.show()"
   ]
  },
  {
   "cell_type": "code",
   "execution_count": null,
   "metadata": {},
   "outputs": [],
   "source": [
    "# Let's rank organisms by their genome size. To sort the table, \n",
    "# use table_name.sort('Column_name').show()\n",
    "# to sort in descending order, use the additional option like so: \n",
    "# table_name.sort('Column_name', descending = True).show()\n",
    "# Try both ways out\n",
    "\n",
    "#model_species.sort('Size').show()\n",
    "#model_species.sort('Size',descending = True).show()"
   ]
  },
  {
   "cell_type": "code",
   "execution_count": null,
   "metadata": {},
   "outputs": [],
   "source": [
    "# Can we extract just the organisms with more than 60,000 genes? This is the rough number that humans have. \n",
    "# This is done by table_name.where(table_name['Column_name'] ~ condition). \n",
    "# ~ in the above is the operator for the condition. In this case, it's > for greater than\n",
    "\n",
    "#model_species.where(model_species['Genes'] > 60000)"
   ]
  },
  {
   "cell_type": "markdown",
   "metadata": {},
   "source": [
    "## Let's compare the genome sizes of some animal species"
   ]
  },
  {
   "cell_type": "code",
   "execution_count": null,
   "metadata": {},
   "outputs": [],
   "source": [
    "# Load animal information. Name the table animals\n",
    "# See Cell 2 for a hint\n",
    "# filename is https://raw.githubusercontent.com/shishiluo/Genomics-DataScience/master/data/animals.csv\n",
    "\n",
    "#animals = Table.read_table('https://raw.githubusercontent.com/shishiluo/Genomics-DataScience/master/data/animals.csv')"
   ]
  },
  {
   "cell_type": "code",
   "execution_count": null,
   "metadata": {
    "scrolled": false
   },
   "outputs": [],
   "source": [
    "# Display full table. How many organisms does it have? Hint: Table.num_rows\n",
    "# See Cell 3 if you need a hint\n",
    "\n",
    "#animals.num_rows\n",
    "animals.sort('Genes', descending = False).show()"
   ]
  },
  {
   "cell_type": "markdown",
   "metadata": {},
   "source": [
    "With so many organisms, it can be hard to interpret the table. Histograms are a great way to visualize the distribution of a quantity of interest."
   ]
  },
  {
   "cell_type": "code",
   "execution_count": null,
   "metadata": {},
   "outputs": [],
   "source": [
    "# Histogram of genome sizes (in megabases)\n",
    "# object.hist('column_name', bins = b, normed = n)\n",
    "# b gives the number of bins in the histogram\n",
    "# n is either True or False for whether bin heights should be normalized by number of observations\n",
    "# Choose 20 bins and normed = False\n",
    "\n",
    "#animals.hist('Size (Mb)', bins = 20, normed = False)"
   ]
  },
  {
   "cell_type": "code",
   "execution_count": null,
   "metadata": {},
   "outputs": [],
   "source": [
    "# Histograms of genome sizes split by subgroup (aka pivot histograms)\n",
    "# Let's normalize by frequency here because each group may have a different number of \n",
    "# object.hist('column_name', group = variable_to_group_by, bins = b, normed = n)\n",
    "\n",
    "#animals.hist('Size (Mb)', group = 'SubGroup', \n",
    "#                   normed=True, orientation='vertical')"
   ]
  },
  {
   "cell_type": "code",
   "execution_count": null,
   "metadata": {},
   "outputs": [],
   "source": [
    "# Scatterplot of proteins vs. genes in animals\n",
    "# Number of proteins on Y axis, number of genes on X axis\n",
    "# object.scatter('X_column', 'Y_column')\n",
    "\n",
    "#animals.scatter('Genes', 'Proteins')"
   ]
  },
  {
   "cell_type": "code",
   "execution_count": null,
   "metadata": {},
   "outputs": [],
   "source": [
    "# Repeat above but for genome size on X axis and number of genes on Y axis\n",
    "# Does anything look out of place?\n",
    "\n",
    "#animals.scatter('Size (Mb)', 'Genes')"
   ]
  },
  {
   "cell_type": "markdown",
   "metadata": {},
   "source": [
    "## Let's repeat this analysis but for plants"
   ]
  },
  {
   "cell_type": "code",
   "execution_count": null,
   "metadata": {},
   "outputs": [],
   "source": [
    "# Load table containing data for plant species"
   ]
  },
  {
   "cell_type": "code",
   "execution_count": null,
   "metadata": {},
   "outputs": [],
   "source": [
    "# Display full table"
   ]
  },
  {
   "cell_type": "code",
   "execution_count": null,
   "metadata": {},
   "outputs": [],
   "source": [
    "# Histogram of genome sizes"
   ]
  },
  {
   "cell_type": "code",
   "execution_count": null,
   "metadata": {},
   "outputs": [],
   "source": [
    "# Make a pivot histogram of different types of plants"
   ]
  },
  {
   "cell_type": "code",
   "execution_count": null,
   "metadata": {},
   "outputs": [],
   "source": [
    "# Make scatterplots of 1) the number of genes vs the genome size and 2) the number of proteins vs number of genes"
   ]
  },
  {
   "cell_type": "code",
   "execution_count": null,
   "metadata": {},
   "outputs": [],
   "source": [
    "# For each of the two scatterplots, compute the correlations between the measured variables"
   ]
  },
  {
   "cell_type": "markdown",
   "metadata": {},
   "source": [
    "## Now compare plants and animals"
   ]
  },
  {
   "cell_type": "code",
   "execution_count": null,
   "metadata": {},
   "outputs": [],
   "source": [
    "# Make a pivot histogram comparing the genome sizes and number of genes in plants and animals.\n",
    "# What can you say about the respective distributions?\n",
    "\n",
    "# Need to add code to merge tables once plant table is made\n",
    "\n",
    "#merged.hist('Genes', group = 'Type', \n",
    "#                   normed=True, orientation='vertical')"
   ]
  },
  {
   "cell_type": "code",
   "execution_count": null,
   "metadata": {},
   "outputs": [],
   "source": [
    "# Compute the mean and standard deviation \n",
    "# Use np.mean(table['variable_name'])\n",
    "# replace mean with std for standard deviation\n",
    "\n",
    "#np.mean(animals['Genes'])\n",
    "#np.std(animals['Genes'])"
   ]
  },
  {
   "cell_type": "markdown",
   "metadata": {},
   "source": [
    "# \"Bonus\" exercises"
   ]
  },
  {
   "cell_type": "code",
   "execution_count": null,
   "metadata": {},
   "outputs": [],
   "source": [
    "# Load table of species data for different kingdoms (plus viruses)"
   ]
  },
  {
   "cell_type": "code",
   "execution_count": null,
   "metadata": {},
   "outputs": [],
   "source": [
    "# Make a pivot histogram which displays the number of genes for each kingdom"
   ]
  },
  {
   "cell_type": "code",
   "execution_count": null,
   "metadata": {},
   "outputs": [],
   "source": [
    "# Make a pivot histogram of the genome density (genes / size) across the species in this table"
   ]
  }
 ],
 "metadata": {
  "kernelspec": {
   "display_name": "Python 3",
   "language": "python",
   "name": "python3"
  },
  "language_info": {
   "codemirror_mode": {
    "name": "ipython",
    "version": 3
   },
   "file_extension": ".py",
   "mimetype": "text/x-python",
   "name": "python",
   "nbconvert_exporter": "python",
   "pygments_lexer": "ipython3",
   "version": "3.7.3"
  }
 },
 "nbformat": 4,
 "nbformat_minor": 2
}
