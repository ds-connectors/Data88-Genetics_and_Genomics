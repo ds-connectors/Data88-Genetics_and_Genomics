{
 "cells": [
  {
   "cell_type": "markdown",
   "metadata": {},
   "source": [
    "# Data cleaning and pre-processing\n",
    "### by Jonathan Fischer and Sasha Yousefi"
   ]
  },
  {
   "cell_type": "code",
   "execution_count": null,
   "metadata": {},
   "outputs": [],
   "source": [
    "# Load the necessary modules\n",
    "from datascience import *\n",
    "import numpy as np\n",
    "import matplotlib\n",
    "%matplotlib inline\n",
    "import matplotlib.pyplot as plt\n",
    "import scipy.stats as stats\n",
    "plt.style.use('fivethirtyeight')\n",
    "import pandas as pd\n",
    "import sklearn\n",
    "from sklearn.preprocessing import StandardScaler\n",
    "from sklearn.decomposition import PCA\n",
    "from sklearn.preprocessing import scale\n",
    "from client.api.notebook import Notebook"
   ]
  },
  {
   "cell_type": "markdown",
   "metadata": {},
   "source": [
    "## Normalization"
   ]
  },
  {
   "cell_type": "markdown",
   "metadata": {},
   "source": [
    "### Raw data"
   ]
  },
  {
   "cell_type": "code",
   "execution_count": null,
   "metadata": {},
   "outputs": [],
   "source": [
    "# Load data using pd.read_csv('file_name', sep = ' ')\n",
    "# matrix should be 5000 genes x 20 samples\n",
    "# file name is https://raw.githubusercontent.com/ds-connectors/Data88-Genetics_and_Genomics/master/Lab02/data_norm.csv\n",
    "\n",
    "raw_data = pd.read_csv('https://raw.githubusercontent.com/ds-connectors/Data88-Genetics_and_Genomics/master/Lab02/data_norm.csv', sep = ' ')"
   ]
  },
  {
   "cell_type": "markdown",
   "metadata": {},
   "source": [
    "Let's say the first 10 columns are samples from healthy patients and the last ten from patients with an illness. We can assume that samples from the same condition should be similar to one another. To start, we can see whether they have similar numbers of total reads."
   ]
  },
  {
   "cell_type": "code",
   "execution_count": null,
   "metadata": {},
   "outputs": [],
   "source": [
    "# First, take the sum of each column. np.sum(df) does this by default for a data frame df\n",
    "total_counts = np.sum(raw_data)\n",
    "\n",
    "# Make a barplot of the total number of reads in each sample for the healthy patients to investigate whether\n",
    "# they have similar numbers of total reads.\n",
    "# To the right of each line there is a #. Please fill in with what you think each line of the code does\n",
    "\n",
    "bars = list(raw_data.columns)                    #\n",
    "y_pos = np.arange(len(bars))                     #\n",
    "col_list = ['Black']*10 + ['Red']*10             #\n",
    "\n",
    "plt.figure(figsize=(12,6))                       #\n",
    "plt.bar(y_pos, total_counts, color = col_list)   #\n",
    "plt.xticks(y_pos, bars)                          #\n",
    "plt.title('Without normalization')               #\n",
    "plt.xlabel('Sample')                             #\n",
    "plt.ylabel('Total reads')                        #\n",
    "plt.show()                                       #"
   ]
  },
  {
   "cell_type": "markdown",
   "metadata": {},
   "source": [
    "Let's see the effect of not normalizing on our ability to characterize differences in the gene expression profiles of healthy and sick patients. Since I created these, I can tell you that the overall median FC should be around 0."
   ]
  },
  {
   "cell_type": "code",
   "execution_count": null,
   "metadata": {},
   "outputs": [],
   "source": [
    "# First, compute the mean of each gene within healthy and sick individuals\n",
    "healthy_means_raw = np.mean(raw_data.iloc[:,0:10], axis = 1)\n",
    "sick_means_raw = np.mean(raw_data.iloc[:,10:20], axis = 1)"
   ]
  },
  {
   "cell_type": "code",
   "execution_count": null,
   "metadata": {},
   "outputs": [],
   "source": [
    "# Now that we have a single vector for each condition, make a histogram of the log2 fold changes between them\n",
    "# We'll eventually compare this to what we get after normalization\n",
    "raw_fc = np.log2(sick_means_raw+1) - np.log2(healthy_means_raw+1)\n",
    "raw_fc.hist(bins = 100, density = True)\n",
    "\n",
    "plt.title('Without normalization') \n",
    "plt.xlabel('Log2 Fold Changes')\n",
    "plt.ylabel('Density')\n",
    "plt.show()"
   ]
  },
  {
   "cell_type": "markdown",
   "metadata": {},
   "source": [
    "### Transcripts per Million"
   ]
  },
  {
   "cell_type": "markdown",
   "metadata": {},
   "source": [
    "A common normalization is to divide by some scaling factor which is proportional to the total number of reads in a sample. This has fallen out of favor a bit, and we'll see why."
   ]
  },
  {
   "cell_type": "code",
   "execution_count": null,
   "metadata": {},
   "outputs": [],
   "source": [
    "# Normalize the data using the Transcripts per Million (TPM) approach. \n",
    "# That is, divide each column by its sum and multiply by one million\n",
    "\n",
    "TPM_data = raw_data / total_counts * 1e6"
   ]
  },
  {
   "cell_type": "code",
   "execution_count": null,
   "metadata": {},
   "outputs": [],
   "source": [
    "# Repeat the histogram by taking means and displaying the log2 FCs between conditions after TPM normalization\n",
    "healthy_means_TPM = np.mean(TPM_data.iloc[:,0:10], axis = 1)\n",
    "sick_means_TPM = np.mean(TPM_data.iloc[:,10:20], axis = 1)\n",
    "\n",
    "# Now that we have a single vector for each condition, make a histogram of the log2 fold changes between them\n",
    "# We'll eventually compare this to what we get after normalization\n",
    "TPM_fc = np.log2(sick_means_TPM+1) - np.log2(healthy_means_TPM+1)\n",
    "TPM_fc.hist(bins = 100, density = True)\n",
    "\n",
    "plt.title('After TPM normalization') \n",
    "plt.xlabel('Log2 Fold Changes')\n",
    "plt.ylabel('Density')\n",
    "plt.show()"
   ]
  },
  {
   "cell_type": "markdown",
   "metadata": {},
   "source": [
    "### Median normalization"
   ]
  },
  {
   "cell_type": "markdown",
   "metadata": {},
   "source": [
    "An alternative normalization is to use a scaling factor which is proportional to the median value in a sample. This avoids some of the pitfalls of TPM, though more sophisticated methods are usually better."
   ]
  },
  {
   "cell_type": "code",
   "execution_count": null,
   "metadata": {},
   "outputs": [],
   "source": [
    "# Normalize the data my dividing each column by its median and then multiplying by 1000\n",
    "medians = raw_data.median()\n",
    "MN_data = raw_data / medians * 1e3"
   ]
  },
  {
   "cell_type": "code",
   "execution_count": null,
   "metadata": {},
   "outputs": [],
   "source": [
    "# Repeat the histogram by taking means and displaying the log2 FCs between conditions after median normalization\n",
    "healthy_means_MN = np.mean(MN_data.iloc[:,0:10], axis = 1)\n",
    "sick_means_MN = np.mean(MN_data.iloc[:,10:20], axis = 1)\n",
    "\n",
    "# Now that we have a single vector for each condition, make a histogram of the log2 fold changes between them\n",
    "# We'll eventually compare this to what we get after normalization\n",
    "MN_fc = np.log2(sick_means_MN+1) - np.log2(healthy_means_MN+1)\n",
    "MN_fc.hist(bins = 100, density = True)\n",
    "\n",
    "plt.title('After median normalization') \n",
    "plt.xlabel('Log2 Fold Changes')\n",
    "plt.ylabel('Density')\n",
    "plt.show()"
   ]
  },
  {
   "cell_type": "markdown",
   "metadata": {},
   "source": [
    "## Outliers"
   ]
  },
  {
   "cell_type": "code",
   "execution_count": null,
   "metadata": {},
   "outputs": [],
   "source": [
    "# Load outlier data. Here we're initally assuming columns 1-10 are condition 1 and 11-25 are condition 2\n",
    "outlier_table = pd.read_csv('https://raw.githubusercontent.com/ds-connectors/Data88-Genetics_and_Genomics/master/Lab02/data_outlier.csv', sep = ' ')"
   ]
  },
  {
   "cell_type": "code",
   "execution_count": null,
   "metadata": {},
   "outputs": [],
   "source": [
    "# Compute number of genes with log2 FC >= 1 b/w conditions and plot a histogram of the log2 FCs\n",
    "cond1_means = np.mean(outlier_table.iloc[:,0:10], axis = 1)\n",
    "cond2_means = np.mean(outlier_table.iloc[:,10:26], axis = 1)\n",
    "\n",
    "outlier_fc = np.log2(cond2_means+1) - np.log2(cond1_means+1)\n",
    "DE_1 = np.sum(outlier_fc >= 1)\n",
    "\n",
    "outlier_fc.hist(bins = 100, density = True)\n",
    "plt.title('Without outlier detection') \n",
    "plt.xlabel('Log2 Fold Changes')\n",
    "plt.ylabel('Density')\n",
    "plt.show()"
   ]
  },
  {
   "cell_type": "code",
   "execution_count": null,
   "metadata": {},
   "outputs": [],
   "source": [
    "# Run PCA and put the top PCs into a data frame\n",
    "x = np.log2(outlier_table+1)\n",
    "x = StandardScaler().fit_transform(x.transpose())\n",
    "pca = PCA(n_components=5)\n",
    "principalComponents = pca.fit_transform(x)\n",
    "principalDf = pd.DataFrame(data = principalComponents\n",
    "             , columns = ['PC1', 'PC2', 'PC3', 'PC4', 'PC5'])"
   ]
  },
  {
   "cell_type": "code",
   "execution_count": null,
   "metadata": {},
   "outputs": [],
   "source": [
    "# Plot results of PCA and look for outliers\n",
    "col_list = ['Black']*10 + ['Red']*15\n",
    "plt.scatter(principalDf['PC1'], principalDf['PC2'], color = col_list)\n",
    "plt.xlabel('PC 1')\n",
    "plt.ylabel('PC 2')\n",
    "plt.show()"
   ]
  },
  {
   "cell_type": "code",
   "execution_count": null,
   "metadata": {},
   "outputs": [],
   "source": [
    "# Remove outliers. Now how many genes have abs log2 FC >= 1?\n",
    "to_keep = principalDf['PC1'] < 0\n",
    "\n",
    "to_keep.index = list(outlier_table.columns)\n",
    "outlier_clean = outlier_table.loc[:,to_keep]\n",
    "\n",
    "# Compute number of genes with log2 FC >= 1 b/w conditions and plot a histogram of the log2 FCs\n",
    "cond1_means_corrected = np.mean(outlier_clean.iloc[:,0:10], axis = 1)\n",
    "cond2_means_corrected = np.mean(outlier_clean.iloc[:,10:20], axis = 1)\n",
    "\n",
    "outlier_corrected_fc = np.log2(cond2_means_corrected+1) - np.log2(cond1_means_corrected+1)\n",
    "DE_2 = np.sum(outlier_corrected_fc >= 1)\n",
    "\n",
    "outlier_corrected_fc.hist(bins = 100, density = True)\n",
    "plt.title('With outlier detection') \n",
    "plt.xlabel('Log2 Fold Changes')\n",
    "plt.ylabel('Density')\n",
    "plt.show()"
   ]
  },
  {
   "cell_type": "markdown",
   "metadata": {},
   "source": [
    "## Confounders"
   ]
  },
  {
   "cell_type": "code",
   "execution_count": null,
   "metadata": {},
   "outputs": [],
   "source": [
    "# Load data and metadata for confounders\n",
    "confounder_data = pd.read_csv('https://raw.githubusercontent.com/ds-connectors/Data88-Genetics_and_Genomics/master/Lab02/data_confounders.csv', sep = ' ', header = None)\n",
    "confounder_meta = pd.read_csv('https://raw.githubusercontent.com/ds-connectors/Data88-Genetics_and_Genomics/master/Lab02/confounder_meta.csv', sep = ' ', header = None)"
   ]
  },
  {
   "cell_type": "code",
   "execution_count": null,
   "metadata": {},
   "outputs": [],
   "source": [
    "# Estimate FCs between age groups ('young' and 'old')\n",
    "young_ind = confounder_meta.iloc[1,:] == 'Young'\n",
    "old_ind = confounder_meta.iloc[1,:] == 'Old'\n",
    "\n",
    "young_mean = np.mean(confounder_data.loc[:, young_ind], axis = 1)\n",
    "old_mean = np.mean(confounder_data.loc[:, old_ind], axis = 1)\n",
    "\n",
    "age_fcs = np.log2(old_mean+1) - np.log2(young_mean+1)\n",
    "age_fcs.hist(bins = 100, density = True)\n",
    "\n",
    "plt.title('Old vs Young') \n",
    "plt.xlabel('Log2 Fold Changes')\n",
    "plt.ylabel('Density')\n",
    "plt.show()"
   ]
  },
  {
   "cell_type": "code",
   "execution_count": null,
   "metadata": {},
   "outputs": [],
   "source": [
    "# Compute FCs between age groups w/in each gender\n",
    "ym_boolean = (confounder_meta.iloc[1,:] == 'Young') & (confounder_meta.iloc[0,:] == 'Male')\n",
    "yf_boolean = (confounder_meta.iloc[1,:] == 'Young') & (confounder_meta.iloc[0,:] == 'Female')\n",
    "om_boolean = (confounder_meta.iloc[1,:] == 'Old') & (confounder_meta.iloc[0,:] == 'Male')\n",
    "of_boolean = (confounder_meta.iloc[1,:] == 'Old') & (confounder_meta.iloc[0,:] == 'Female')\n",
    "\n",
    "ym_mean = np.mean(confounder_data.loc[:, ym_boolean], axis = 1)\n",
    "yf_mean = np.mean(confounder_data.loc[:, yf_boolean], axis = 1)\n",
    "om_mean = np.mean(confounder_data.loc[:, om_boolean], axis = 1)\n",
    "of_mean = np.mean(confounder_data.loc[:, of_boolean], axis = 1)\n",
    "\n",
    "male_age_fcs = np.log2(om_mean+1) - np.log2(ym_mean+1)\n",
    "female_age_fcs = np.log2(of_mean+1) - np.log2(yf_mean+1)"
   ]
  },
  {
   "cell_type": "code",
   "execution_count": null,
   "metadata": {},
   "outputs": [],
   "source": [
    "# Construct a 2x2 table of the metadata frequencies \n",
    "# (young/old vs male/female)\n",
    "\n",
    "n_ym = np.sum(ym_boolean)\n",
    "n_yf = np.sum(yf_boolean)\n",
    "n_om = np.sum(om_boolean)\n",
    "n_of = np.sum(of_boolean)\n",
    "\n",
    "metadata_table = Table().with_columns([\n",
    "    '', ['Young', 'Old'],\n",
    "    'Male', [n_ym, n_yf],\n",
    "    'Female', [n_om, n_of],\n",
    "])"
   ]
  },
  {
   "cell_type": "code",
   "execution_count": null,
   "metadata": {
    "scrolled": true
   },
   "outputs": [],
   "source": [
    "# Load true age-related FCs (age_fc.txt)\n",
    "age_fc_true = np.log2(pd.read_csv('age_fc.csv', sep = ' ', header = None))"
   ]
  },
  {
   "cell_type": "code",
   "execution_count": null,
   "metadata": {},
   "outputs": [],
   "source": [
    "# Make plot of estiamted FCs for each cohort \n",
    "# (all, just men, just women) vs truth (put on same plot)\n",
    "\n",
    "plt.scatter(age_fc_true, age_fcs, color = 'black')\n",
    "plt.scatter(age_fc_true, male_age_fcs, color = 'blue')\n",
    "plt.scatter(age_fc_true, female_age_fcs, color = 'red')\n",
    "\n",
    "plt.title('Effect of Controlling for Confounders') \n",
    "plt.xlabel('True FCs')\n",
    "plt.ylabel('Estimated FCs')\n",
    "\n",
    "plt.show()"
   ]
  },
  {
   "cell_type": "markdown",
   "metadata": {},
   "source": [
    "# Putting it all together with real data"
   ]
  },
  {
   "cell_type": "markdown",
   "metadata": {},
   "source": [
    "We'll now work with real RNA-seq samples primarily drawn from mammary tissue. However, there are also several samples which are actually blood and would negatively impact the analysis. Metadata is provided which tells whether a sample comes from a male/female and young/old donor. All data come from the GTEx consortium."
   ]
  },
  {
   "cell_type": "code",
   "execution_count": null,
   "metadata": {},
   "outputs": [],
   "source": [
    "# Load raw data from GTEx. Will take a few seconds\n",
    "GTEx_data = pd.read_csv('https://raw.githubusercontent.com/ds-connectors/Data88-Genetics_and_Genomics/master/Lab02/GTEX_raw_mammary_blood.csv', sep = ' ')"
   ]
  },
  {
   "cell_type": "markdown",
   "metadata": {},
   "source": [
    "1) Compute the sum of total reads per sample. Remember to not include the index column when calculating (the last column). Then answer the question, will we need to normalize?"
   ]
  },
  {
   "cell_type": "code",
   "execution_count": null,
   "metadata": {},
   "outputs": [],
   "source": [
    "# Compute sum of reads\n",
    "GTEx_TC = np.sum(GTEx_data)\n",
    "\n",
    "# Make a barplot of the total number of reads\n",
    "y_pos = np.arange(len(GTEx_TC))\n",
    "plt.figure(figsize=(12,6))\n",
    "plt.bar(y_pos, GTEx_TC)\n",
    "plt.title('GTEx data without normalization') \n",
    "plt.xlabel('Sample')\n",
    "plt.ylabel('Total reads')\n",
    "plt.show()"
   ]
  },
  {
   "cell_type": "markdown",
   "metadata": {},
   "source": [
    "2) Filter out lowly expressed genes (genes where the means across all patients is < 100 reads). HINT: you are given the means for each gene across the table (GTEx_means). Use a truth table to keep certain rows within the table. "
   ]
  },
  {
   "cell_type": "code",
   "execution_count": null,
   "metadata": {},
   "outputs": [],
   "source": [
    "# Filter out lowly expressed genes (mean across samples <= 100)\n",
    "\n",
    "GTEx_means = np.mean(GTEx_data, axis = 1)\n",
    "sufficient_reads = GTEx_means > 100\n",
    "GTEx_filtered = GTEx_data.loc[sufficient_reads,:]"
   ]
  },
  {
   "cell_type": "markdown",
   "metadata": {},
   "source": [
    "3)  PCA to identify blood samples"
   ]
  },
  {
   "cell_type": "code",
   "execution_count": null,
   "metadata": {},
   "outputs": [],
   "source": [
    "# PCA to identify outliers\n",
    "\n",
    "# Run PCA and put the top PCs into a data frame\n",
    "x = np.log2(GTEx_filtered+1)\n",
    "x = StandardScaler().fit_transform(x.transpose())\n",
    "pca = PCA(n_components=5)\n",
    "principalComponents = pca.fit_transform(x)\n",
    "principalDf = pd.DataFrame(data = principalComponents\n",
    "             , columns = ['PC1', 'PC2', 'PC3', 'PC4', 'PC5'])"
   ]
  },
  {
   "cell_type": "code",
   "execution_count": null,
   "metadata": {},
   "outputs": [],
   "source": [
    "# Plot results of PCA and look for outliers\n",
    "plt.scatter(principalDf['PC1'], principalDf['PC2'])\n",
    "plt.xlabel('PC 1')\n",
    "plt.ylabel('PC 2')\n",
    "plt.show()"
   ]
  },
  {
   "cell_type": "markdown",
   "metadata": {},
   "source": [
    "4) Remove outliers"
   ]
  },
  {
   "cell_type": "code",
   "execution_count": null,
   "metadata": {},
   "outputs": [],
   "source": [
    "# Drop outliers\n",
    "to_keep = principalDf['PC1'] < 30\n",
    "\n",
    "to_keep.index = list(GTEx_filtered.columns)\n",
    "GTEx_clean = GTEx_filtered.loc[:,to_keep]"
   ]
  },
  {
   "cell_type": "markdown",
   "metadata": {},
   "source": [
    "5) Median normalization"
   ]
  },
  {
   "cell_type": "code",
   "execution_count": null,
   "metadata": {},
   "outputs": [],
   "source": [
    "# Normalize data using median approach\n",
    "\n",
    "medians = GTEx_clean.median()\n",
    "GTEx_MN = GTEx_clean / medians * 1e3"
   ]
  },
  {
   "cell_type": "markdown",
   "metadata": {},
   "source": [
    "6) Load metadata"
   ]
  },
  {
   "cell_type": "code",
   "execution_count": null,
   "metadata": {},
   "outputs": [],
   "source": [
    "GTEx_meta = pd.read_csv('https://raw.githubusercontent.com/ds-connectors/Data88-Genetics_and_Genomics/master/Lab02/GTEX_mammary_meta.csv', sep = ' ', header = None)\n",
    "GTEx_meta.index = ['Gender', 'Age']"
   ]
  },
  {
   "cell_type": "markdown",
   "metadata": {},
   "source": [
    "7) PCA, color points by gender"
   ]
  },
  {
   "cell_type": "code",
   "execution_count": null,
   "metadata": {},
   "outputs": [],
   "source": [
    "# Run PCA and put the top PCs into a data frame\n",
    "x = np.log2(GTEx_MN+1)\n",
    "x = StandardScaler().fit_transform(x.transpose())\n",
    "pca = PCA(n_components=5)\n",
    "principalComponents = pca.fit_transform(x)\n",
    "principalDf = pd.DataFrame(data = principalComponents\n",
    "             , columns = ['PC1', 'PC2', 'PC3', 'PC4', 'PC5'])\n",
    "\n",
    "male_ind = (GTEx_meta.iloc[0,:] == 1)\n",
    "female_ind = (GTEx_meta.iloc[0,:] == 2)\n",
    "\n",
    "plt.scatter(principalDf['PC1'][male_ind], principalDf['PC2'][male_ind], color = 'Blue')\n",
    "plt.scatter(principalDf['PC1'][female_ind], principalDf['PC2'][female_ind], color = 'Red')\n",
    "plt.xlabel('PC 1')\n",
    "plt.ylabel('PC 2')\n",
    "plt.legend(['Male', 'Female'])\n",
    "plt.show()"
   ]
  },
  {
   "cell_type": "markdown",
   "metadata": {},
   "source": [
    "8) Split np.log2(GTEx_MN+1) into tables for young and old women"
   ]
  },
  {
   "cell_type": "code",
   "execution_count": null,
   "metadata": {},
   "outputs": [],
   "source": [
    "x = np.log2(GTEx_MN+1)\n",
    "\n",
    "yw_ind = (GTEx_meta.iloc[0,:] == 2) & (GTEx_meta.iloc[1,:] <= 50)\n",
    "ow_ind = (GTEx_meta.iloc[0,:] == 2) & (GTEx_meta.iloc[1,:] > 50)\n",
    "\n",
    "yw_ind.index = list(x.columns)\n",
    "ow_ind.index = list(x.columns)\n",
    "\n",
    "GTEx_yw = np.log2(GTEx_MN+1).loc[:,yw_ind]\n",
    "GTEx_ow = np.log2(GTEx_MN+1).loc[:,ow_ind]"
   ]
  },
  {
   "cell_type": "markdown",
   "metadata": {},
   "source": [
    "9) Compute FCs between old (>50) and young (<= 50) women and make a histogram"
   ]
  },
  {
   "cell_type": "code",
   "execution_count": null,
   "metadata": {},
   "outputs": [],
   "source": [
    "age_fc_women = np.mean(GTEx_ow, axis = 1) - np.mean(GTEx_yw, axis = 1)\n",
    "age_fc_women.hist(bins = 100, density = True)\n",
    "plt.xlabel('Log2 FC')\n",
    "plt.ylabel('Density')\n",
    "plt.title('Old vs young women, mammary tissue')\n",
    "plt.show()"
   ]
  },
  {
   "cell_type": "markdown",
   "metadata": {},
   "source": [
    "## BONUS "
   ]
  },
  {
   "cell_type": "markdown",
   "metadata": {},
   "source": [
    "Compute the FCs between old and young men"
   ]
  },
  {
   "cell_type": "code",
   "execution_count": null,
   "metadata": {},
   "outputs": [],
   "source": [
    "ym_ind = (GTEx_meta.iloc[0,:] == 1) & (GTEx_meta.iloc[1,:] <= 50)\n",
    "om_ind = (GTEx_meta.iloc[0,:] == 1) & (GTEx_meta.iloc[1,:] > 50)\n",
    "\n",
    "ym_ind.index = list(x.columns)\n",
    "om_ind.index = list(x.columns)\n",
    "\n",
    "GTEx_ym = np.log2(GTEx_MN+1).loc[:,ym_ind]\n",
    "GTEx_om = np.log2(GTEx_MN+1).loc[:,om_ind]\n",
    "\n",
    "age_fc_men = np.mean(GTEx_om, axis = 1) - np.mean(GTEx_ym, axis = 1)\n",
    "age_fc_men.hist(bins = 100, density = True)\n",
    "plt.xlabel('Log2 FC')\n",
    "plt.ylabel('Density')\n",
    "plt.title('Old vs young men, mammary tissue')\n",
    "plt.show()"
   ]
  },
  {
   "cell_type": "markdown",
   "metadata": {},
   "source": [
    "Make a scatterplot of FCs for old/young men and old/young women. What is their correlation?"
   ]
  },
  {
   "cell_type": "code",
   "execution_count": null,
   "metadata": {
    "scrolled": true
   },
   "outputs": [],
   "source": [
    "#your answer here\n",
    "plt.scatter(age_fc_women, age_fc_men)\n",
    "plt.title('FCs w/ aging')\n",
    "plt.xlabel('Men')\n",
    "plt.ylabel('Women')\n",
    "plt.show()\n",
    "\n",
    "corrs = [stats.pearsonr(age_fc_women, age_fc_men)[0], stats.spearmanr(age_fc_women, age_fc_men)[0]]"
   ]
  },
  {
   "cell_type": "markdown",
   "metadata": {},
   "source": [
    "Implement DESeq2's normalization"
   ]
  },
  {
   "cell_type": "code",
   "execution_count": null,
   "metadata": {},
   "outputs": [],
   "source": [
    "# your answer here"
   ]
  },
  {
   "cell_type": "markdown",
   "metadata": {},
   "source": [
    "# To submit"
   ]
  },
  {
   "cell_type": "code",
   "execution_count": null,
   "metadata": {},
   "outputs": [],
   "source": [
    "ok = Notebook('Lab02_cleaning.ok')\n",
    "_ = ok.auth(inline=True)"
   ]
  },
  {
   "cell_type": "code",
   "execution_count": null,
   "metadata": {},
   "outputs": [],
   "source": [
    "# Submit the assignment.\n",
    "_ = ok.submit()"
   ]
  }
 ],
 "metadata": {
  "kernelspec": {
   "display_name": "Python 3",
   "language": "python",
   "name": "python3"
  },
  "language_info": {
   "codemirror_mode": {
    "name": "ipython",
    "version": 3
   },
   "file_extension": ".py",
   "mimetype": "text/x-python",
   "name": "python",
   "nbconvert_exporter": "python",
   "pygments_lexer": "ipython3",
   "version": "3.7.3"
  }
 },
 "nbformat": 4,
 "nbformat_minor": 2
}
