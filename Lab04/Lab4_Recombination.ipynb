{
 "cells": [
  {
   "cell_type": "markdown",
   "metadata": {},
   "source": [
    "# Exploring recombination through simulations\n",
    "### by Jonathan Fischer"
   ]
  },
  {
   "cell_type": "code",
   "execution_count": 6,
   "metadata": {},
   "outputs": [],
   "source": [
    "# Load modules\n",
    "from datascience import *\n",
    "import numpy as np\n",
    "import random\n",
    "import matplotlib\n",
    "%matplotlib inline\n",
    "import matplotlib.pyplot as plt\n",
    "from client.api.notebook import Notebook"
   ]
  },
  {
   "cell_type": "markdown",
   "metadata": {},
   "source": [
    "## 1"
   ]
  },
  {
   "cell_type": "code",
   "execution_count": null,
   "metadata": {},
   "outputs": [],
   "source": [
    "# Creates toy sequences to work with\n",
    "sequence_1 = 'A'*1000\n",
    "sequence_2 = 'B'*1000\n",
    "    \n",
    "# Write a function named recombine that models the recombination of two chromosomes. This function should \n",
    "# take two sequences at inputs and output an array of two strings after recombination\n",
    "\n",
    "def recombine(seq1, seq2, r = 3):\n",
    "    # Note that we're defining the recombination rate r for sequences of length 1000\n",
    "    \n",
    "    # Get the lengths of the sequences and make sure they're equal. If they do, proceed. If not, return\n",
    "    # a message saying the lengths don't match\n",
    "    \n",
    "    # Sample the number of recombination points (Hint: np.random.poisson(lam = ?)+1).\n",
    "    \n",
    "    # Sample the recombination point coordinates (Hint: random.sample(list(np.arange(?, ?)), ?))\n",
    "    \n",
    "    # Now sort the coordinates you've drawn and add the first and last locations to the vector\n",
    "    # (Hint: np.r_[?, np.sort(?), ?])\n",
    "    \n",
    "    # Initialize the output chromosomes\n",
    "    \n",
    "    # Iterate through the coordinates and fill in the outputs (i.e., for loop)\n",
    "    # (Hint: One solution would use modular division and an if/else statement to assign sequences)\n",
    "\n",
    "    # Store the outputs in an array (Hint: make_array(?, ?))\n"
   ]
  },
  {
   "cell_type": "markdown",
   "metadata": {},
   "source": [
    "## 2"
   ]
  },
  {
   "cell_type": "code",
   "execution_count": null,
   "metadata": {},
   "outputs": [],
   "source": [
    "# Here's a function that makes sequences for a set number of individuals and 2 populations. You can use\n",
    "# mine or write your own. This function takes the number of individuals, identity of individuals which are \n",
    "# in population 2, and length of the sequence and returns a list of arrays containing each individual's\n",
    "# chromosome pairs.\n",
    "\n",
    "def seq_maker(n_individuals, pop_2_indices, l = 1000):\n",
    "    pop_1 = '1' * l\n",
    "    pop_2 = '2' * l\n",
    "    ind_list = list()\n",
    "    for i in np.arange(n_individuals):\n",
    "        if i in pop_2_indices:\n",
    "            ind_list.append(make_array(pop_2, pop_2))\n",
    "        else:\n",
    "            ind_list.append(make_array(pop_1, pop_1))\n",
    "    return(ind_list)"
   ]
  },
  {
   "cell_type": "code",
   "execution_count": null,
   "metadata": {},
   "outputs": [],
   "source": [
    "# Write a function named inherited_chroms which takes two arrays of two chromosomes as arguments and yields\n",
    "# a pair of chromosomes that are obtained via recombination. Output should be an array of length two which\n",
    "# contains the two chromosomes.\n",
    "\n",
    "def inherited_chroms(parent1, parent2):\n",
    "    # apply your recombination function to parent 1\n",
    "    # apply your recombination function to parent 2\n",
    "    \n",
    "    # select which chromosome from each parent to inherit (hint: use random.choices(?, ?))\n",
    "    # store the chosen chromosomes in an array (hint: use make_array(?, ?))\n",
    "    # return this array\n",
    "    "
   ]
  },
  {
   "cell_type": "code",
   "execution_count": null,
   "metadata": {},
   "outputs": [],
   "source": [
    "# Here's a function that plots \"painted\" chromosomes for two populations. Feel free to use this or make your own.\n",
    "# The input is a length 2 array containing a pair of chromosome sequences.\n",
    "\n",
    "def paint_chroms(chroms):\n",
    "    l = len(chroms[0])\n",
    "    color_1 = list()\n",
    "    for i in chroms[0]:\n",
    "        if i == '1':\n",
    "            color_1.append('blue')\n",
    "        elif i == '2':\n",
    "            color_1.append('red')\n",
    "    color_2 = list()\n",
    "    for i in chroms[1]:\n",
    "        if i == '1':\n",
    "            color_2.append('blue')\n",
    "        elif i == '2':\n",
    "            color_2.append('red')\n",
    "    plt.scatter(np.arange(l), [1]*l, color = color_1)\n",
    "    plt.scatter(np.arange(l), [-1]*l, color = color_2)\n",
    "    plt.ylim(-2, 2)\n",
    "    plt.show()"
   ]
  },
  {
   "cell_type": "markdown",
   "metadata": {},
   "source": [
    "## 3"
   ]
  },
  {
   "cell_type": "code",
   "execution_count": 7,
   "metadata": {},
   "outputs": [],
   "source": [
    "# Write a function that models recombination from grandparents. The input should be a list of length-2 arrays,\n",
    "# each of which contains a pair of chromosomes.\n",
    "\n",
    "def grandparents_recomb(gp_list):\n",
    "    # create parent 1's chromosomes from gp_list[0] and gp_list[1]\n",
    "    # create parent 2's chromosomes from gp_list[2] and gp_list[3]\n",
    "    # create the child from parents 1 and 2\n",
    "    return(chroms)"
   ]
  },
  {
   "cell_type": "code",
   "execution_count": null,
   "metadata": {},
   "outputs": [],
   "source": [
    "# Run your function a few times (note that the result is random) and plot the results using paint_chroms.\n",
    "# You'll need to create the sequences for the grandparents and then use your function grandparents_recomb\n",
    "# Have grandparent 1 be from population 2 but the rest from population 1."
   ]
  },
  {
   "cell_type": "markdown",
   "metadata": {},
   "source": [
    "## 4"
   ]
  },
  {
   "cell_type": "code",
   "execution_count": null,
   "metadata": {},
   "outputs": [],
   "source": [
    "# Model recombination from great-grandparents. Inputs are two lists of chromosomes from grandparents.\n",
    "\n",
    "def greatgrandparents_recomb(gp_list_1, gp_list_2):\n",
    "    # create one parent from great-grandparents 0-3\n",
    "    # create other parent from great-grandparents 4-7\n",
    "    # creat offspring from these two parents\n",
    "    return(chroms)"
   ]
  },
  {
   "cell_type": "code",
   "execution_count": null,
   "metadata": {},
   "outputs": [],
   "source": [
    "# Run your function a few times and plot the results using paint_chroms.\n",
    "# You'll need to create the sequences for the great-grandparents and then use your function greatgrandparents_recomb\n",
    "# Have great-grandparents 0 and 3 be from population 2 but the rest from population 1."
   ]
  },
  {
   "cell_type": "markdown",
   "metadata": {},
   "source": [
    "## Optional"
   ]
  },
  {
   "cell_type": "code",
   "execution_count": null,
   "metadata": {},
   "outputs": [],
   "source": [
    "# Compare the average fraction of sequence from population 2 and the number of switch points as a \n",
    "# function of admixture generation.\n",
    "\n",
    "# Specifically, produce histograms of these quantities after 1000 runs of grandparents_recomb and \n",
    "# greatgrandparents_recomb\n",
    "\n",
    "# The fraction from population 2 is simply the number of 2's in the sequence\n",
    "# Switch points are where the sequence goes from population 1 to 2 (or vice versa)\n",
    "\n",
    "# You'll need to iterate and within each iteration 1) run your respective recombination simulators, \n",
    "# 2) compute and store the appropriate values, and 3) produce histograms of the stored quantities.\n",
    "# You should overlay the values when appropriate (e.g. fractions from grandparent/greatgrandparent and # switch points)"
   ]
  },
  {
   "cell_type": "markdown",
   "metadata": {},
   "source": [
    "## To submit"
   ]
  },
  {
   "cell_type": "code",
   "execution_count": null,
   "metadata": {},
   "outputs": [],
   "source": [
    "ok = Notebook('Lab04_recombination.ok')\n",
    "_ = ok.auth(inline=True)"
   ]
  },
  {
   "cell_type": "code",
   "execution_count": null,
   "metadata": {},
   "outputs": [],
   "source": [
    "# Submit the assignment.\n",
    "_ = ok.submit()"
   ]
  }
 ],
 "metadata": {
  "kernelspec": {
   "display_name": "Python 3",
   "language": "python",
   "name": "python3"
  },
  "language_info": {
   "codemirror_mode": {
    "name": "ipython",
    "version": 3
   },
   "file_extension": ".py",
   "mimetype": "text/x-python",
   "name": "python",
   "nbconvert_exporter": "python",
   "pygments_lexer": "ipython3",
   "version": "3.7.3"
  }
 },
 "nbformat": 4,
 "nbformat_minor": 2
}
