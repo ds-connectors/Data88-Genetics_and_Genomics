{
 "cells": [
  {
   "cell_type": "markdown",
   "metadata": {},
   "source": [
    "# Exploring recombination through simulations (solutions)\n",
    "### by Jonathan Fischer"
   ]
  },
  {
   "cell_type": "code",
   "execution_count": 1,
   "metadata": {},
   "outputs": [],
   "source": [
    "from datascience import *\n",
    "import numpy as np\n",
    "import random\n",
    "import matplotlib\n",
    "%matplotlib inline\n",
    "import matplotlib.pyplot as plt\n",
    "#plt.style.use('fivethirtyeight')\n",
    "#from client.api.notebook import Notebook"
   ]
  },
  {
   "cell_type": "code",
   "execution_count": 2,
   "metadata": {},
   "outputs": [
    {
     "data": {
      "text/plain": [
       "array(['AAAAAAAAAAAAAAAAAAAAAAAAAAAAAAAAAAAAAAAAAAAAAAAAAAAAAAAAAAAAAAAAAAAAAAAAAAAAAAAAAAAAAAAAAAAAAAAAAAAAAABBBBBBBBBBBBBBBBBBBBBBBBBBBBBBBBBBBBBBBBBBBBBBBBBBBBBBBBBBBBBBBBBBBBBBBBBBBBBBBBBBBBBBBBBBBBBBBBB',\n",
       "       'AAAAAAAAAAAAAAAAAAAAAAAAAAAAAAAAAAAAAAAAAAAAAAAAAAAAAAAAAAAAAAAAAAAAAAAAAAAAAAAAAAAAAAAAAAAAAAAAAAAABBAAAAAAAAAAAAAAAAAAAAAAAAAAAAAAAAAAAAAAAAAAAAAAAAAAAAAAAAAAAAAAAAAAAAAAAAAAAAAAAAAAAAAAAAAAAAAAAAA'],\n",
       "      dtype='<U199')"
      ]
     },
     "execution_count": 2,
     "metadata": {},
     "output_type": "execute_result"
    }
   ],
   "source": [
    "# Write a function that models the recombination of two chromosomes. \n",
    "\n",
    "# Get the length of the sequences and make sure they match\n",
    "# Set the recombination rate\n",
    "# Sample the number of recombination points\n",
    "# Sample the recombination point coordinates\n",
    "# Initialize the outputs\n",
    "# Iterate through the coordinates and fill in the outputs\n",
    "\n",
    "seq1 = 'A'*1000\n",
    "seq2 = 'B'*1000\n",
    "\n",
    "def recombine(seq1, seq2, r = 8):\n",
    "    l1 = len(seq1)\n",
    "    l2 = len(seq2)\n",
    "    if l1 == l2:\n",
    "        n_sites = np.random.poisson(lam = r*l1/1000) + 1\n",
    "        sites = random.sample(list(np.arange(1, l1-1)), n_sites)\n",
    "        sites = np.r_[0, np.sort(sites), l1-1]\n",
    "        l_s = len(sites)\n",
    "        out1 = ''\n",
    "        out2 = ''\n",
    "        for i in np.arange(0, l_s-1):\n",
    "            if i % 2 == 0:\n",
    "                out1 += seq1[sites[i]:sites[i+1]]\n",
    "                out2 += seq2[sites[i]:sites[i+1]]\n",
    "            elif i % 2 == 1:\n",
    "                out1 += seq2[sites[i]:sites[i+1]]\n",
    "                out2 += seq1[sites[i]:sites[i+1]]\n",
    "        return(make_array(out1, out2))\n",
    "    else:\n",
    "        return(\"Sequence lengths don't match\")\n",
    "    \n",
    "seq1 = 'A'*100 + 'B'*100\n",
    "seq2 = 'A'*100 + 'A'*100\n",
    "   \n",
    "recombine(seq1, seq2)\n"
   ]
  },
  {
   "cell_type": "code",
   "execution_count": 3,
   "metadata": {},
   "outputs": [],
   "source": [
    "# Write a function named inherited_chroms which takes two arrays of two chromosomes as arguments and yields\n",
    "# a pair of chromosomes that are obtained via recombination. Output should be an array of length two which\n",
    "# contains the two chromosomes.\n",
    "\n",
    "def inherited_chroms(parent1, parent2):\n",
    "    p1 = recombine(parent1[0], parent1[1])\n",
    "    p2 = recombine(parent2[0], parent2[1])\n",
    "    \n",
    "    to_inherit = random.choices([0,1], k = 2)\n",
    "    child_seqs = make_array(p1[to_inherit[0]], p2[to_inherit[1]])\n",
    "    return(child_seqs)"
   ]
  },
  {
   "cell_type": "code",
   "execution_count": 4,
   "metadata": {},
   "outputs": [],
   "source": [
    "# Here's a function that plots \"painted\" chromosomes for two populations. Feel free to use this or make your own.\n",
    "# The input is a length 2 array containing a pair of chromosome sequences.\n",
    "\n",
    "def paint_chroms(chroms):\n",
    "    l = len(chroms[0])\n",
    "    color_1 = list()\n",
    "    for i in chroms[0]:\n",
    "        if i == '1':\n",
    "            color_1.append('blue')\n",
    "        elif i == '2':\n",
    "            color_1.append('red')\n",
    "    color_2 = list()\n",
    "    for i in chroms[1]:\n",
    "        if i == '1':\n",
    "            color_2.append('blue')\n",
    "        elif i == '2':\n",
    "            color_2.append('red')\n",
    "    plt.scatter(np.arange(l), [1]*l, color = color_1)\n",
    "    plt.scatter(np.arange(l), [-1]*l, color = color_2)\n",
    "    plt.ylim(-2, 2)\n",
    "    plt.show()"
   ]
  },
  {
   "cell_type": "code",
   "execution_count": 5,
   "metadata": {},
   "outputs": [],
   "source": [
    "# Here's a function that makes sequences for a set number of individuals and 2 populations. You can use\n",
    "# mine or write your own. This function takes the number of individuals, identity of individuals which are \n",
    "# in population 2, and length of the sequence and returns a list of arrays containing each individual's\n",
    "# chromosome pairs.\n",
    "\n",
    "def seq_maker(n_individuals, pop_2_indices):\n",
    "    pop_1 = '1' * 1000\n",
    "    pop_2 = '2' * 1000\n",
    "    ind_list = list()\n",
    "    for i in np.arange(n_individuals):\n",
    "        if i in pop_2_indices:\n",
    "            ind_list.append(make_array(pop_2, pop_2))\n",
    "        else:\n",
    "            ind_list.append(make_array(pop_1, pop_1))\n",
    "    return(ind_list)\n"
   ]
  },
  {
   "cell_type": "code",
   "execution_count": 6,
   "metadata": {},
   "outputs": [],
   "source": [
    "# Write a function that models recombination from grandparents. The input should be a list of length-2 arrays,\n",
    "# each of which contains a pair of chromosomes.\n",
    "\n",
    "def grandparents_recomb(gp_list):\n",
    "    parent_1 = inherited_chroms(gp_list[0], gp_list[1])\n",
    "    parent_2 = inherited_chroms(gp_list[2], gp_list[3])\n",
    "    child = inherited_chroms(parent_1, parent_2)\n",
    "    return(child)"
   ]
  },
  {
   "cell_type": "code",
   "execution_count": 7,
   "metadata": {},
   "outputs": [],
   "source": [
    "# Model recombination from great-grandparents. Inputs are two lists of chromosomes from grandparents.\n",
    "\n",
    "def greatgrandparents_recomb(gp_list_1, gp_list_2):\n",
    "    c_1 = grandparents_recomb(gp_list_1)\n",
    "    c_2 = grandparents_recomb(gp_list_2)\n",
    "    gc_1 = inherited_chroms(c_1, c_2)\n",
    "    return(gc_1)"
   ]
  },
  {
   "cell_type": "code",
   "execution_count": 8,
   "metadata": {},
   "outputs": [],
   "source": [
    "# Generate sequences for grandparents and great-grandparents\n",
    "gp_list = seq_maker(4, [0])\n",
    "gp_list_1 = seq_maker(4, [0])\n",
    "gp_list_2 = seq_maker(4, [])"
   ]
  },
  {
   "cell_type": "code",
   "execution_count": 9,
   "metadata": {},
   "outputs": [
    {
     "data": {
      "image/png": "[encoded data removed]",
      "text/plain": [
       "<Figure size 432x288 with 1 Axes>"
      ]
     },
     "metadata": {
      "needs_background": "light"
     },
     "output_type": "display_data"
    }
   ],
   "source": [
    "# Example of the grandchild's chromosomes\n",
    "gc_1 = grandparents_recomb(gp_list)\n",
    "paint_chroms(gc_1)"
   ]
  },
  {
   "cell_type": "code",
   "execution_count": 10,
   "metadata": {},
   "outputs": [
    {
     "data": {
      "image/png": "[encoded data removed]",
      "text/plain": [
       "<Figure size 432x288 with 1 Axes>"
      ]
     },
     "metadata": {
      "needs_background": "light"
     },
     "output_type": "display_data"
    }
   ],
   "source": [
    "# Example of the great-grandchild's chromosomes\n",
    "ggc_1 = greatgrandparents_recomb(gp_list_1, gp_list_2)\n",
    "paint_chroms(ggc_1)"
   ]
  },
  {
   "cell_type": "markdown",
   "metadata": {},
   "source": [
    "## Optional"
   ]
  },
  {
   "cell_type": "code",
   "execution_count": 15,
   "metadata": {},
   "outputs": [],
   "source": [
    "# Write a function to compute the average sequence from population 2 and the number of switches b/w populations\n",
    "# in the chromosomes of one individual\n",
    "def recomb_summary(chroms):\n",
    "    ct = 0\n",
    "    pts = 0\n",
    "    for x in chroms:\n",
    "        j = x[0]\n",
    "        for i in x:\n",
    "            ct += (i == '2')\n",
    "            pts += (i != j)\n",
    "            j = i\n",
    "    return([.5*ct/len(chroms[0]), pts])"
   ]
  },
  {
   "cell_type": "code",
   "execution_count": 16,
   "metadata": {},
   "outputs": [],
   "source": [
    "# Make sure the ancestry proportions are the same but occur at different generations.\n",
    "gp_list = seq_maker(4, [0])\n",
    "gp_list_1 = seq_maker(4, [0,2])\n",
    "gp_list_2 = seq_maker(4, [])\n",
    "\n",
    "summary_mat = np.zeros((1000,4))\n",
    "for i in np.arange(1000):\n",
    "    r_gp = recomb_summary(grandparents_recomb(gp_list))\n",
    "    r_ggp = recomb_summary(greatgrandparents_recomb(gp_list_1, gp_list_2))\n",
    "    summary_mat[i, 0] = r_gp[0]\n",
    "    summary_mat[i, 1] = r_ggp[0]\n",
    "    summary_mat[i, 2] = r_gp[1]\n",
    "    summary_mat[i, 3] = r_ggp[1]"
   ]
  },
  {
   "cell_type": "code",
   "execution_count": 17,
   "metadata": {},
   "outputs": [
    {
     "data": {
      "image/png": "[encoded data removed]",
      "text/plain": [
       "<Figure size 432x288 with 1 Axes>"
      ]
     },
     "metadata": {
      "needs_background": "light"
     },
     "output_type": "display_data"
    }
   ],
   "source": [
    "# Plot how much ancestry is inherited from Pop 2 for the two settings (admixture at grandparents or great-grandparents)\n",
    "plt.hist(summary_mat[:,0], alpha = 0.5, density = True, bins = 20)\n",
    "plt.hist(summary_mat[:,1], alpha = 0.5, density = True, bins = 20)\n",
    "plt.legend(['n_gen = 2', 'n_gen = 3'])\n",
    "plt.xlabel('Proportion')\n",
    "plt.ylabel('Density')\n",
    "plt.title('Proportion of sequence inherited from Pop 2')\n",
    "plt.show()"
   ]
  },
  {
   "cell_type": "code",
   "execution_count": 19,
   "metadata": {},
   "outputs": [
    {
     "data": {
      "image/png": "[encoded data removed]",
      "text/plain": [
       "<Figure size 432x288 with 1 Axes>"
      ]
     },
     "metadata": {
      "needs_background": "light"
     },
     "output_type": "display_data"
    }
   ],
   "source": [
    "# Plot number of switches between populations for the two settings (admixture at grandparents or great-grandparents)\n",
    "plt.hist(summary_mat[:,2], alpha = 0.5, density = True, bins = 15)\n",
    "plt.hist(summary_mat[:,3], alpha = 0.5, density = True, bins = 20)\n",
    "plt.legend(['n_gen = 2', 'n_gen = 3'])\n",
    "plt.xlabel('Count')\n",
    "plt.ylabel('Density')\n",
    "plt.title('Number of switches between populations')\n",
    "plt.show()"
   ]
  },
  {
   "cell_type": "code",
   "execution_count": null,
   "metadata": {},
   "outputs": [],
   "source": []
  }
 ],
 "metadata": {
  "kernelspec": {
   "display_name": "Python 3",
   "language": "python",
   "name": "python3"
  },
  "language_info": {
   "codemirror_mode": {
    "name": "ipython",
    "version": 3
   },
   "file_extension": ".py",
   "mimetype": "text/x-python",
   "name": "python",
   "nbconvert_exporter": "python",
   "pygments_lexer": "ipython3",
   "version": "3.7.3"
  }
 },
 "nbformat": 4,
 "nbformat_minor": 2
}
