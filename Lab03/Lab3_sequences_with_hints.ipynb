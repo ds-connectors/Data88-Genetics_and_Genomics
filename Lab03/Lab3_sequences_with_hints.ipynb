{
 "cells": [
  {
   "cell_type": "markdown",
   "metadata": {},
   "source": [
    "# Sequences Lab"
   ]
  },
  {
   "cell_type": "markdown",
   "metadata": {},
   "source": [
    "### by Jonathan Fischer and Courtney Rauchman"
   ]
  },
  {
   "cell_type": "code",
   "execution_count": 10,
   "metadata": {},
   "outputs": [],
   "source": [
    "from datascience import *\n",
    "import numpy as np\n",
    "import seaborn as sns\n",
    "import matplotlib\n",
    "%matplotlib inline\n",
    "import matplotlib.pyplot as plt\n",
    "from scipy.stats import multivariate_normal\n",
    "import scipy.stats as stats\n",
    "import scipy as scipy\n",
    "import pandas as pd\n",
    "plt.style.use('fivethirtyeight')\n",
    "#from client.api.notebook import Notebook"
   ]
  },
  {
   "cell_type": "markdown",
   "metadata": {},
   "source": [
    "## Reference Assembly"
   ]
  },
  {
   "cell_type": "code",
   "execution_count": 11,
   "metadata": {},
   "outputs": [],
   "source": [
    "# Let's imagine we've performed an experiment and obtained the set of 8 reads below. We happen to know \n",
    "# that these correspond to the coding sequence of a gene of length 45 nucleotides.\n",
    "\n",
    "reads = ['ATGCTAGAAA','GGAGACTGCT','AGTTAGTCAT','CCATAGCTGA',\n",
    " 'AGAAACGGCT','CGGCTAGTTA','CTGCTCCATA','GTCATGGAGA']"
   ]
  },
  {
   "cell_type": "code",
   "execution_count": 13,
   "metadata": {},
   "outputs": [],
   "source": [
    "# We want to use these reads to obtain the actual sequence of the entire gene. Let's assume that each read overlaps\n",
    "# with only one other by exactly 5 bp. These overlaps will be in the first and last 5 nt of each read.\n",
    "# By stitching these reads together, we can thus obtain the entire gene.\n",
    "\n",
    "# Assemble the reads to yield the sequence of the gene. Call this value full_seq\n",
    "\n",
    "# Initalize lists to hold prefixes and suffixes. \n",
    "# Then extract them from the raw sequences and populate the lists.\n",
    "prefixes = []\n",
    "suffixes = []\n",
    "for i in reads:\n",
    "    prefixes.append(i[0:5])\n",
    "    suffixes.append(i[5:10])\n",
    "\n",
    "# Initialize a matrix of zeros in which to store which reads overlap\n",
    "match_mat = np.zeros((len(prefixes), len(suffixes)))\n",
    "\n",
    "# Iterate over prefixes and suffixes to identify when the prefix of read i equals the suffix of read j\n",
    "for i in np.arange(0,len(prefixes)):\n",
    "    for j in np.arange(0,len(suffixes)):\n",
    "        match_mat[i,j] = (prefixes[i] == suffixes[j])\n",
    "        \n",
    "print(match_mat)\n",
    "\n",
    "# Identify which read is the first in the sequence. This is the only row with all zero values\n",
    "# because no suffixes match the prefix of this read.\n",
    "ind = int(np.argwhere(np.sum(match_mat, axis = 1) == 0))\n",
    "\n",
    "# Begin constructin the sequence with the first read\n",
    "full_seq = reads[ind]\n",
    "\n",
    "# We now need to use the matrix to find the order of reads and glue them together.\n",
    "\n",
    "# Your code should look like the following\n",
    "# Iterate over the number of times we need to find the next read (using a for loop)\n",
    "# Since we've already found one, this should be np.arange(0,7):\n",
    "#      Starting from a given read, find the index of the next one by seeing which entry in the corresponding \n",
    "#      column equals 1.\n",
    "#      Hint: You need to update ind using int(np.argwhere(match_mat[:,ind] == 1))\n",
    "#      Concatenate the last 5 nucleotides of the identified read to full_seq (strings can be concatenated with +)\n",
    "#      # You can concatenate a string x to a string y using y += x. This is equivalent to y = y+x\n"
   ]
  },
  {
   "cell_type": "markdown",
   "metadata": {},
   "source": [
    "## Read mapping"
   ]
  },
  {
   "cell_type": "code",
   "execution_count": 4,
   "metadata": {},
   "outputs": [],
   "source": [
    "# Now let's assume already have the reference sequences for two different genes and want to quantify\n",
    "# their expression levels. We perform an experiment and get a set of reads, some of which come from these \n",
    "# genes. We can estimate their expression by counting the number of reads which match the sequence\n",
    "# in the respective references. We only want to count reads which uniquely align to one gene or the other.\n",
    "\n",
    "# Load the data\n",
    "\n",
    "# Reference sequences\n",
    "gene_1 = 'ATGCTAGAAACGGCTAGTTATTCATGGAGACTGCTCCATAGCTGA'\n",
    "gene_2 = 'ATGTATGATCTCCAGGTATTCACGCAGTGCTCGCCTTACTTATAG'\n",
    "\n",
    "# Reads from experiment\n",
    "experimental_reads = [\n",
    " 'TCATG','CGGCT','TGGAG','GCTCC','ACTGC','TTATT','TATTC','AGAAA','AACGG','AGCTG','CTAGT','GCTCC','ATGGA',\n",
    " 'AACGG','TAGAA','ACGGC','ATAGC','GGAGA','TAGTT','CGGCT','ACTGC','GGCTA','GCTAG','GCTAG','AGTTA','TGCTA',\n",
    " 'TTATT','TGCTA','GCTAG','AGAAA','AACGG','ATAGC','TTATT','TCCAG','TACTT','TGATC','CTTAT','TGATC','TTATA',\n",
    " 'TCGCC','CTCCA','TGATC','CAGTG','TTATA','GCAGT','AGGTA','GCAGT','TGTAT','GCCTT','ATTCA','ATGAT','CTCCA',\n",
    " 'CCTTA','GATCT','CAGGT','TCCAG','ACTTA','AATAT','ATGAA','TGTGG','GGTGC','GCAAG','CTACC','CACCG','TGGGG',\n",
    " 'TAGGT','CTGCC','AGGCT','GGTAG','GGCGT','AGTGA','AATGT','CGTCG','CGTCC','GTACC','AGGGA','ATCGG','CTCTT',\n",
    " 'CCGGA','AATGG','CTTTC','TAAAT','TATAA','GGTTA','AAAGG','TCAGG','GCATT']\n"
   ]
  },
  {
   "cell_type": "code",
   "execution_count": 5,
   "metadata": {},
   "outputs": [],
   "source": [
    "# Write a function (read_map_check) that takes two sequences, one test and one reference, as input and \n",
    "# checks whether the test sequence aligns to the reference.\n",
    "# The inputs should be called test_seq and ref_seq\n",
    "\n",
    "def read_map_check(test_seq, ref_seq):\n",
    "    map_flag = test_seq in ref_seq\n",
    "    return(map_flag)"
   ]
  },
  {
   "cell_type": "code",
   "execution_count": 6,
   "metadata": {},
   "outputs": [],
   "source": [
    "# Now apply your function to the set of experimental reads to produce the expression counts for each gene.\n",
    "# Remember that only reads mapping uniquely to a given sequence will get counted.\n",
    "# Please return the values for gene_1_hits and gene_2_hits, the number of reads uniquely mapping to each gene\n",
    "\n",
    "# Initialize counters at zero\n",
    "gene_1_hits = 0\n",
    "gene_2_hits = 0\n",
    "\n",
    "# Your code should look something like the following:\n",
    "# for loop which iterates over reads in experimental_reads:\n",
    "#     read_map_check for the read and gene 1\n",
    "#     read_map_check for the read and gene 2\n",
    "#     check uniquely maps to gene 1:\n",
    "#          if so, add one to gene_1_hits\n",
    "#     check uniquely maps to gene 2:\n",
    "#          if so, add one to gene_2_hits\n",
    "\n",
    "# may be helpful - Make composite Booleans with and, e.g. True and True is True, True and False is False\n",
    "# Negate Booleans with not, e.g. not True is False and not False is True\n",
    "# You can add x to a value y using y += x. This is equivalent to y = y+x\n",
    "\n",
    "gene_1_hits, gene_2_hits  "
   ]
  },
  {
   "cell_type": "markdown",
   "metadata": {},
   "source": [
    "## Comparing genetic sequences"
   ]
  },
  {
   "cell_type": "code",
   "execution_count": 7,
   "metadata": {},
   "outputs": [],
   "source": [
    "# A simple way to compare the similarity of genetic sequences is to compute a quantity known as the Hamming distance.\n",
    "# This measures the number of mismatches between pairs of sequences; e.g., d_H('ACG', 'ATG') = 1, \n",
    "# d_H('TAG', 'TAG') = 0, etc. \n",
    "\n",
    "# We will now compare the differences in the same gene observed in two \"populations\". First, load the provided data.\n",
    "\n",
    "data_pop_1 = ['ATGCTAGAAAGGGCTAGTTAGACATGGAGACGGCTCCATAGCTGA', 'ATGCTAGTAACGGCTAGTTTGTCATGGAGACTGCTCCATACCTGA', 'ATGCTAGATACGGCTAGTTACTCATGGAGAGAGCTCCATAGCTGA', 'ATGCTAGTTACGGCTACTTAGTCATCGAGACTGCACCATAGCTGA', 'ATGCTAGAATCGGGTAGATAGTCATGGAGACAGCTCCATAGCTGA']\n",
    "data_pop_2 = ['ATGCAAGCAACGGCTTGTTTTTCATGGACACTGATCCATTGCTGA', 'ATGCATGGAAGGGCTAGTTATTCTTGCAGACTGATCCATTGCTGA', 'ATGCAAGCAACGGCTAGTTATTCTTGGACACTGATGCATTGCTGA', 'ATGCAAGGAACGGCAAGTTAATCATGGTGACTCATCCATTGCTGA', 'ATGCAAGGAAGGGCTAGATATTCGTGGAGAGTGATCGATTGCTGA']\n"
   ]
  },
  {
   "cell_type": "code",
   "execution_count": 1,
   "metadata": {},
   "outputs": [],
   "source": [
    "# Write a function which takes two sequences as input and outputs the Hamming distance between them.\n",
    "# As the Hamming distance is the number of differences between the sequences, we're going to iterate\n",
    "# through the nucleotides of the sequences and count how many times they don't match.\n",
    "\n",
    "# Name your function compute_hamming_dist. Have it take arguments seq_1 and seq_2.\n",
    "\n",
    "# First, we'll want to initialize the count of differences to be 0\n",
    "\n",
    "# Next, we need to iterate through each sequence simultaneously. We can do this with \n",
    "# a for loop from 0 to the length of the sequences and referring to the nucleotide at the corresponding\n",
    "# index for each iteration\n",
    "\n",
    "# Each time the nucleotides don't match, we should increment our counter by 1. Hint: use !=\n",
    "\n",
    "# Finally, return the value of the counter. It's also not a bad idea to wrap this all in an \n",
    "# if/else statement which verifies that the sequences are the same length before checking the\n",
    "# distance between them.\n"
   ]
  },
  {
   "cell_type": "code",
   "execution_count": 3,
   "metadata": {},
   "outputs": [],
   "source": [
    "# Construct a matrix D in which D_{ij} = d_H(s_i, s_j) for sequences s_i and s_j.\n",
    "\n",
    "# We want to compute the Hamming distance in the sequence of the given gene for this set of 10 individuals.\n",
    "# 5 are from population 1 and 5 from population 2.\n",
    "\n",
    "# We should iterate over all the individuals at once to get the matrix, so start by combining the lists for\n",
    "# populations 1 and 2. (Can combine lists using +)\n",
    "\n",
    "# Let's also initialize the matrix D in which we want to store the distances.\n",
    "# Hint: np.zeros((len(x), len(x))) for the correct object x\n",
    "\n",
    "# Now let's fill the entries of the matrix. \n",
    "# Use for loops to iterate through the combined data and compute the Hamming distance between\n",
    "# every pair using your function.\n",
    "# Hint: You probably want to iterate through the list by the numerical indices\n",
    "# For the ith and jth individuals, change the value of D[i,j] to the distance between sequences i and j\n",
    "# Hint: Should the matrix be symmetric? Can we also assign D[j,i] at this step?\n"
   ]
  },
  {
   "cell_type": "code",
   "execution_count": 5,
   "metadata": {
    "scrolled": false
   },
   "outputs": [],
   "source": [
    "# Use Multidimensional Scaling (MDS) to examine whether the individuals cluster in any noticeable way.\n",
    "# Like PCA, MDS is a method to compress data into a form which can be visualized. This algorithm seeks\n",
    "# to preserve the computed distances between points in the original data when embedding them into \n",
    "# two dimensions\n",
    "\n",
    "# You don't need to edit this part\n",
    "from sklearn.manifold import MDS\n",
    "mds = MDS(n_components=2, random_state = 100200300, dissimilarity=\"precomputed\")\n",
    "proj = mds.fit_transform(D)\n",
    "\n",
    "# Now make a scatter plot of the MDS projection (proj) with the points colored by population\n",
    "\n",
    "# Scatter of first five individuals    plt.scatter(df[rows, col1], df[rows, col2])\n",
    "# Scatter of second five individuals   plt.scatter(df[rows, col1], df[rows, col2])\n",
    "# xlabel of Coordinate 1               plt.xlabel('xlabel')\n",
    "# ylabel of Coordinate 2               plt.xlabel('ylabel')\n",
    "# title of MDS of individuals based on genetic sequences  plt.xlabel('title')\n",
    "# legend with labels 'Pop 1', and 'Pop 2' in the lower right plt.legend(['Label 1', 'Label 2'], loc = 'location')\n",
    "# show plot     plt.show()\n"
   ]
  },
  {
   "cell_type": "markdown",
   "metadata": {},
   "source": [
    "# BONUS - Obtaining protein sequences"
   ]
  },
  {
   "cell_type": "code",
   "execution_count": null,
   "metadata": {},
   "outputs": [],
   "source": [
    "# Genetic code directly maps to specific amino acids via \"codons\", or sets of three nucleotides in coding regions.\n",
    "# We can thus construct the sequence of amino acids for each protein based purely on the genetic sequence.\n",
    "# First, load the provided codon -> amino acid conversion table.\n",
    "\n",
    "# If you're comfortable with dictionaries, you can use amino_acids_dict\n",
    "amino_acids_dict = {\n",
    "    'ATA':'I', 'ATC':'I', 'ATT':'I', 'ATG':'M',\n",
    "    'ACA':'T', 'ACC':'T', 'ACG':'T', 'ACT':'T',\n",
    "    'AAC':'N', 'AAT':'N', 'AAA':'K', 'AAG':'K',\n",
    "    'AGC':'S', 'AGT':'S', 'AGA':'R', 'AGG':'R',\n",
    "    'CTA':'L', 'CTC':'L', 'CTG':'L', 'CTT':'L',\n",
    "    'CCA':'P', 'CCC':'P', 'CCG':'P', 'CCT':'P',\n",
    "    'CAC':'H', 'CAT':'H', 'CAA':'Q', 'CAG':'Q',\n",
    "    'CGA':'R', 'CGC':'R', 'CGG':'R', 'CGT':'R',\n",
    "    'GTA':'V', 'GTC':'V', 'GTG':'V', 'GTT':'V',\n",
    "    'GCA':'A', 'GCC':'A', 'GCG':'A', 'GCT':'A',\n",
    "    'GAC':'D', 'GAT':'D', 'GAA':'E', 'GAG':'E',\n",
    "    'GGA':'G', 'GGC':'G', 'GGG':'G', 'GGT':'G',\n",
    "    'TCA':'S', 'TCC':'S', 'TCG':'S', 'TCT':'S',\n",
    "    'TTC':'F', 'TTT':'F', 'TTA':'L', 'TTG':'L',\n",
    "    'TAC':'Y', 'TAT':'Y', 'TAA':'_', 'TAG':'_',\n",
    "    'TGC':'C', 'TGT':'C', 'TGA':'_', 'TGG':'W'}\n",
    "\n",
    "# Otherwise, this constructs an array from the dictionary for you to use\n",
    "amino_acids_array = make_array(list(amino_acids_dict.keys()), list(amino_acids_dict.values()))\n",
    "\n",
    "# Source: https://pythonforbiologists.com/dictionaries"
   ]
  },
  {
   "cell_type": "code",
   "execution_count": 2,
   "metadata": {},
   "outputs": [],
   "source": [
    "# Write a function which takes a genetic sequence as input and writes the sequence of amino acids as a string.\n",
    "# Call this function seq_to_AA and name its input seq\n",
    "\n",
    "# check if length of seq is a multiple of three. If not, return a statement saying you can't \n",
    "# convert the sequence because of this (hint: use x % y for modular division)\n",
    "# If the length is okay, split the sequence into its codons (i.e., split into units of length 3)\n",
    "# Initialize your amino acids sequence as an empty string\n",
    "# Iterate through these codons with a for loop and find the appropriate amino acid for each one.\n",
    "# Add this to your running sequence of amino acids. \n",
    "# Hint: If you're using the array, what does amino_acids_array[1,amino_acids_array[0,:] == codon][0] give you?\n",
    "# Hint: If you're using the dict, what does amino_acids_dict[codon] give you?\n"
   ]
  },
  {
   "cell_type": "code",
   "execution_count": null,
   "metadata": {},
   "outputs": [],
   "source": [
    "# Obtain AA sequences for gene_1 and gene_2. Name them protein_1 and protein_2\n",
    "# Just run your seq_to_AA function on gene_1 and gene_2"
   ]
  },
  {
   "cell_type": "markdown",
   "metadata": {},
   "source": [
    "## To submit"
   ]
  },
  {
   "cell_type": "code",
   "execution_count": null,
   "metadata": {},
   "outputs": [],
   "source": [
    "ok = Notebook('Lab03_sequences.ok')\n",
    "_ = ok.auth(inline=True)"
   ]
  },
  {
   "cell_type": "code",
   "execution_count": null,
   "metadata": {},
   "outputs": [],
   "source": [
    "# Submit the assignment.\n",
    "_ = ok.submit()"
   ]
  }
 ],
 "metadata": {
  "kernelspec": {
   "display_name": "Python 3",
   "language": "python",
   "name": "python3"
  },
  "language_info": {
   "codemirror_mode": {
    "name": "ipython",
    "version": 3
   },
   "file_extension": ".py",
   "mimetype": "text/x-python",
   "name": "python",
   "nbconvert_exporter": "python",
   "pygments_lexer": "ipython3",
   "version": "3.7.3"
  }
 },
 "nbformat": 4,
 "nbformat_minor": 2
}
