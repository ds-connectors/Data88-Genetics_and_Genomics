{
 "cells": [
  {
   "cell_type": "markdown",
   "metadata": {},
   "source": [
    "# Lab 10 - Association Analysis"
   ]
  },
  {
   "cell_type": "markdown",
   "metadata": {},
   "source": [
    "### Authors: Rosey Stone & Jonathan Fischer"
   ]
  },
  {
   "cell_type": "code",
   "execution_count": null,
   "metadata": {},
   "outputs": [],
   "source": [
    "import pandas as pd\n",
    "import numpy as np\n",
    "import matplotlib.pyplot as plt\n",
    "from client.api.notebook import Notebook"
   ]
  },
  {
   "cell_type": "markdown",
   "metadata": {},
   "source": [
    "## Part 0: Read in the Data"
   ]
  },
  {
   "cell_type": "code",
   "execution_count": null,
   "metadata": {},
   "outputs": [],
   "source": [
    "# just run this cell to load the data for the lab\n",
    "df = pd.read_csv('data/chr22_CEU_YRI.csv')"
   ]
  },
  {
   "cell_type": "markdown",
   "metadata": {},
   "source": [
    "First things first: let's take a quick look at our data by running Pandas' head() function."
   ]
  },
  {
   "cell_type": "code",
   "execution_count": null,
   "metadata": {},
   "outputs": [],
   "source": [
    "df.head()"
   ]
  },
  {
   "cell_type": "markdown",
   "metadata": {},
   "source": [
    "In this dataset, we are looking at many SNPs on chromosome 22 in many individuals; each row represents an SNP and each column represents a chromosome. So, a pair of columns with the same ID and different suffix ('\\_A' or '\\_B') represents one person.\n",
    "Let's first look at the dimensions of our dataset."
   ]
  },
  {
   "cell_type": "code",
   "execution_count": null,
   "metadata": {},
   "outputs": [],
   "source": [
    "df.shape"
   ]
  },
  {
   "cell_type": "markdown",
   "metadata": {},
   "source": [
    "Recalling that shape is displayed in the format (rows, columns), how many SNPS do we have in our data? How many individuals?"
   ]
  },
  {
   "cell_type": "code",
   "execution_count": null,
   "metadata": {},
   "outputs": [],
   "source": [
    "num_snps = ...\n",
    "num_indiv = ..."
   ]
  },
  {
   "cell_type": "markdown",
   "metadata": {},
   "source": [
    "Given the large number of SNPs in our data, let's perform a cursory analysis on only the first 100 rows of our data just to see whether we can determine any general trends."
   ]
  },
  {
   "cell_type": "code",
   "execution_count": null,
   "metadata": {},
   "outputs": [],
   "source": [
    "# Set df_short to the dataframe restricted to only the first 100 rows.\n",
    "# Hint: Recall that the arguments to .iloc are [rows, columns] \n",
    "df_short = ..."
   ]
  },
  {
   "cell_type": "markdown",
   "metadata": {},
   "source": [
    "## Part 1: Linkage Disequilibrium"
   ]
  },
  {
   "cell_type": "markdown",
   "metadata": {},
   "source": [
    "Genetic association is a way to investigate whether or not genotypes occur within individuals more often than would be expected by random chance alone. Recall from the recombination lab that, through normal processes, chunks of chromosomes can randomly switch physical position and create new combinations. Recombination is a primary source of genetic diversity in any population; one tangible demonstration of this principle is how full siblings may look very similar or very different.\n",
    "\n",
    "One practical application of genetic association is the comparison of two different SNPs within a population, which is called linkage disequilibrium (LD). From Wikipedia, \"In population genetics, linkage disequilibrium is the non-random association of alleles at different loci in a given population. Loci are said to be in linkage disequilibrium when the frequency of association of their different alleles is higher or lower than what would be expected if the loci were independent.\" Effectively, we are looking to see if there is some statistically significant link between two genetic locations. \n",
    "\n",
    "In this lab, we will look for LD in our data first by writing a function to look at pairwise SNP LD and then applying this function to our dataset. After that, we will create a heatmap to visualize the associations."
   ]
  },
  {
   "cell_type": "markdown",
   "metadata": {},
   "source": [
    "Part 1a\n",
    "\n",
    "First, let's write a function to investigate pairwise SNP LD.\n",
    "\n",
    "Let's notice that our data is binary (In actual research pursuits, you would want to validate this and perform quality control/cleaning, but we have already done this for you), this will help us a lot in calculating LD!"
   ]
  },
  {
   "cell_type": "code",
   "execution_count": null,
   "metadata": {},
   "outputs": [],
   "source": [
    "# Let's assume the input to our function is two rows of our dataframe.\n",
    "def pairwise_ld(snp1, snp2):\n",
    "    #Step 1: Calculate allele frequencies for each SNP. \n",
    "    #Since we have binary data, the frequency for allele 1 is the mean for that row.\n",
    "    snp1_freq1 = snp1.mean()\n",
    "    snp1_freq0 = 1 - snp1_freq1\n",
    "    snp2_freq1 = ...\n",
    "    snp2_freq0 = ...\n",
    "    #Step 2: Count observations.\n",
    "    #Because we have 2 options for each snp, there are 4 possible pairs of observations.\n",
    "    #Let's count how many of each we have in our data.\n",
    "    s1a1s2a1 = np.count_nonzero((snp1 == snp2) & (snp1 == 1))/len(snp1)\n",
    "    s1a1s2a0 = np.count_nonzero((snp1 != snp2) & (snp1 == 1))/len(snp1)\n",
    "    s1a0s2a1 = np.count_nonzero((snp1 != snp2) & (...))/len(snp1)\n",
    "    s1a0s2a0 = np.count_nonzero((snp1 == snp2) & (...))/len(snp1)\n",
    "    #Step 3: Calculate D (numerical measure of LD)\n",
    "    D = s1a0s2a0 - (snp1_freq0*snp2_freq0)\n",
    "    #Step 4: Normalize D based on correlation coefficient\n",
    "    r2 = (D**2)/(snp1_freq0*(1-snp1_freq0)*snp2_freq0*(1-snp2_freq0)) \n",
    "    return r2"
   ]
  },
  {
   "cell_type": "markdown",
   "metadata": {},
   "source": [
    "Part 1b\n",
    "\n",
    "Now let's calculate every possible pairwise interaction on our compacted dataframe."
   ]
  },
  {
   "cell_type": "code",
   "execution_count": null,
   "metadata": {},
   "outputs": [],
   "source": [
    "ld_matrix = []\n",
    "\n",
    "for i in range(0, len(...)):\n",
    "    snp_row = []\n",
    "    for j in range(0, len(df_short)):\n",
    "        ld = ...\n",
    "        snp_row = snp_row + [ld]\n",
    "    ld_matrix = ld_matrix + [snp_row]\n",
    "ld_matrix"
   ]
  },
  {
   "cell_type": "markdown",
   "metadata": {},
   "source": [
    "Part 1c\n",
    "\n",
    "Let's visualize the pairwise interactions."
   ]
  },
  {
   "cell_type": "code",
   "execution_count": null,
   "metadata": {},
   "outputs": [],
   "source": [
    "f = plt.figure(figsize=(19,15))\n",
    "plt.matshow(ld_matrix, fignum=f.number)\n",
    "cb = plt.colorbar()\n",
    "plt.show()"
   ]
  },
  {
   "cell_type": "markdown",
   "metadata": {},
   "source": [
    "As you can see, there is perfect LD (LD=1) only within small portions of our matrix (And predominately across the diagonal), but there is nonzero LD in other regions of our SNP matrix, as well."
   ]
  },
  {
   "cell_type": "markdown",
   "metadata": {},
   "source": [
    "As we have discussed before with PCA, sometimes our results are confounded if population structure (ie different ancestries) is present in our data. This is particularly true in association studies.\n",
    "\n",
    "Our data actually contains 2 populations, one of which is of African ancestry and the other is of Northern/Western European ancestry. \n",
    "Given this information, would you expect there to be a difference if you looked at LD at each population separately? If so, how?"
   ]
  },
  {
   "cell_type": "markdown",
   "metadata": {},
   "source": [
    "Answer:"
   ]
  },
  {
   "cell_type": "markdown",
   "metadata": {},
   "source": [
    "## Submit"
   ]
  },
  {
   "cell_type": "code",
   "execution_count": null,
   "metadata": {},
   "outputs": [],
   "source": [
    "ok = Notebook('lab09_gwas.ok')\n",
    "_ = ok.auth(inline=True)"
   ]
  },
  {
   "cell_type": "code",
   "execution_count": null,
   "metadata": {},
   "outputs": [],
   "source": [
    "# Submit the assignment.\n",
    "_ = ok.submit()"
   ]
  }
 ],
 "metadata": {
  "kernelspec": {
   "display_name": "Python 3",
   "language": "python",
   "name": "python3"
  },
  "language_info": {
   "codemirror_mode": {
    "name": "ipython",
    "version": 3
   },
   "file_extension": ".py",
   "mimetype": "text/x-python",
   "name": "python",
   "nbconvert_exporter": "python",
   "pygments_lexer": "ipython3",
   "version": "3.6.5"
  }
 },
 "nbformat": 4,
 "nbformat_minor": 2
}
