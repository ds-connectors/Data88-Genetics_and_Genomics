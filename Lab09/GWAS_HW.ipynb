{
 "cells": [
  {
   "cell_type": "markdown",
   "metadata": {},
   "source": [
    "# GWAS HW\n",
    "## 12/03/19\n",
    "## Due 12/10/19 @ 11:59 PM"
   ]
  },
  {
   "cell_type": "code",
   "execution_count": null,
   "metadata": {},
   "outputs": [],
   "source": [
    "# Load the modules we'll need\n",
    "from datascience import *\n",
    "import numpy as np\n",
    "import random\n",
    "import seaborn as sns\n",
    "import matplotlib\n",
    "%matplotlib inline\n",
    "import matplotlib.pyplot as plt\n",
    "import scipy.stats as stats\n",
    "import pandas as pd\n",
    "from sklearn.ensemble import RandomForestClassifier\n",
    "from sklearn.model_selection import train_test_split\n",
    "from sklearn.metrics import confusion_matrix\n",
    "from sklearn.preprocessing import StandardScaler\n",
    "from sklearn.decomposition import PCA\n",
    "from sklearn.preprocessing import scale\n",
    "from sklearn.manifold import TSNE\n",
    "import statsmodels.api as sm\n",
    "plt.style.use('fivethirtyeight')\n",
    "from client.api.notebook import Notebook"
   ]
  },
  {
   "cell_type": "markdown",
   "metadata": {},
   "source": [
    "Genome-wide association studies (GWAS) are used to identify the regions of the genome which affect traits (phenotypes). These analyses require genotypes as well as phenotypes across a range of individuals. Many statistical problems arise in these types of studies. Some include the large multiple testing burden that appears when looking at genome-sized data, linkage disequilibrium between genomic loci, confounding effects of population structure, and the difficulty in identifying non-linear and/or complicated effects (e.g. epistasis, pleiotropy). Example of traits that we want to investigate are height, eye color, skin pigmentation, disease susceptibility, and gene expression levels."
   ]
  },
  {
   "cell_type": "markdown",
   "metadata": {},
   "source": [
    "To identify which mutations influence specific traits, we work with something called a \"SNP matrix\". Here, SNP refers to single nucleotide polymorphisms, aka point mutations. This is a matrix of 0s and 1s where 1 indicates a mutation with respect to the so-called \"ancestral allele\". Each column in this matrix corresponds to a single chromosome, so each pair of columns come from a single individual. These data come from the HapMap project and contain SNPs as measured on chromosome 22 in CEU (British ancestry) and Yoruban (a population in Nigeria) individuals."
   ]
  },
  {
   "cell_type": "code",
   "execution_count": null,
   "metadata": {},
   "outputs": [],
   "source": [
    "# Load SNP data\n",
    "SNP_df = pd.read_csv('https://raw.githubusercontent.com/ds-connectors/Data88-Genetics_and_Genomics/master/Lab09/chr22_CEU_YRI.csv')"
   ]
  },
  {
   "cell_type": "markdown",
   "metadata": {},
   "source": [
    "Linkage disequilibrium occurs when SNPs co-occur (or fail to co-occur) at rates different than what would be expected if they were inherited independently. One way to measure this turns out to be the Pearson correlation. Plot the correlation matrix and see if you notice anything weird on the diagonal."
   ]
  },
  {
   "cell_type": "code",
   "execution_count": null,
   "metadata": {},
   "outputs": [],
   "source": [
    "# Compute the LD matrix by taking the Pearson correlations.\n",
    "LD_mat = SNP_df.iloc[0:1000, :].T.corr()\n",
    "\n",
    "f = plt.figure(figsize=(15, 15))\n",
    "plt.matshow(LD_mat, fignum=f.number)\n",
    "cb = plt.colorbar()\n",
    "plt.xlabel('SNP #')\n",
    "plt.ylabel('SNP #')\n",
    "plt.title('Linkage disequilibrium')\n",
    "plt.show()"
   ]
  },
  {
   "cell_type": "markdown",
   "metadata": {},
   "source": [
    "# Describe the pattern you observe. What can we say about linkage disequilibrium as a function of distance between the SNPs? Does this make sense? What process (that we've covered) could account for this pattern?\n",
    "\n",
    "# Answer:"
   ]
  },
  {
   "cell_type": "markdown",
   "metadata": {},
   "source": [
    "To perform a GWAS, we usually want to work with the genotype matrix. This requires we combine the chromosomes from each individual such that for each SNP we now have possible values of 0, 1, and 2."
   ]
  },
  {
   "cell_type": "code",
   "execution_count": null,
   "metadata": {},
   "outputs": [],
   "source": [
    "# Create genotype matrix\n",
    "x = SNP_df.iloc[:,np.arange(0,SNP_df.shape[1],2)]\n",
    "y = SNP_df.iloc[:,np.arange(1,SNP_df.shape[1],2)]\n",
    "y.columns = x.columns[:]\n",
    "genotype_df = x+y"
   ]
  },
  {
   "cell_type": "markdown",
   "metadata": {},
   "source": [
    "Let's quickly check whether we can see evidence that we have two different populations in our data by computing and inspecting the correlation between the individuals' genotypes."
   ]
  },
  {
   "cell_type": "code",
   "execution_count": null,
   "metadata": {},
   "outputs": [],
   "source": [
    "# Population structure matrix\n",
    "individual_corr_df = genotype_df.corr()\n",
    "\n",
    "f = plt.figure(figsize=(12, 12))\n",
    "plt.matshow(individual_corr_df, fignum=f.number)\n",
    "cb = plt.colorbar()\n",
    "plt.xlabel('Individual #')\n",
    "plt.ylabel('Individual #')\n",
    "plt.title('Correlation matrix of genotypes')\n",
    "plt.show()"
   ]
  },
  {
   "cell_type": "markdown",
   "metadata": {},
   "source": [
    "# How do you interpret what you observe? What might this portend for our further analyses?\n",
    "\n",
    "# Answer:"
   ]
  },
  {
   "cell_type": "markdown",
   "metadata": {},
   "source": [
    "Now we're ready to perform our GWAS. Let's start by loading the phenotype for all our individuals."
   ]
  },
  {
   "cell_type": "code",
   "execution_count": null,
   "metadata": {
    "scrolled": true
   },
   "outputs": [],
   "source": [
    "# Load phenotype data and look at a histogram\n",
    "pheno_df = list(pd.read_csv('phenotype_obs.csv').iloc[0,:])\n",
    "\n",
    "plt.hist(pheno_df)\n",
    "plt.xlabel('Diastolic blood pressure')\n",
    "plt.ylabel('Frequency')\n",
    "plt.show()"
   ]
  },
  {
   "cell_type": "markdown",
   "metadata": {},
   "source": [
    "We want to determine the effect of each SNP on diastolic blood pressure. Since blood pressure is a quantitative trait, the naive way to do this is to perform a linear regression marginally for each SNP and then look at which ones are statistically significant."
   ]
  },
  {
   "cell_type": "code",
   "execution_count": null,
   "metadata": {},
   "outputs": [],
   "source": [
    "# Perform linear regression for each SNP and extract the p-value\n",
    "p_vals_vec = []\n",
    "for i in np.arange(0, genotype_df.shape[0]):        \n",
    "    SNP_vec = list(genotype_df.iloc[i,:])\n",
    "    X = sm.add_constant(SNP_vec)\n",
    "    model = sm.OLS(pheno_df, X).fit()\n",
    "    p_vals_vec.append(model.pvalues[1])"
   ]
  },
  {
   "cell_type": "markdown",
   "metadata": {},
   "source": [
    "# Here we've computed our p-values from linear regression. However, we could've also obtained a different set of them from a permutation test. Let's say we have computed the correlation between the value of our trait of interest and the number of mutations at a given location. Describe how you would perform the permutation test with correlation as the test statistic. (Hint: look back at some older labs if you're stuck).\n",
    "\n",
    "# Answer:"
   ]
  },
  {
   "cell_type": "markdown",
   "metadata": {},
   "source": [
    "The way we often examine our results is via something called a \"Manhattan plot\". This plots the -log10 p-value for each SNP over the entire region of interest. Our usual threshhold of 0.05 is no longer suitable because of how many tests we're performing. Typically we adjust our cutoff, in this case using the Bonferroni correction."
   ]
  },
  {
   "cell_type": "code",
   "execution_count": null,
   "metadata": {},
   "outputs": [],
   "source": [
    "plt.figure(figsize=(15, 8))\n",
    "plt.plot(np.arange(0, genotype_df.shape[0]), -np.log10(p_vals_vec), 'k.')\n",
    "plt.xlabel('SNP #')\n",
    "plt.ylabel('-log10 p-value')\n",
    "plt.title('Manhattan plot')\n",
    "plt.axhline(y = -np.log10(.05/genotype_df.shape[0]), linewidth=1, color='r')     # plot Bonferroni-corrected cutoff\n",
    "plt.show()"
   ]
  },
  {
   "cell_type": "markdown",
   "metadata": {},
   "source": [
    "# What does the plot look like? Why might it be called a Manhattan plot? Can you explain what could be causing this phenomenon?\n",
    "\n",
    "# Answer:"
   ]
  },
  {
   "cell_type": "markdown",
   "metadata": {},
   "source": [
    "# The high cutoff for significance comes from the fact that we have to perform many tests. However, the calculation of this cutoff makes the assumption that all the tests are independent. From our LD matrix plot earlier, we know that these tests are not independent because many SNPs are in LD with one another. Given these bits of information, can you suggest a strategy that mostly preserves our ability to detect regions associated with traits while reducing the number of tests we have to perform?\n",
    "\n",
    "# Answer:"
   ]
  },
  {
   "cell_type": "code",
   "execution_count": null,
   "metadata": {},
   "outputs": [],
   "source": [
    "ok = Notebook('hw_gwas.ok')\n",
    "_ = ok.auth(inline=True)"
   ]
  },
  {
   "cell_type": "code",
   "execution_count": null,
   "metadata": {},
   "outputs": [],
   "source": [
    "# Submit the assignment.\n",
    "_ = ok.submit()"
   ]
  },
  {
   "cell_type": "code",
   "execution_count": null,
   "metadata": {},
   "outputs": [],
   "source": []
  }
 ],
 "metadata": {
  "kernelspec": {
   "display_name": "Python 3",
   "language": "python",
   "name": "python3"
  },
  "language_info": {
   "codemirror_mode": {
    "name": "ipython",
    "version": 3
   },
   "file_extension": ".py",
   "mimetype": "text/x-python",
   "name": "python",
   "nbconvert_exporter": "python",
   "pygments_lexer": "ipython3",
   "version": "3.6.8"
  }
 },
 "nbformat": 4,
 "nbformat_minor": 2
}
