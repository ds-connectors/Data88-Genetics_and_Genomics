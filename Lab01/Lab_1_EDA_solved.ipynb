{
 "cells": [
  {
   "cell_type": "markdown",
   "metadata": {},
   "source": [
    "### Data 88: Data Science for Genetics and Genomics - 09/17/19\n",
    "\n",
    "# *Lab 1 - Comparative Genomics with EDA*\n",
    "\n",
    "### by Jonathan Fischer (adapted in part from work by Shishi Luo) "
   ]
  },
  {
   "cell_type": "code",
   "execution_count": 1,
   "metadata": {},
   "outputs": [],
   "source": [
    "# Import the necessary modules\n",
    "from datascience import *\n",
    "%matplotlib inline\n",
    "import matplotlib.pyplot as plt\n",
    "import numpy as np\n",
    "import scipy.stats as sp\n",
    "plt.style.use('fivethirtyeight')"
   ]
  },
  {
   "cell_type": "markdown",
   "metadata": {},
   "source": [
    "## Let's explore genome sizes for some commonly studied organisms"
   ]
  },
  {
   "cell_type": "code",
   "execution_count": 2,
   "metadata": {},
   "outputs": [],
   "source": [
    "# Load table of model organisms\n",
    "# name your table model_species\n",
    "\n",
    "# Hints:\n",
    "# table_name = Table.read_table('filename')\n",
    "# filename = https://raw.githubusercontent.com/ds-connectors/Data88-Genetics_and_Genomics/master/Lab01/model_species.csv\n",
    "\n",
    "model_species = Table.read_table('https://raw.githubusercontent.com/ds-connectors/Data88-Genetics_and_Genomics/master/Lab01/model_species.csv')\n"
   ]
  },
  {
   "cell_type": "code",
   "execution_count": 3,
   "metadata": {},
   "outputs": [
    {
     "data": {
      "text/html": [
       "<table border=\"1\" class=\"dataframe\">\n",
       "    <thead>\n",
       "        <tr>\n",
       "            <th>Scientific name</th> <th>Common name</th> <th>Genes</th> <th>Proteins</th> <th>Size</th>\n",
       "        </tr>\n",
       "    </thead>\n",
       "    <tbody>\n",
       "        <tr>\n",
       "            <td>Escherichia coli                             </td> <td>E. coli     </td> <td>5618  </td> <td>5358    </td> <td>5478680   </td>\n",
       "        </tr>\n",
       "        <tr>\n",
       "            <td>Arabidopsis thaliana                         </td> <td>A. thaliana </td> <td>33583 </td> <td>35378   </td> <td>119668000 </td>\n",
       "        </tr>\n",
       "        <tr>\n",
       "            <td>Caenorhabditis elegans                       </td> <td>C. elegans  </td> <td>46711 </td> <td>27943   </td> <td>100286000 </td>\n",
       "        </tr>\n",
       "        <tr>\n",
       "            <td>Danio rerio                                  </td> <td>Zebrafish   </td> <td>39803 </td> <td>47861   </td> <td>1371720000</td>\n",
       "        </tr>\n",
       "        <tr>\n",
       "            <td>Drosophila melanogaster                      </td> <td>Fruit fly   </td> <td>17651 </td> <td>30443   </td> <td>143726000 </td>\n",
       "        </tr>\n",
       "        <tr>\n",
       "            <td>Gallus gallus                                </td> <td>Chicken     </td> <td>25062 </td> <td>46393   </td> <td>1230260000</td>\n",
       "        </tr>\n",
       "        <tr>\n",
       "            <td>Mus musculus                                 </td> <td>Mouse       </td> <td>48855 </td> <td>78065   </td> <td>2803570000</td>\n",
       "        </tr>\n",
       "        <tr>\n",
       "            <td>Saccharomyces cerevisiae S288c               </td> <td>Yeast       </td> <td>6350  </td> <td>5907    </td> <td>12157100  </td>\n",
       "        </tr>\n",
       "        <tr>\n",
       "            <td>Rattus norvegicus                            </td> <td>Rat         </td> <td>37647 </td> <td>50706   </td> <td>2870180000</td>\n",
       "        </tr>\n",
       "        <tr>\n",
       "            <td>Zea mays                                     </td> <td>Corn (maize)</td> <td>104305</td> <td>116015  </td> <td>2067620000</td>\n",
       "        </tr>\n",
       "        <tr>\n",
       "            <td>Oryza sativa Japonica Group                  </td> <td>Rice        </td> <td>66100 </td> <td>81951   </td> <td>374423000 </td>\n",
       "        </tr>\n",
       "        <tr>\n",
       "            <td>Canis lupus familiaris                       </td> <td>Dog         </td> <td>30186 </td> <td>47089   </td> <td>2410980000</td>\n",
       "        </tr>\n",
       "        <tr>\n",
       "            <td>Influenza A virus (A/New York/392/2004(H3N2))</td> <td>Influenza   </td> <td>12    </td> <td>12      </td> <td>13627     </td>\n",
       "        </tr>\n",
       "        <tr>\n",
       "            <td>Human immunodeficiency virus 1               </td> <td>HIV         </td> <td>10    </td> <td>10      </td> <td>9181      </td>\n",
       "        </tr>\n",
       "        <tr>\n",
       "            <td>Ailuropoda melanoleuca                       </td> <td>Giant panda </td> <td>27613 </td> <td>32507   </td> <td>2299510000</td>\n",
       "        </tr>\n",
       "    </tbody>\n",
       "</table>"
      ],
      "text/plain": [
       "<IPython.core.display.HTML object>"
      ]
     },
     "metadata": {},
     "output_type": "display_data"
    }
   ],
   "source": [
    "# We can see the whole table with the table_name.show() command. table_name will show the first 10 rows. Try it out!\n",
    "# table_name.show()\n",
    "\n",
    "#model_species\n",
    "model_species.show()"
   ]
  },
  {
   "cell_type": "code",
   "execution_count": 5,
   "metadata": {},
   "outputs": [
    {
     "data": {
      "text/html": [
       "<table border=\"1\" class=\"dataframe\">\n",
       "    <thead>\n",
       "        <tr>\n",
       "            <th>Scientific name</th> <th>Common name</th> <th>Genes</th> <th>Proteins</th> <th>Size</th>\n",
       "        </tr>\n",
       "    </thead>\n",
       "    <tbody>\n",
       "        <tr>\n",
       "            <td>Rattus norvegicus                            </td> <td>Rat         </td> <td>37647 </td> <td>50706   </td> <td>2870180000</td>\n",
       "        </tr>\n",
       "        <tr>\n",
       "            <td>Mus musculus                                 </td> <td>Mouse       </td> <td>48855 </td> <td>78065   </td> <td>2803570000</td>\n",
       "        </tr>\n",
       "        <tr>\n",
       "            <td>Canis lupus familiaris                       </td> <td>Dog         </td> <td>30186 </td> <td>47089   </td> <td>2410980000</td>\n",
       "        </tr>\n",
       "        <tr>\n",
       "            <td>Ailuropoda melanoleuca                       </td> <td>Giant panda </td> <td>27613 </td> <td>32507   </td> <td>2299510000</td>\n",
       "        </tr>\n",
       "        <tr>\n",
       "            <td>Zea mays                                     </td> <td>Corn (maize)</td> <td>104305</td> <td>116015  </td> <td>2067620000</td>\n",
       "        </tr>\n",
       "        <tr>\n",
       "            <td>Danio rerio                                  </td> <td>Zebrafish   </td> <td>39803 </td> <td>47861   </td> <td>1371720000</td>\n",
       "        </tr>\n",
       "        <tr>\n",
       "            <td>Gallus gallus                                </td> <td>Chicken     </td> <td>25062 </td> <td>46393   </td> <td>1230260000</td>\n",
       "        </tr>\n",
       "        <tr>\n",
       "            <td>Oryza sativa Japonica Group                  </td> <td>Rice        </td> <td>66100 </td> <td>81951   </td> <td>374423000 </td>\n",
       "        </tr>\n",
       "        <tr>\n",
       "            <td>Drosophila melanogaster                      </td> <td>Fruit fly   </td> <td>17651 </td> <td>30443   </td> <td>143726000 </td>\n",
       "        </tr>\n",
       "        <tr>\n",
       "            <td>Arabidopsis thaliana                         </td> <td>A. thaliana </td> <td>33583 </td> <td>35378   </td> <td>119668000 </td>\n",
       "        </tr>\n",
       "        <tr>\n",
       "            <td>Caenorhabditis elegans                       </td> <td>C. elegans  </td> <td>46711 </td> <td>27943   </td> <td>100286000 </td>\n",
       "        </tr>\n",
       "        <tr>\n",
       "            <td>Saccharomyces cerevisiae S288c               </td> <td>Yeast       </td> <td>6350  </td> <td>5907    </td> <td>12157100  </td>\n",
       "        </tr>\n",
       "        <tr>\n",
       "            <td>Escherichia coli                             </td> <td>E. coli     </td> <td>5618  </td> <td>5358    </td> <td>5478680   </td>\n",
       "        </tr>\n",
       "        <tr>\n",
       "            <td>Influenza A virus (A/New York/392/2004(H3N2))</td> <td>Influenza   </td> <td>12    </td> <td>12      </td> <td>13627     </td>\n",
       "        </tr>\n",
       "        <tr>\n",
       "            <td>Human immunodeficiency virus 1               </td> <td>HIV         </td> <td>10    </td> <td>10      </td> <td>9181      </td>\n",
       "        </tr>\n",
       "    </tbody>\n",
       "</table>"
      ],
      "text/plain": [
       "<IPython.core.display.HTML object>"
      ]
     },
     "metadata": {},
     "output_type": "display_data"
    }
   ],
   "source": [
    "# Let's rank organisms by their genome size. To sort the table, \n",
    "# use table_name.sort('Column_name').show()\n",
    "# to sort in descending order, use the additional option like so: \n",
    "# table_name.sort('Column_name', descending = True).show()\n",
    "# Try both ways out\n",
    "\n",
    "#model_species.sort('Size').show()\n",
    "model_species.sort('Size',descending = True).show()"
   ]
  },
  {
   "cell_type": "code",
   "execution_count": 6,
   "metadata": {},
   "outputs": [
    {
     "data": {
      "text/html": [
       "<table border=\"1\" class=\"dataframe\">\n",
       "    <thead>\n",
       "        <tr>\n",
       "            <th>Scientific name</th> <th>Common name</th> <th>Genes</th> <th>Proteins</th> <th>Size</th>\n",
       "        </tr>\n",
       "    </thead>\n",
       "    <tbody>\n",
       "        <tr>\n",
       "            <td>Zea mays                   </td> <td>Corn (maize)</td> <td>104305</td> <td>116015  </td> <td>2067620000</td>\n",
       "        </tr>\n",
       "        <tr>\n",
       "            <td>Oryza sativa Japonica Group</td> <td>Rice        </td> <td>66100 </td> <td>81951   </td> <td>374423000 </td>\n",
       "        </tr>\n",
       "    </tbody>\n",
       "</table>"
      ],
      "text/plain": [
       "Scientific name             | Common name  | Genes  | Proteins | Size\n",
       "Zea mays                    | Corn (maize) | 104305 | 116015   | 2067620000\n",
       "Oryza sativa Japonica Group | Rice         | 66100  | 81951    | 374423000"
      ]
     },
     "execution_count": 6,
     "metadata": {},
     "output_type": "execute_result"
    }
   ],
   "source": [
    "# Can we extract just the organisms with more than 60,000 genes? This is the rough number that humans have. \n",
    "# This is done by table_name.where(table_name['Column_name'] ~ condition). \n",
    "# ~ in the above is the operator for the condition. In this case, it's > for greater than\n",
    "\n",
    "model_species.where(model_species['Genes'] > 60000)"
   ]
  },
  {
   "cell_type": "markdown",
   "metadata": {},
   "source": [
    "## Let's compare the genome sizes of some pathogens"
   ]
  },
  {
   "cell_type": "code",
   "execution_count": 28,
   "metadata": {},
   "outputs": [],
   "source": [
    "# Load pathogen information. Name the table pathogens\n",
    "# See Cell 2 for a hint\n",
    "# filename is https://raw.githubusercontent.com/ds-connectors/Data88-Genetics_and_Genomics/master/Lab01/pathogens.csv\n",
    "\n",
    "pathogens = Table.read_table('https://raw.githubusercontent.com/ds-connectors/Data88-Genetics_and_Genomics/master/Lab01/pathogens.csv')\n"
   ]
  },
  {
   "cell_type": "code",
   "execution_count": 29,
   "metadata": {
    "scrolled": false
   },
   "outputs": [
    {
     "data": {
      "text/html": [
       "<table border=\"1\" class=\"dataframe\">\n",
       "    <thead>\n",
       "        <tr>\n",
       "            <th>Scientific name</th> <th>Description</th> <th>Subgroup</th> <th>Size</th> <th>Genes</th> <th>Proteins</th>\n",
       "        </tr>\n",
       "    </thead>\n",
       "    <tbody>\n",
       "        <tr>\n",
       "            <td>West Nile Virus           </td> <td>West Nile Virus   </td> <td>Virus   </td> <td>0.011  </td> <td>3    </td> <td>3       </td>\n",
       "        </tr>\n",
       "        <tr>\n",
       "            <td>Zika Virus                </td> <td>Zika              </td> <td>Virus   </td> <td>0.011  </td> <td>3    </td> <td>3       </td>\n",
       "        </tr>\n",
       "        <tr>\n",
       "            <td>Measles morbillivirus     </td> <td>Measles           </td> <td>Virus   </td> <td>0.016  </td> <td>8    </td> <td>8       </td>\n",
       "        </tr>\n",
       "        <tr>\n",
       "            <td>Sudan ebolavirus          </td> <td>Ebola             </td> <td>Virus   </td> <td>0.019  </td> <td>9    </td> <td>9       </td>\n",
       "        </tr>\n",
       "        <tr>\n",
       "            <td>HIV                       </td> <td>HIV               </td> <td>Virus   </td> <td>0.0088 </td> <td>10   </td> <td>10      </td>\n",
       "        </tr>\n",
       "        <tr>\n",
       "            <td>Dengue virus              </td> <td>Dengue fever      </td> <td>Virus   </td> <td>0.011  </td> <td>10   </td> <td>10      </td>\n",
       "        </tr>\n",
       "        <tr>\n",
       "            <td>Influenza A               </td> <td>Flu               </td> <td>Virus   </td> <td>0.013  </td> <td>11   </td> <td>11      </td>\n",
       "        </tr>\n",
       "        <tr>\n",
       "            <td>Variola major             </td> <td>Smallpox          </td> <td>Virus   </td> <td>0.19   </td> <td>206  </td> <td>206     </td>\n",
       "        </tr>\n",
       "        <tr>\n",
       "            <td>Helicobacter pylori       </td> <td>H. pylori         </td> <td>Bacteria</td> <td>1.6    </td> <td>1587 </td> <td>1545    </td>\n",
       "        </tr>\n",
       "        <tr>\n",
       "            <td>Streptococcus pyogenes    </td> <td>Strep throat      </td> <td>Bacteria</td> <td>1.91   </td> <td>2008 </td> <td>1860    </td>\n",
       "        </tr>\n",
       "        <tr>\n",
       "            <td>Clostridium tetani        </td> <td>Tetanus           </td> <td>Bacteria</td> <td>2.81   </td> <td>2740 </td> <td>2624    </td>\n",
       "        </tr>\n",
       "        <tr>\n",
       "            <td>Staphylococcus aureus     </td> <td>Staph infection   </td> <td>Bacteria</td> <td>2.98   </td> <td>3115 </td> <td>2944    </td>\n",
       "        </tr>\n",
       "        <tr>\n",
       "            <td>Pneumocystis jirovecii    </td> <td>Pneumonia         </td> <td>Fungus  </td> <td>8.18   </td> <td>3754 </td> <td>3537    </td>\n",
       "        </tr>\n",
       "        <tr>\n",
       "            <td>Bordetella pertussis      </td> <td>Whooping cough    </td> <td>Bacteria</td> <td>4.1    </td> <td>3987 </td> <td>3574    </td>\n",
       "        </tr>\n",
       "        <tr>\n",
       "            <td>Vibrio cholerae           </td> <td>Cholera           </td> <td>Bacteria</td> <td>4.36   </td> <td>4099 </td> <td>3808    </td>\n",
       "        </tr>\n",
       "        <tr>\n",
       "            <td>Mycobacterium tuberculosis</td> <td>Tuberculosis      </td> <td>Bacteria</td> <td>4.41   </td> <td>4300 </td> <td>4128    </td>\n",
       "        </tr>\n",
       "        <tr>\n",
       "            <td>Yersina pestis            </td> <td>Plague            </td> <td>Bacteria</td> <td>4.93   </td> <td>4773 </td> <td>4390    </td>\n",
       "        </tr>\n",
       "        <tr>\n",
       "            <td>Escherichia coli          </td> <td>E. coli           </td> <td>Bacteria</td> <td>5.1    </td> <td>5084 </td> <td>4721    </td>\n",
       "        </tr>\n",
       "        <tr>\n",
       "            <td>Plasmodium falciparum     </td> <td>Malaria (severe)  </td> <td>Parasite</td> <td>23.33  </td> <td>5670 </td> <td>5392    </td>\n",
       "        </tr>\n",
       "        <tr>\n",
       "            <td>Bacillus anthracis        </td> <td>Anthrax           </td> <td>Bacteria</td> <td>5.49   </td> <td>5804 </td> <td>5299    </td>\n",
       "        </tr>\n",
       "        <tr>\n",
       "            <td>Candida albicans          </td> <td>Yeast             </td> <td>Fungus  </td> <td>14.28  </td> <td>6263 </td> <td>6030    </td>\n",
       "        </tr>\n",
       "        <tr>\n",
       "            <td>Plasmodium vivax          </td> <td>Malaria (mild)    </td> <td>Parasite</td> <td>39.65  </td> <td>6829 </td> <td>6510    </td>\n",
       "        </tr>\n",
       "        <tr>\n",
       "            <td>Cryptococcus neoformans   </td> <td>Meningitis        </td> <td>Fungus  </td> <td>18.79  </td> <td>6914 </td> <td>6914    </td>\n",
       "        </tr>\n",
       "        <tr>\n",
       "            <td>Toxoplasma gondii         </td> <td>Toxoplasmosis     </td> <td>Parasite</td> <td>65.67  </td> <td>8505 </td> <td>8318    </td>\n",
       "        </tr>\n",
       "        <tr>\n",
       "            <td>Histoplasma capsulatum    </td> <td>Histoplasmosis    </td> <td>Fungus  </td> <td>38.96  </td> <td>9792 </td> <td>9547    </td>\n",
       "        </tr>\n",
       "        <tr>\n",
       "            <td>Stachybotrys chartarum    </td> <td>Black mold        </td> <td>Fungus  </td> <td>36.01  </td> <td>11370</td> <td>11368   </td>\n",
       "        </tr>\n",
       "        <tr>\n",
       "            <td>Aspergillus flavus        </td> <td>Aspergillosis     </td> <td>Fungus  </td> <td>37.7   </td> <td>12846</td> <td>12846   </td>\n",
       "        </tr>\n",
       "        <tr>\n",
       "            <td>Necator americanus        </td> <td>New World hookworm</td> <td>Parasite</td> <td>244.08 </td> <td>19153</td> <td>19153   </td>\n",
       "        </tr>\n",
       "        <tr>\n",
       "            <td>Aspergillus fumigatus     </td> <td>Aspergillosis     </td> <td>Fungus  </td> <td>29.385 </td> <td>19832</td> <td>19260   </td>\n",
       "        </tr>\n",
       "        <tr>\n",
       "            <td>Girardia tigrina          </td> <td>Girardia          </td> <td>Parasite</td> <td>1428.15</td> <td>22000</td> <td>22000   </td>\n",
       "        </tr>\n",
       "        <tr>\n",
       "            <td>Trypanosoma cruzi         </td> <td>Chagas disease    </td> <td>Parasite</td> <td>105    </td> <td>22570</td> <td>22570   </td>\n",
       "        </tr>\n",
       "        <tr>\n",
       "            <td>Ancylostoma duodenale     </td> <td>Old World hookworm</td> <td>Parasite</td> <td>332.88 </td> <td>27483</td> <td>27483   </td>\n",
       "        </tr>\n",
       "    </tbody>\n",
       "</table>"
      ],
      "text/plain": [
       "<IPython.core.display.HTML object>"
      ]
     },
     "metadata": {},
     "output_type": "display_data"
    }
   ],
   "source": [
    "# Display full table. How many organisms does it have? Hint: Table.num_rows\n",
    "# See Cell 3 if you need a hint\n",
    "\n",
    "pathogens.num_rows\n",
    "pathogens.sort('Genes', descending = False).show()"
   ]
  },
  {
   "cell_type": "markdown",
   "metadata": {},
   "source": [
    "With so many organisms, it can be hard to interpret the table. Histograms are a great way to visualize the distribution of a quantity of interest."
   ]
  },
  {
   "cell_type": "code",
   "execution_count": 30,
   "metadata": {},
   "outputs": [
    {
     "data": {
      "image/png": "[encoded data removed]",
      "text/plain": [
       "<Figure size 432x288 with 1 Axes>"
      ]
     },
     "metadata": {},
     "output_type": "display_data"
    }
   ],
   "source": [
    "# Histogram of genome sizes (in megabases)\n",
    "# object.hist('column_name', bins = b, normed = n)\n",
    "# b gives the number of bins in the histogram\n",
    "# n is either True or False for whether bin heights should be normalized by number of observations\n",
    "# Choose 20 bins and normed = False\n",
    "\n",
    "pathogens.hist('Size', bins = 50, normed = False)"
   ]
  },
  {
   "cell_type": "code",
   "execution_count": 31,
   "metadata": {},
   "outputs": [
    {
     "data": {
      "image/png": "[encoded data removed]",
      "text/plain": [
       "<Figure size 432x288 with 1 Axes>"
      ]
     },
     "metadata": {},
     "output_type": "display_data"
    }
   ],
   "source": [
    "# Histograms of genome sizes split by subgroup (aka pivot histograms)\n",
    "# Let's normalize by frequency here because each group may have a different number of \n",
    "# object.hist('column_name', group = variable_to_group_by, bins = b, normed = n)\n",
    "\n",
    "pathogens.hist('Size', group = 'Subgroup', \n",
    "                   normed=True, orientation='vertical', bins = 100)"
   ]
  },
  {
   "cell_type": "code",
   "execution_count": 32,
   "metadata": {},
   "outputs": [
    {
     "name": "stdout",
     "output_type": "stream",
     "text": [
      "(0.5605670844759859, 0.0008468974067117505)\n",
      "SpearmanrResult(correlation=0.961305719447032, pvalue=2.3915118381596974e-18)\n"
     ]
    },
    {
     "data": {
      "image/png": "[encoded data removed]",
      "text/plain": [
       "<Figure size 360x360 with 1 Axes>"
      ]
     },
     "metadata": {},
     "output_type": "display_data"
    }
   ],
   "source": [
    "# Make scatterplot of the number of genes vs the genome size in pathogens\n",
    "# Also print Pearson and Spearman correlations. \n",
    "# Command is print(sp.pearsonr(table['Variable1'], table['Variable2'])) or\n",
    "# print(sp.spearmanr(table['Variable1'], table['Variable2']))\n",
    "# Number of genes on Y axis, genome size on X axis\n",
    "# object.scatter('X_column', 'Y_column')\n",
    "\n",
    "pathogens.scatter('Size', 'Genes')\n",
    "print(sp.pearsonr(pathogens['Size'], pathogens['Genes']))\n",
    "print(sp.spearmanr(pathogens['Size'], pathogens['Genes']))"
   ]
  },
  {
   "cell_type": "code",
   "execution_count": 33,
   "metadata": {},
   "outputs": [
    {
     "name": "stdout",
     "output_type": "stream",
     "text": [
      "(0.9997453346178793, 5.808095711238621e-51)\n",
      "SpearmanrResult(correlation=0.9996332966629998, pvalue=1.3768563685902517e-48)\n"
     ]
    },
    {
     "data": {
      "image/png": "[encoded data removed]",
      "text/plain": [
       "<Figure size 360x360 with 1 Axes>"
      ]
     },
     "metadata": {},
     "output_type": "display_data"
    }
   ],
   "source": [
    "# Make scatterplot of the number of proteins vs number of genes in pathogens\n",
    "# Number of proteins on Y axis, number of genes on X axis\n",
    "# object.scatter('X_column', 'Y_column')\n",
    "# print respective correlations\n",
    "\n",
    "pathogens.scatter('Genes', 'Proteins')\n",
    "print(sp.pearsonr(pathogens['Genes'], pathogens['Proteins']))\n",
    "print(sp.spearmanr(pathogens['Genes'], pathogens['Proteins']))"
   ]
  },
  {
   "cell_type": "code",
   "execution_count": 34,
   "metadata": {},
   "outputs": [
    {
     "data": {
      "text/html": [
       "<table border=\"1\" class=\"dataframe\">\n",
       "    <thead>\n",
       "        <tr>\n",
       "            <th>Value</th> <th>Size</th> <th>Genes</th> <th>Proteins</th>\n",
       "        </tr>\n",
       "    </thead>\n",
       "    <tbody>\n",
       "        <tr>\n",
       "            <td>Mean  </td> <td>76.8761</td> <td>6898.06</td> <td>6752.53 </td>\n",
       "        </tr>\n",
       "        <tr>\n",
       "            <td>Median</td> <td>5.015  </td> <td>4536.5 </td> <td>4259    </td>\n",
       "        </tr>\n",
       "        <tr>\n",
       "            <td>SD    </td> <td>252.748</td> <td>7470.63</td> <td>7469.78 </td>\n",
       "        </tr>\n",
       "        <tr>\n",
       "            <td>IQR   </td> <td>35.185 </td> <td>7585   </td> <td>7415    </td>\n",
       "        </tr>\n",
       "    </tbody>\n",
       "</table>"
      ],
      "text/plain": [
       "Value  | Size    | Genes   | Proteins\n",
       "Mean   | 76.8761 | 6898.06 | 6752.53\n",
       "Median | 5.015   | 4536.5  | 4259\n",
       "SD     | 252.748 | 7470.63 | 7469.78\n",
       "IQR    | 35.185  | 7585    | 7415"
      ]
     },
     "execution_count": 34,
     "metadata": {},
     "output_type": "execute_result"
    }
   ],
   "source": [
    "# Compute the mean, median, standard deviation, and interquartile range for \n",
    "# the genome sizes, number of genes, and number of proteins. Store them in a table with \n",
    "# Size, Genes, and Proteins as the columns\n",
    "\n",
    "# mean: np.mean, median: np.median, standard deviation: np.std, IQR: sp.iqr\n",
    "# Put these into a table names pathogen_summary with columns corresponding to Size, Genes, and Proteins\n",
    "\n",
    "# Example of how to construct a table\n",
    "#t = Table().with_columns([\n",
    "#    'letter', ['a', 'b', 'c', 'z'],\n",
    "#    'count',  [  9,   3,   3,   1],\n",
    "#    'points', [  1,   2,   2,  10],\n",
    "#]) \n",
    "\n",
    "\n",
    "pathogen_summary = Table().with_columns([\n",
    "    'Value', ['Mean', 'Median', 'SD', 'IQR'],\n",
    "    'Size', [np.mean(pathogens['Size']), np.median(pathogens['Size']), np.std(pathogens['Size']), sp.iqr(pathogens['Size'])],\n",
    "    'Genes', [np.mean(pathogens['Genes']), np.median(pathogens['Genes']), np.std(pathogens['Genes']), sp.iqr(pathogens['Genes'])],\n",
    "    'Proteins', [np.mean(pathogens['Proteins']), np.median(pathogens['Proteins']), np.std(pathogens['Proteins']), sp.iqr(pathogens['Proteins'])],\n",
    "])\n",
    "\n",
    "pathogen_summary\n",
    "                                                                                                                  "
   ]
  },
  {
   "cell_type": "markdown",
   "metadata": {},
   "source": [
    "## Let's repeat this analysis but for animals"
   ]
  },
  {
   "cell_type": "code",
   "execution_count": 16,
   "metadata": {},
   "outputs": [],
   "source": [
    "# Load animal information. Name the table animals\n",
    "# See Cell 2 for a hint\n",
    "# filename is https://raw.githubusercontent.com/ds-connectors/Data88-Genetics_and_Genomics/master/Lab01/animals.csv\n",
    "\n",
    "animals = Table.read_table('https://raw.githubusercontent.com/ds-connectors/Data88-Genetics_and_Genomics/master/Lab01/animals.csv')"
   ]
  },
  {
   "cell_type": "code",
   "execution_count": 17,
   "metadata": {},
   "outputs": [
    {
     "data": {
      "text/html": [
       "<table border=\"1\" class=\"dataframe\">\n",
       "    <thead>\n",
       "        <tr>\n",
       "            <th>Scientific name</th> <th>Description</th> <th>Subgroup</th> <th>Size</th> <th>Genes</th> <th>Proteins</th>\n",
       "        </tr>\n",
       "    </thead>\n",
       "    <tbody>\n",
       "        <tr>\n",
       "            <td>Pan paniscus                          </td> <td>Bonobo              </td> <td>Mammals  </td> <td>3286.64</td> <td>95   </td> <td>15      </td>\n",
       "        </tr>\n",
       "        <tr>\n",
       "            <td>Salmo salar                           </td> <td>Atlantic salmon     </td> <td>Fishes   </td> <td>2966.89</td> <td>116  </td> <td>13      </td>\n",
       "        </tr>\n",
       "        <tr>\n",
       "            <td>Macaca mulatta                        </td> <td>Rhesus macaque      </td> <td>Mammals  </td> <td>3236.22</td> <td>186  </td> <td>99      </td>\n",
       "        </tr>\n",
       "        <tr>\n",
       "            <td>Bombus terrestris                     </td> <td>Large bumblebee     </td> <td>Insects  </td> <td>248.654</td> <td>11188</td> <td>20321   </td>\n",
       "        </tr>\n",
       "        <tr>\n",
       "            <td>Tribolium castaneum                   </td> <td>Red flour beetle    </td> <td>Insects  </td> <td>210.265</td> <td>13181</td> <td>18076   </td>\n",
       "        </tr>\n",
       "        <tr>\n",
       "            <td>Anopheles gambiae                     </td> <td>Mosquito            </td> <td>Insects  </td> <td>265.027</td> <td>13184</td> <td>14099   </td>\n",
       "        </tr>\n",
       "        <tr>\n",
       "            <td>Apis mellifera                        </td> <td>Western honey bee   </td> <td>Insects  </td> <td>250.287</td> <td>13401</td> <td>21777   </td>\n",
       "        </tr>\n",
       "        <tr>\n",
       "            <td>Nasonia vitripennis                   </td> <td>Small wasp          </td> <td>Insects  </td> <td>295.781</td> <td>14273</td> <td>24671   </td>\n",
       "        </tr>\n",
       "        <tr>\n",
       "            <td>Drosophila simulans                   </td> <td>Fruit fly           </td> <td>Insects  </td> <td>124.966</td> <td>15229</td> <td>24119   </td>\n",
       "        </tr>\n",
       "        <tr>\n",
       "            <td>Schistosoma mansoni                   </td> <td>Blood fluke         </td> <td>Flatworms</td> <td>364.538</td> <td>15882</td> <td>11787   </td>\n",
       "        </tr>\n",
       "        <tr>\n",
       "            <td>Drosophila yakuba                     </td> <td>African fruit fly   </td> <td>Insects  </td> <td>165.71 </td> <td>16079</td> <td>23317   </td>\n",
       "        </tr>\n",
       "        <tr>\n",
       "            <td>Drosophila pseudoobscura pseudoobscura</td> <td>Fruit fly           </td> <td>Insects  </td> <td>152.696</td> <td>16721</td> <td>23456   </td>\n",
       "        </tr>\n",
       "        <tr>\n",
       "            <td>Ficedula albicollis                   </td> <td>Collared flycatcher </td> <td>Birds    </td> <td>1118.34</td> <td>16778</td> <td>26090   </td>\n",
       "        </tr>\n",
       "        <tr>\n",
       "            <td>Taeniopygia guttata                   </td> <td>Zebra finch         </td> <td>Birds    </td> <td>1232.14</td> <td>17357</td> <td>19447   </td>\n",
       "        </tr>\n",
       "        <tr>\n",
       "            <td>Drosophila melanogaster               </td> <td>Common fruit fly    </td> <td>Insects  </td> <td>143.726</td> <td>17651</td> <td>30443   </td>\n",
       "        </tr>\n",
       "        <tr>\n",
       "            <td>Coturnix japonica                     </td> <td>Japanese quail      </td> <td>Birds    </td> <td>927.657</td> <td>20522</td> <td>39088   </td>\n",
       "        </tr>\n",
       "        <tr>\n",
       "            <td>Meleagris gallopavo                   </td> <td>Wild turkey         </td> <td>Birds    </td> <td>1128.34</td> <td>20903</td> <td>26423   </td>\n",
       "        </tr>\n",
       "        <tr>\n",
       "            <td>Anolis carolinensis                   </td> <td>Carolina anole      </td> <td>Reptiles </td> <td>1799.14</td> <td>21624</td> <td>32243   </td>\n",
       "        </tr>\n",
       "        <tr>\n",
       "            <td>Lepisosteus oculatus                  </td> <td>Spotted gar         </td> <td>Fishes   </td> <td>945.878</td> <td>21770</td> <td>41647   </td>\n",
       "        </tr>\n",
       "        <tr>\n",
       "            <td>Takifugu rubripes                     </td> <td>Japanese puffer     </td> <td>Fishes   </td> <td>391.485</td> <td>23164</td> <td>31052   </td>\n",
       "        </tr>\n",
       "        <tr>\n",
       "            <td>Ornithorhynchus anatinus              </td> <td>Platypus            </td> <td>Mammals  </td> <td>1995.61</td> <td>23777</td> <td>26109   </td>\n",
       "        </tr>\n",
       "        <tr>\n",
       "            <td>Cynoglossus semilaevis                </td> <td>Tiny fish           </td> <td>Fishes   </td> <td>470.199</td> <td>24079</td> <td>31632   </td>\n",
       "        </tr>\n",
       "        <tr>\n",
       "            <td>Microtus ochrogaster                  </td> <td>Prairie vole        </td> <td>Mammals  </td> <td>2287.34</td> <td>24260</td> <td>30752   </td>\n",
       "        </tr>\n",
       "        <tr>\n",
       "            <td>Chrysemys picta bellii                </td> <td>Painted turtle      </td> <td>Reptiles </td> <td>2365.77</td> <td>24356</td> <td>42558   </td>\n",
       "        </tr>\n",
       "        <tr>\n",
       "            <td>Gallus gallus                         </td> <td>Chicken             </td> <td>Birds    </td> <td>1230.26</td> <td>25062</td> <td>46393   </td>\n",
       "        </tr>\n",
       "        <tr>\n",
       "            <td>Felis catus                           </td> <td>Domestic cat        </td> <td>Mammals  </td> <td>2641.34</td> <td>25364</td> <td>33226   </td>\n",
       "        </tr>\n",
       "        <tr>\n",
       "            <td>Esox lucius                           </td> <td>Northern pike       </td> <td>Fishes   </td> <td>904.453</td> <td>26012</td> <td>43433   </td>\n",
       "        </tr>\n",
       "        <tr>\n",
       "            <td>Oryzias latipes                       </td> <td>Japanese rice fish  </td> <td>Fishes   </td> <td>869.818</td> <td>26074</td> <td>34487   </td>\n",
       "        </tr>\n",
       "        <tr>\n",
       "            <td>Poecilia reticulata                   </td> <td>Guppy               </td> <td>Fishes   </td> <td>731.622</td> <td>26235</td> <td>42641   </td>\n",
       "        </tr>\n",
       "        <tr>\n",
       "            <td>Capra hircus                          </td> <td>Goat                </td> <td>Mammals  </td> <td>2635.85</td> <td>26912</td> <td>30164   </td>\n",
       "        </tr>\n",
       "        <tr>\n",
       "            <td>Equus caballus                        </td> <td>Horse               </td> <td>Mammals  </td> <td>2474.93</td> <td>26948</td> <td>36064   </td>\n",
       "        </tr>\n",
       "        <tr>\n",
       "            <td>Nomascus leucogenys                   </td> <td>Gibbon              </td> <td>Mammals  </td> <td>2962.06</td> <td>28462</td> <td>38654   </td>\n",
       "        </tr>\n",
       "        <tr>\n",
       "            <td>Oryctolagus cuniculus                 </td> <td>European rabbit     </td> <td>Mammals  </td> <td>2737.46</td> <td>28903</td> <td>37564   </td>\n",
       "        </tr>\n",
       "        <tr>\n",
       "            <td>Canis lupus familiaris                </td> <td>Dog                 </td> <td>Mammals  </td> <td>2410.98</td> <td>30186</td> <td>47089   </td>\n",
       "        </tr>\n",
       "        <tr>\n",
       "            <td>Oreochromis niloticus                 </td> <td>Nile tilapia        </td> <td>Fishes   </td> <td>927.696</td> <td>30411</td> <td>47714   </td>\n",
       "        </tr>\n",
       "        <tr>\n",
       "            <td>Gorilla gorilla gorilla               </td> <td>Gorilla             </td> <td>Mammals  </td> <td>3035.66</td> <td>31329</td> <td>33704   </td>\n",
       "        </tr>\n",
       "        <tr>\n",
       "            <td>Bos taurus                            </td> <td>Cow                 </td> <td>Mammals  </td> <td>2670.14</td> <td>32432</td> <td>49107   </td>\n",
       "        </tr>\n",
       "        <tr>\n",
       "            <td>Pongo abelii                          </td> <td>Sumatran orangutan  </td> <td>Mammals  </td> <td>3441.24</td> <td>32434</td> <td>37509   </td>\n",
       "        </tr>\n",
       "        <tr>\n",
       "            <td>Macaca fascicularis                   </td> <td>Crab-eating macaque </td> <td>Mammals  </td> <td>2946.84</td> <td>33107</td> <td>62703   </td>\n",
       "        </tr>\n",
       "        <tr>\n",
       "            <td>Pan troglodytes                       </td> <td>Chimpanzee          </td> <td>Mammals  </td> <td>3309.58</td> <td>34813</td> <td>56786   </td>\n",
       "        </tr>\n",
       "        <tr>\n",
       "            <td>Callithrix jacchus                    </td> <td>Common marmoset     </td> <td>Mammals  </td> <td>2914.96</td> <td>34856</td> <td>44212   </td>\n",
       "        </tr>\n",
       "        <tr>\n",
       "            <td>Chlorocebus sabaeus                   </td> <td>Green monkey        </td> <td>Mammals  </td> <td>2789.66</td> <td>35027</td> <td>61803   </td>\n",
       "        </tr>\n",
       "        <tr>\n",
       "            <td>Parus major                           </td> <td>Great tit           </td> <td>Birds    </td> <td>1020.31</td> <td>35872</td> <td>76327   </td>\n",
       "        </tr>\n",
       "        <tr>\n",
       "            <td>Monodelphis domestica                 </td> <td>Short-tailed opossum</td> <td>Mammals  </td> <td>3598.44</td> <td>36227</td> <td>45804   </td>\n",
       "        </tr>\n",
       "        <tr>\n",
       "            <td>Rattus norvegicus                     </td> <td>Rat                 </td> <td>Mammals  </td> <td>2870.18</td> <td>37647</td> <td>50706   </td>\n",
       "        </tr>\n",
       "        <tr>\n",
       "            <td>Papio anubis                          </td> <td>Baboon              </td> <td>Mammals  </td> <td>2948.4 </td> <td>38695</td> <td>54082   </td>\n",
       "        </tr>\n",
       "        <tr>\n",
       "            <td>Sus scrofa                            </td> <td>Wild boar           </td> <td>Mammals  </td> <td>2808.53</td> <td>38792</td> <td>47400   </td>\n",
       "        </tr>\n",
       "        <tr>\n",
       "            <td>Danio rerio                           </td> <td>Zebrafish           </td> <td>Fishes   </td> <td>1371.72</td> <td>39803</td> <td>47861   </td>\n",
       "        </tr>\n",
       "        <tr>\n",
       "            <td>Mus musculus                          </td> <td>House mouse         </td> <td>Mammals  </td> <td>2803.57</td> <td>48855</td> <td>78065   </td>\n",
       "        </tr>\n",
       "        <tr>\n",
       "            <td>Homo sapiens                          </td> <td>Human               </td> <td>Mammals  </td> <td>3231.3 </td> <td>56201</td> <td>102633  </td>\n",
       "        </tr>\n",
       "        <tr>\n",
       "            <td>Ovis aries                            </td> <td>Sheep               </td> <td>Mammals  </td> <td>2615.52</td> <td>57491</td> <td>85433   </td>\n",
       "        </tr>\n",
       "    </tbody>\n",
       "</table>"
      ],
      "text/plain": [
       "<IPython.core.display.HTML object>"
      ]
     },
     "metadata": {},
     "output_type": "display_data"
    }
   ],
   "source": [
    "# Display full table. How many organisms does it have? Hint: Table.num_rows\n",
    "# See Cell 3 if you need a hint\n",
    "\n",
    "#animals.num_rows\n",
    "animals.sort('Genes', descending = False).show()"
   ]
  },
  {
   "cell_type": "code",
   "execution_count": 18,
   "metadata": {},
   "outputs": [
    {
     "data": {
      "image/png": "[encoded data removed]",
      "text/plain": [
       "<Figure size 432x288 with 1 Axes>"
      ]
     },
     "metadata": {},
     "output_type": "display_data"
    }
   ],
   "source": [
    "# Histogram of genome sizes (in megabases)\n",
    "\n",
    "animals.hist('Size', bins = 20, normed = False)"
   ]
  },
  {
   "cell_type": "code",
   "execution_count": 19,
   "metadata": {},
   "outputs": [
    {
     "data": {
      "image/png": "[encoded data removed]",
      "text/plain": [
       "<Figure size 432x288 with 1 Axes>"
      ]
     },
     "metadata": {},
     "output_type": "display_data"
    }
   ],
   "source": [
    "# Histograms of genome sizes split by Subgroup (aka pivot histograms)\n",
    "# Let's normalize by frequency here because each group may have a different number of \n",
    "\n",
    "animals.hist('Size', group = 'Subgroup', \n",
    "                   normed=True, orientation='vertical')"
   ]
  },
  {
   "cell_type": "code",
   "execution_count": 20,
   "metadata": {},
   "outputs": [
    {
     "name": "stdout",
     "output_type": "stream",
     "text": [
      "(0.4311571793582962, 0.0015849234416391465)\n",
      "SpearmanrResult(correlation=0.5430769230769231, pvalue=3.827883791479075e-05)\n"
     ]
    },
    {
     "data": {
      "image/png": "[encoded data removed]",
      "text/plain": [
       "<Figure size 360x360 with 1 Axes>"
      ]
     },
     "metadata": {},
     "output_type": "display_data"
    }
   ],
   "source": [
    "# Make scatterplot of the number of genes vs the genome size in animals\n",
    "# Print correlations\n",
    "\n",
    "animals.scatter('Size', 'Genes')\n",
    "print(sp.pearsonr(animals['Size'], animals['Genes']))\n",
    "print(sp.spearmanr(animals['Size'], animals['Genes']))"
   ]
  },
  {
   "cell_type": "code",
   "execution_count": 21,
   "metadata": {},
   "outputs": [
    {
     "name": "stdout",
     "output_type": "stream",
     "text": [
      "(0.9295083298077683, 7.208775414774146e-23)\n",
      "SpearmanrResult(correlation=0.9199999999999999, pvalue=1.4318281668150298e-21)\n"
     ]
    },
    {
     "data": {
      "image/png": "[encoded data removed]",
      "text/plain": [
       "<Figure size 360x360 with 1 Axes>"
      ]
     },
     "metadata": {},
     "output_type": "display_data"
    }
   ],
   "source": [
    "# Make scatterplot of the number of proteins vs number of genes in animals\n",
    "# Print correlations\n",
    "\n",
    "animals.scatter('Genes', 'Proteins')\n",
    "print(sp.pearsonr(animals['Genes'], animals['Proteins']))\n",
    "print(sp.spearmanr(animals['Genes'], animals['Proteins']))"
   ]
  },
  {
   "cell_type": "code",
   "execution_count": 35,
   "metadata": {},
   "outputs": [
    {
     "data": {
      "text/html": [
       "<table border=\"1\" class=\"dataframe\">\n",
       "    <thead>\n",
       "        <tr>\n",
       "            <th>Value</th> <th>Size</th> <th>Genes</th> <th>Proteins</th>\n",
       "        </tr>\n",
       "    </thead>\n",
       "    <tbody>\n",
       "        <tr>\n",
       "            <td>Mean  </td> <td>1789.72</td> <td>25684.8</td> <td>37858.8 </td>\n",
       "        </tr>\n",
       "        <tr>\n",
       "            <td>Median</td> <td>1995.61</td> <td>25364  </td> <td>36064   </td>\n",
       "        </tr>\n",
       "        <tr>\n",
       "            <td>SD    </td> <td>1155   </td> <td>11986.4</td> <td>20125.1 </td>\n",
       "        </tr>\n",
       "        <tr>\n",
       "            <td>IQR   </td> <td>2038.63</td> <td>15703  </td> <td>21864   </td>\n",
       "        </tr>\n",
       "    </tbody>\n",
       "</table>"
      ],
      "text/plain": [
       "Value  | Size    | Genes   | Proteins\n",
       "Mean   | 1789.72 | 25684.8 | 37858.8\n",
       "Median | 1995.61 | 25364   | 36064\n",
       "SD     | 1155    | 11986.4 | 20125.1\n",
       "IQR    | 2038.63 | 15703   | 21864"
      ]
     },
     "execution_count": 35,
     "metadata": {},
     "output_type": "execute_result"
    }
   ],
   "source": [
    "# Table of summary statistics (name it animal_summary)\n",
    "\n",
    "animal_summary = Table().with_columns([\n",
    "    'Value', ['Mean', 'Median', 'SD', 'IQR'],\n",
    "    'Size', [np.mean(animals['Size']), np.median(animals['Size']), np.std(animals['Size']), sp.iqr(animals['Size'])],\n",
    "    'Genes', [np.mean(animals['Genes']), np.median(animals['Genes']), np.std(animals['Genes']), sp.iqr(animals['Genes'])],\n",
    "    'Proteins', [np.mean(animals['Proteins']), np.median(animals['Proteins']), np.std(animals['Proteins']), sp.iqr(animals['Proteins'])],\n",
    "])\n",
    "\n",
    "animal_summary"
   ]
  },
  {
   "cell_type": "markdown",
   "metadata": {},
   "source": [
    "# Bonus exercises"
   ]
  },
  {
   "cell_type": "markdown",
   "metadata": {},
   "source": [
    "## Comparing pathogens and animals"
   ]
  },
  {
   "cell_type": "code",
   "execution_count": 52,
   "metadata": {},
   "outputs": [
    {
     "data": {
      "text/html": [
       "<table border=\"1\" class=\"dataframe\">\n",
       "    <thead>\n",
       "        <tr>\n",
       "            <th>Scientific name</th> <th>Description</th> <th>Subgroup</th> <th>Size</th> <th>Genes</th> <th>Proteins</th> <th>Type</th>\n",
       "        </tr>\n",
       "    </thead>\n",
       "    <tbody>\n",
       "        <tr>\n",
       "            <td>Yersina pestis                        </td> <td>Plague              </td> <td>Bacteria </td> <td>4.93   </td> <td>4773 </td> <td>4390    </td> <td>Pathogens</td>\n",
       "        </tr>\n",
       "        <tr>\n",
       "            <td>Mycobacterium tuberculosis            </td> <td>Tuberculosis        </td> <td>Bacteria </td> <td>4.41   </td> <td>4300 </td> <td>4128    </td> <td>Pathogens</td>\n",
       "        </tr>\n",
       "        <tr>\n",
       "            <td>Escherichia coli                      </td> <td>E. coli             </td> <td>Bacteria </td> <td>5.1    </td> <td>5084 </td> <td>4721    </td> <td>Pathogens</td>\n",
       "        </tr>\n",
       "        <tr>\n",
       "            <td>Helicobacter pylori                   </td> <td>H. pylori           </td> <td>Bacteria </td> <td>1.6    </td> <td>1587 </td> <td>1545    </td> <td>Pathogens</td>\n",
       "        </tr>\n",
       "        <tr>\n",
       "            <td>Bacillus anthracis                    </td> <td>Anthrax             </td> <td>Bacteria </td> <td>5.49   </td> <td>5804 </td> <td>5299    </td> <td>Pathogens</td>\n",
       "        </tr>\n",
       "        <tr>\n",
       "            <td>Clostridium tetani                    </td> <td>Tetanus             </td> <td>Bacteria </td> <td>2.81   </td> <td>2740 </td> <td>2624    </td> <td>Pathogens</td>\n",
       "        </tr>\n",
       "        <tr>\n",
       "            <td>Bordetella pertussis                  </td> <td>Whooping cough      </td> <td>Bacteria </td> <td>4.1    </td> <td>3987 </td> <td>3574    </td> <td>Pathogens</td>\n",
       "        </tr>\n",
       "        <tr>\n",
       "            <td>Staphylococcus aureus                 </td> <td>Staph infection     </td> <td>Bacteria </td> <td>2.98   </td> <td>3115 </td> <td>2944    </td> <td>Pathogens</td>\n",
       "        </tr>\n",
       "        <tr>\n",
       "            <td>Streptococcus pyogenes                </td> <td>Strep throat        </td> <td>Bacteria </td> <td>1.91   </td> <td>2008 </td> <td>1860    </td> <td>Pathogens</td>\n",
       "        </tr>\n",
       "        <tr>\n",
       "            <td>Vibrio cholerae                       </td> <td>Cholera             </td> <td>Bacteria </td> <td>4.36   </td> <td>4099 </td> <td>3808    </td> <td>Pathogens</td>\n",
       "        </tr>\n",
       "        <tr>\n",
       "            <td>Variola major                         </td> <td>Smallpox            </td> <td>Virus    </td> <td>0.19   </td> <td>206  </td> <td>206     </td> <td>Pathogens</td>\n",
       "        </tr>\n",
       "        <tr>\n",
       "            <td>HIV                                   </td> <td>HIV                 </td> <td>Virus    </td> <td>0.0088 </td> <td>10   </td> <td>10      </td> <td>Pathogens</td>\n",
       "        </tr>\n",
       "        <tr>\n",
       "            <td>Sudan ebolavirus                      </td> <td>Ebola               </td> <td>Virus    </td> <td>0.019  </td> <td>9    </td> <td>9       </td> <td>Pathogens</td>\n",
       "        </tr>\n",
       "        <tr>\n",
       "            <td>Measles morbillivirus                 </td> <td>Measles             </td> <td>Virus    </td> <td>0.016  </td> <td>8    </td> <td>8       </td> <td>Pathogens</td>\n",
       "        </tr>\n",
       "        <tr>\n",
       "            <td>Influenza A                           </td> <td>Flu                 </td> <td>Virus    </td> <td>0.013  </td> <td>11   </td> <td>11      </td> <td>Pathogens</td>\n",
       "        </tr>\n",
       "        <tr>\n",
       "            <td>West Nile Virus                       </td> <td>West Nile Virus     </td> <td>Virus    </td> <td>0.011  </td> <td>3    </td> <td>3       </td> <td>Pathogens</td>\n",
       "        </tr>\n",
       "        <tr>\n",
       "            <td>Zika Virus                            </td> <td>Zika                </td> <td>Virus    </td> <td>0.011  </td> <td>3    </td> <td>3       </td> <td>Pathogens</td>\n",
       "        </tr>\n",
       "        <tr>\n",
       "            <td>Dengue virus                          </td> <td>Dengue fever        </td> <td>Virus    </td> <td>0.011  </td> <td>10   </td> <td>10      </td> <td>Pathogens</td>\n",
       "        </tr>\n",
       "        <tr>\n",
       "            <td>Ancylostoma duodenale                 </td> <td>Old World hookworm  </td> <td>Parasite </td> <td>332.88 </td> <td>27483</td> <td>27483   </td> <td>Pathogens</td>\n",
       "        </tr>\n",
       "        <tr>\n",
       "            <td>Necator americanus                    </td> <td>New World hookworm  </td> <td>Parasite </td> <td>244.08 </td> <td>19153</td> <td>19153   </td> <td>Pathogens</td>\n",
       "        </tr>\n",
       "        <tr>\n",
       "            <td>Toxoplasma gondii                     </td> <td>Toxoplasmosis       </td> <td>Parasite </td> <td>65.67  </td> <td>8505 </td> <td>8318    </td> <td>Pathogens</td>\n",
       "        </tr>\n",
       "        <tr>\n",
       "            <td>Girardia tigrina                      </td> <td>Girardia            </td> <td>Parasite </td> <td>1428.15</td> <td>22000</td> <td>22000   </td> <td>Pathogens</td>\n",
       "        </tr>\n",
       "        <tr>\n",
       "            <td>Trypanosoma cruzi                     </td> <td>Chagas disease      </td> <td>Parasite </td> <td>105    </td> <td>22570</td> <td>22570   </td> <td>Pathogens</td>\n",
       "        </tr>\n",
       "        <tr>\n",
       "            <td>Plasmodium vivax                      </td> <td>Malaria (mild)      </td> <td>Parasite </td> <td>39.65  </td> <td>6829 </td> <td>6510    </td> <td>Pathogens</td>\n",
       "        </tr>\n",
       "        <tr>\n",
       "            <td>Plasmodium falciparum                 </td> <td>Malaria (severe)    </td> <td>Parasite </td> <td>23.33  </td> <td>5670 </td> <td>5392    </td> <td>Pathogens</td>\n",
       "        </tr>\n",
       "        <tr>\n",
       "            <td>Stachybotrys chartarum                </td> <td>Black mold          </td> <td>Fungus   </td> <td>36.01  </td> <td>11370</td> <td>11368   </td> <td>Pathogens</td>\n",
       "        </tr>\n",
       "        <tr>\n",
       "            <td>Pneumocystis jirovecii                </td> <td>Pneumonia           </td> <td>Fungus   </td> <td>8.18   </td> <td>3754 </td> <td>3537    </td> <td>Pathogens</td>\n",
       "        </tr>\n",
       "        <tr>\n",
       "            <td>Histoplasma capsulatum                </td> <td>Histoplasmosis      </td> <td>Fungus   </td> <td>38.96  </td> <td>9792 </td> <td>9547    </td> <td>Pathogens</td>\n",
       "        </tr>\n",
       "        <tr>\n",
       "            <td>Cryptococcus neoformans               </td> <td>Meningitis          </td> <td>Fungus   </td> <td>18.79  </td> <td>6914 </td> <td>6914    </td> <td>Pathogens</td>\n",
       "        </tr>\n",
       "        <tr>\n",
       "            <td>Aspergillus flavus                    </td> <td>Aspergillosis       </td> <td>Fungus   </td> <td>37.7   </td> <td>12846</td> <td>12846   </td> <td>Pathogens</td>\n",
       "        </tr>\n",
       "        <tr>\n",
       "            <td>Aspergillus fumigatus                 </td> <td>Aspergillosis       </td> <td>Fungus   </td> <td>29.385 </td> <td>19832</td> <td>19260   </td> <td>Pathogens</td>\n",
       "        </tr>\n",
       "        <tr>\n",
       "            <td>Candida albicans                      </td> <td>Yeast               </td> <td>Fungus   </td> <td>14.28  </td> <td>6263 </td> <td>6030    </td> <td>Pathogens</td>\n",
       "        </tr>\n",
       "        <tr>\n",
       "            <td>Drosophila yakuba                     </td> <td>African fruit fly   </td> <td>Insects  </td> <td>165.71 </td> <td>16079</td> <td>23317   </td> <td>Animals  </td>\n",
       "        </tr>\n",
       "        <tr>\n",
       "            <td>Homo sapiens                          </td> <td>Human               </td> <td>Mammals  </td> <td>3231.3 </td> <td>56201</td> <td>102633  </td> <td>Animals  </td>\n",
       "        </tr>\n",
       "        <tr>\n",
       "            <td>Anopheles gambiae                     </td> <td>Mosquito            </td> <td>Insects  </td> <td>265.027</td> <td>13184</td> <td>14099   </td> <td>Animals  </td>\n",
       "        </tr>\n",
       "        <tr>\n",
       "            <td>Drosophila melanogaster               </td> <td>Common fruit fly    </td> <td>Insects  </td> <td>143.726</td> <td>17651</td> <td>30443   </td> <td>Animals  </td>\n",
       "        </tr>\n",
       "        <tr>\n",
       "            <td>Apis mellifera                        </td> <td>Western honey bee   </td> <td>Insects  </td> <td>250.287</td> <td>13401</td> <td>21777   </td> <td>Animals  </td>\n",
       "        </tr>\n",
       "        <tr>\n",
       "            <td>Danio rerio                           </td> <td>Zebrafish           </td> <td>Fishes   </td> <td>1371.72</td> <td>39803</td> <td>47861   </td> <td>Animals  </td>\n",
       "        </tr>\n",
       "        <tr>\n",
       "            <td>Mus musculus                          </td> <td>House mouse         </td> <td>Mammals  </td> <td>2803.57</td> <td>48855</td> <td>78065   </td> <td>Animals  </td>\n",
       "        </tr>\n",
       "        <tr>\n",
       "            <td>Takifugu rubripes                     </td> <td>Japanese puffer     </td> <td>Fishes   </td> <td>391.485</td> <td>23164</td> <td>31052   </td> <td>Animals  </td>\n",
       "        </tr>\n",
       "        <tr>\n",
       "            <td>Rattus norvegicus                     </td> <td>Rat                 </td> <td>Mammals  </td> <td>2870.18</td> <td>37647</td> <td>50706   </td> <td>Animals  </td>\n",
       "        </tr>\n",
       "        <tr>\n",
       "            <td>Felis catus                           </td> <td>Domestic cat        </td> <td>Mammals  </td> <td>2641.34</td> <td>25364</td> <td>33226   </td> <td>Animals  </td>\n",
       "        </tr>\n",
       "        <tr>\n",
       "            <td>Bos taurus                            </td> <td>Cow                 </td> <td>Mammals  </td> <td>2670.14</td> <td>32432</td> <td>49107   </td> <td>Animals  </td>\n",
       "        </tr>\n",
       "        <tr>\n",
       "            <td>Sus scrofa                            </td> <td>Wild boar           </td> <td>Mammals  </td> <td>2808.53</td> <td>38792</td> <td>47400   </td> <td>Animals  </td>\n",
       "        </tr>\n",
       "        <tr>\n",
       "            <td>Ornithorhynchus anatinus              </td> <td>Platypus            </td> <td>Mammals  </td> <td>1995.61</td> <td>23777</td> <td>26109   </td> <td>Animals  </td>\n",
       "        </tr>\n",
       "        <tr>\n",
       "            <td>Gallus gallus                         </td> <td>Chicken             </td> <td>Birds    </td> <td>1230.26</td> <td>25062</td> <td>46393   </td> <td>Animals  </td>\n",
       "        </tr>\n",
       "        <tr>\n",
       "            <td>Meleagris gallopavo                   </td> <td>Wild turkey         </td> <td>Birds    </td> <td>1128.34</td> <td>20903</td> <td>26423   </td> <td>Animals  </td>\n",
       "        </tr>\n",
       "        <tr>\n",
       "            <td>Coturnix japonica                     </td> <td>Japanese quail      </td> <td>Birds    </td> <td>927.657</td> <td>20522</td> <td>39088   </td> <td>Animals  </td>\n",
       "        </tr>\n",
       "        <tr>\n",
       "            <td>Equus caballus                        </td> <td>Horse               </td> <td>Mammals  </td> <td>2474.93</td> <td>26948</td> <td>36064   </td> <td>Animals  </td>\n",
       "        </tr>\n",
       "        <tr>\n",
       "            <td>Oreochromis niloticus                 </td> <td>Nile tilapia        </td> <td>Fishes   </td> <td>927.696</td> <td>30411</td> <td>47714   </td> <td>Animals  </td>\n",
       "        </tr>\n",
       "        <tr>\n",
       "            <td>Papio anubis                          </td> <td>Baboon              </td> <td>Mammals  </td> <td>2948.4 </td> <td>38695</td> <td>54082   </td> <td>Animals  </td>\n",
       "        </tr>\n",
       "        <tr>\n",
       "            <td>Ovis aries                            </td> <td>Sheep               </td> <td>Mammals  </td> <td>2615.52</td> <td>57491</td> <td>85433   </td> <td>Animals  </td>\n",
       "        </tr>\n",
       "        <tr>\n",
       "            <td>Canis lupus familiaris                </td> <td>Dog                 </td> <td>Mammals  </td> <td>2410.98</td> <td>30186</td> <td>47089   </td> <td>Animals  </td>\n",
       "        </tr>\n",
       "        <tr>\n",
       "            <td>Drosophila simulans                   </td> <td>Fruit fly           </td> <td>Insects  </td> <td>124.966</td> <td>15229</td> <td>24119   </td> <td>Animals  </td>\n",
       "        </tr>\n",
       "        <tr>\n",
       "            <td>Pan troglodytes                       </td> <td>Chimpanzee          </td> <td>Mammals  </td> <td>3309.58</td> <td>34813</td> <td>56786   </td> <td>Animals  </td>\n",
       "        </tr>\n",
       "        <tr>\n",
       "            <td>Monodelphis domestica                 </td> <td>Short-tailed opossum</td> <td>Mammals  </td> <td>3598.44</td> <td>36227</td> <td>45804   </td> <td>Animals  </td>\n",
       "        </tr>\n",
       "        <tr>\n",
       "            <td>Tribolium castaneum                   </td> <td>Red flour beetle    </td> <td>Insects  </td> <td>210.265</td> <td>13181</td> <td>18076   </td> <td>Animals  </td>\n",
       "        </tr>\n",
       "        <tr>\n",
       "            <td>Drosophila pseudoobscura pseudoobscura</td> <td>Fruit fly           </td> <td>Insects  </td> <td>152.696</td> <td>16721</td> <td>23456   </td> <td>Animals  </td>\n",
       "        </tr>\n",
       "        <tr>\n",
       "            <td>Macaca mulatta                        </td> <td>Rhesus macaque      </td> <td>Mammals  </td> <td>3236.22</td> <td>186  </td> <td>99      </td> <td>Animals  </td>\n",
       "        </tr>\n",
       "        <tr>\n",
       "            <td>Schistosoma mansoni                   </td> <td>Blood fluke         </td> <td>Flatworms</td> <td>364.538</td> <td>15882</td> <td>11787   </td> <td>Animals  </td>\n",
       "        </tr>\n",
       "        <tr>\n",
       "            <td>Oryctolagus cuniculus                 </td> <td>European rabbit     </td> <td>Mammals  </td> <td>2737.46</td> <td>28903</td> <td>37564   </td> <td>Animals  </td>\n",
       "        </tr>\n",
       "        <tr>\n",
       "            <td>Pongo abelii                          </td> <td>Sumatran orangutan  </td> <td>Mammals  </td> <td>3441.24</td> <td>32434</td> <td>37509   </td> <td>Animals  </td>\n",
       "        </tr>\n",
       "        <tr>\n",
       "            <td>Taeniopygia guttata                   </td> <td>Zebra finch         </td> <td>Birds    </td> <td>1232.14</td> <td>17357</td> <td>19447   </td> <td>Animals  </td>\n",
       "        </tr>\n",
       "        <tr>\n",
       "            <td>Salmo salar                           </td> <td>Atlantic salmon     </td> <td>Fishes   </td> <td>2966.89</td> <td>116  </td> <td>13      </td> <td>Animals  </td>\n",
       "        </tr>\n",
       "        <tr>\n",
       "            <td>Callithrix jacchus                    </td> <td>Common marmoset     </td> <td>Mammals  </td> <td>2914.96</td> <td>34856</td> <td>44212   </td> <td>Animals  </td>\n",
       "        </tr>\n",
       "        <tr>\n",
       "            <td>Nasonia vitripennis                   </td> <td>Small wasp          </td> <td>Insects  </td> <td>295.781</td> <td>14273</td> <td>24671   </td> <td>Animals  </td>\n",
       "        </tr>\n",
       "        <tr>\n",
       "            <td>Nomascus leucogenys                   </td> <td>Gibbon              </td> <td>Mammals  </td> <td>2962.06</td> <td>28462</td> <td>38654   </td> <td>Animals  </td>\n",
       "        </tr>\n",
       "        <tr>\n",
       "            <td>Oryzias latipes                       </td> <td>Japanese rice fish  </td> <td>Fishes   </td> <td>869.818</td> <td>26074</td> <td>34487   </td> <td>Animals  </td>\n",
       "        </tr>\n",
       "        <tr>\n",
       "            <td>Anolis carolinensis                   </td> <td>Carolina anole      </td> <td>Reptiles </td> <td>1799.14</td> <td>21624</td> <td>32243   </td> <td>Animals  </td>\n",
       "        </tr>\n",
       "        <tr>\n",
       "            <td>Macaca fascicularis                   </td> <td>Crab-eating macaque </td> <td>Mammals  </td> <td>2946.84</td> <td>33107</td> <td>62703   </td> <td>Animals  </td>\n",
       "        </tr>\n",
       "        <tr>\n",
       "            <td>Gorilla gorilla gorilla               </td> <td>Gorilla             </td> <td>Mammals  </td> <td>3035.66</td> <td>31329</td> <td>33704   </td> <td>Animals  </td>\n",
       "        </tr>\n",
       "        <tr>\n",
       "            <td>Bombus terrestris                     </td> <td>Large bumblebee     </td> <td>Insects  </td> <td>248.654</td> <td>11188</td> <td>20321   </td> <td>Animals  </td>\n",
       "        </tr>\n",
       "        <tr>\n",
       "            <td>Lepisosteus oculatus                  </td> <td>Spotted gar         </td> <td>Fishes   </td> <td>945.878</td> <td>21770</td> <td>41647   </td> <td>Animals  </td>\n",
       "        </tr>\n",
       "        <tr>\n",
       "            <td>Pan paniscus                          </td> <td>Bonobo              </td> <td>Mammals  </td> <td>3286.64</td> <td>95   </td> <td>15      </td> <td>Animals  </td>\n",
       "        </tr>\n",
       "        <tr>\n",
       "            <td>Capra hircus                          </td> <td>Goat                </td> <td>Mammals  </td> <td>2635.85</td> <td>26912</td> <td>30164   </td> <td>Animals  </td>\n",
       "        </tr>\n",
       "        <tr>\n",
       "            <td>Microtus ochrogaster                  </td> <td>Prairie vole        </td> <td>Mammals  </td> <td>2287.34</td> <td>24260</td> <td>30752   </td> <td>Animals  </td>\n",
       "        </tr>\n",
       "        <tr>\n",
       "            <td>Cynoglossus semilaevis                </td> <td>Tiny fish           </td> <td>Fishes   </td> <td>470.199</td> <td>24079</td> <td>31632   </td> <td>Animals  </td>\n",
       "        </tr>\n",
       "        <tr>\n",
       "            <td>Ficedula albicollis                   </td> <td>Collared flycatcher </td> <td>Birds    </td> <td>1118.34</td> <td>16778</td> <td>26090   </td> <td>Animals  </td>\n",
       "        </tr>\n",
       "        <tr>\n",
       "            <td>Chrysemys picta bellii                </td> <td>Painted turtle      </td> <td>Reptiles </td> <td>2365.77</td> <td>24356</td> <td>42558   </td> <td>Animals  </td>\n",
       "        </tr>\n",
       "        <tr>\n",
       "            <td>Parus major                           </td> <td>Great tit           </td> <td>Birds    </td> <td>1020.31</td> <td>35872</td> <td>76327   </td> <td>Animals  </td>\n",
       "        </tr>\n",
       "        <tr>\n",
       "            <td>Chlorocebus sabaeus                   </td> <td>Green monkey        </td> <td>Mammals  </td> <td>2789.66</td> <td>35027</td> <td>61803   </td> <td>Animals  </td>\n",
       "        </tr>\n",
       "        <tr>\n",
       "            <td>Esox lucius                           </td> <td>Northern pike       </td> <td>Fishes   </td> <td>904.453</td> <td>26012</td> <td>43433   </td> <td>Animals  </td>\n",
       "        </tr>\n",
       "        <tr>\n",
       "            <td>Poecilia reticulata                   </td> <td>Guppy               </td> <td>Fishes   </td> <td>731.622</td> <td>26235</td> <td>42641   </td> <td>Animals  </td>\n",
       "        </tr>\n",
       "    </tbody>\n",
       "</table>"
      ],
      "text/plain": [
       "<IPython.core.display.HTML object>"
      ]
     },
     "metadata": {},
     "output_type": "display_data"
    }
   ],
   "source": [
    "# We need to merge the tables before comparing. Name the new table merged\n",
    "\n",
    "# First, add a new column named 'Type' to each table which says either 'Pathogens' or 'Animals'\n",
    "# Hint: table.append_column(column_name, word)\n",
    "\n",
    "pathogens.append_column('Type', 'Pathogens')\n",
    "animals.append_column('Type', 'Animals')\n",
    "\n",
    "# First set merged equal to pathogens.copy(). This creates a copy of the pathogens table\n",
    "# and sets the new table merged equal to the copy. This avoids aliasing, in which \n",
    "# merged = pathogens stores these as the same object.\n",
    "\n",
    "merged = pathogens.copy()\n",
    "\n",
    "# Then use the table.append(table2) syntax to merge the tables\n",
    "merged = merged.append(animals)\n",
    "\n",
    "merged.show()\n"
   ]
  },
  {
   "cell_type": "code",
   "execution_count": 48,
   "metadata": {},
   "outputs": [
    {
     "data": {
      "image/png": "[encoded data removed]",
      "text/plain": [
       "<Figure size 432x288 with 1 Axes>"
      ]
     },
     "metadata": {},
     "output_type": "display_data"
    }
   ],
   "source": [
    "# Make the normalized pivot histogram of genome sizes with 50 bins\n",
    "merged.hist('Size', group = 'Type', \n",
    "                   normed=True, orientation='vertical', bins = 50)"
   ]
  },
  {
   "cell_type": "markdown",
   "metadata": {},
   "source": [
    "### The scaling is kind of distorted because of the wide range of values. Perhaps a log transformation would make things look better?"
   ]
  },
  {
   "cell_type": "code",
   "execution_count": 26,
   "metadata": {},
   "outputs": [
    {
     "data": {
      "text/html": [
       "<table border=\"1\" class=\"dataframe\">\n",
       "    <thead>\n",
       "        <tr>\n",
       "            <th>Scientific name</th> <th>Description</th> <th>Subgroup</th> <th>Size</th> <th>Genes</th> <th>Proteins</th> <th>Type</th> <th>Log size</th>\n",
       "        </tr>\n",
       "    </thead>\n",
       "    <tbody>\n",
       "        <tr>\n",
       "            <td>Yersina pestis            </td> <td>Plague         </td> <td>Bacteria</td> <td>4.93</td> <td>4773 </td> <td>4390    </td> <td>Pathogens</td> <td>6.69285 </td>\n",
       "        </tr>\n",
       "        <tr>\n",
       "            <td>Mycobacterium tuberculosis</td> <td>Tuberculosis   </td> <td>Bacteria</td> <td>4.41</td> <td>4300 </td> <td>4128    </td> <td>Pathogens</td> <td>6.64444 </td>\n",
       "        </tr>\n",
       "        <tr>\n",
       "            <td>Escherichia coli          </td> <td>E. coli        </td> <td>Bacteria</td> <td>5.1 </td> <td>5084 </td> <td>4721    </td> <td>Pathogens</td> <td>6.70757 </td>\n",
       "        </tr>\n",
       "        <tr>\n",
       "            <td>Helicobacter pylori       </td> <td>H. pylori      </td> <td>Bacteria</td> <td>1.6 </td> <td>1587 </td> <td>1545    </td> <td>Pathogens</td> <td>6.20412 </td>\n",
       "        </tr>\n",
       "        <tr>\n",
       "            <td>Bacillus anthracis        </td> <td>Anthrax        </td> <td>Bacteria</td> <td>5.49</td> <td>5804 </td> <td>5299    </td> <td>Pathogens</td> <td>6.73957 </td>\n",
       "        </tr>\n",
       "        <tr>\n",
       "            <td>Clostridium tetani        </td> <td>Tetanus        </td> <td>Bacteria</td> <td>2.81</td> <td>2740 </td> <td>2624    </td> <td>Pathogens</td> <td>6.44871 </td>\n",
       "        </tr>\n",
       "        <tr>\n",
       "            <td>Bordetella pertussis      </td> <td>Whooping cough </td> <td>Bacteria</td> <td>4.1 </td> <td>3987 </td> <td>3574    </td> <td>Pathogens</td> <td>6.61278 </td>\n",
       "        </tr>\n",
       "        <tr>\n",
       "            <td>Staphylococcus aureus     </td> <td>Staph infection</td> <td>Bacteria</td> <td>2.98</td> <td>3115 </td> <td>2944    </td> <td>Pathogens</td> <td>6.47422 </td>\n",
       "        </tr>\n",
       "        <tr>\n",
       "            <td>Streptococcus pyogenes    </td> <td>Strep throat   </td> <td>Bacteria</td> <td>1.91</td> <td>2008 </td> <td>1860    </td> <td>Pathogens</td> <td>6.28103 </td>\n",
       "        </tr>\n",
       "        <tr>\n",
       "            <td>Vibrio cholerae           </td> <td>Cholera        </td> <td>Bacteria</td> <td>4.36</td> <td>4099 </td> <td>3808    </td> <td>Pathogens</td> <td>6.63949 </td>\n",
       "        </tr>\n",
       "    </tbody>\n",
       "</table>\n",
       "<p>... (73 rows omitted)</p>"
      ],
      "text/plain": [
       "Scientific name            | Description     | Subgroup | Size | Genes | Proteins | Type      | Log size\n",
       "Yersina pestis             | Plague          | Bacteria | 4.93 | 4773  | 4390     | Pathogens | 6.69285\n",
       "Mycobacterium tuberculosis | Tuberculosis    | Bacteria | 4.41 | 4300  | 4128     | Pathogens | 6.64444\n",
       "Escherichia coli           | E. coli         | Bacteria | 5.1  | 5084  | 4721     | Pathogens | 6.70757\n",
       "Helicobacter pylori        | H. pylori       | Bacteria | 1.6  | 1587  | 1545     | Pathogens | 6.20412\n",
       "Bacillus anthracis         | Anthrax         | Bacteria | 5.49 | 5804  | 5299     | Pathogens | 6.73957\n",
       "Clostridium tetani         | Tetanus         | Bacteria | 2.81 | 2740  | 2624     | Pathogens | 6.44871\n",
       "Bordetella pertussis       | Whooping cough  | Bacteria | 4.1  | 3987  | 3574     | Pathogens | 6.61278\n",
       "Staphylococcus aureus      | Staph infection | Bacteria | 2.98 | 3115  | 2944     | Pathogens | 6.47422\n",
       "Streptococcus pyogenes     | Strep throat    | Bacteria | 1.91 | 2008  | 1860     | Pathogens | 6.28103\n",
       "Vibrio cholerae            | Cholera         | Bacteria | 4.36 | 4099  | 3808     | Pathogens | 6.63949\n",
       "... (73 rows omitted)"
      ]
     },
     "execution_count": 26,
     "metadata": {},
     "output_type": "execute_result"
    }
   ],
   "source": [
    "# Append a new column named 'Log size'\n",
    "# Use np.log10 to take the log10 of the 'Size' column. Remember that these are in Mb, so you should add 6 after taking the log!\n",
    "\n",
    "merged.append_column('Log size', np.log10(merged['Size'])+6)"
   ]
  },
  {
   "cell_type": "code",
   "execution_count": 27,
   "metadata": {},
   "outputs": [
    {
     "data": {
      "image/png": "[encoded data removed]",
      "text/plain": [
       "<Figure size 432x288 with 1 Axes>"
      ]
     },
     "metadata": {},
     "output_type": "display_data"
    }
   ],
   "source": [
    "# Make the normalized pivot histogram of genome sizes with 50 bins\n",
    "merged.hist('Log size', group = 'Type', \n",
    "                   normed=True, orientation='vertical', bins = 50)"
   ]
  },
  {
   "cell_type": "code",
   "execution_count": null,
   "metadata": {},
   "outputs": [],
   "source": []
  }
 ],
 "metadata": {
  "kernelspec": {
   "display_name": "Python 3",
   "language": "python",
   "name": "python3"
  },
  "language_info": {
   "codemirror_mode": {
    "name": "ipython",
    "version": 3
   },
   "file_extension": ".py",
   "mimetype": "text/x-python",
   "name": "python",
   "nbconvert_exporter": "python",
   "pygments_lexer": "ipython3",
   "version": "3.7.3"
  }
 },
 "nbformat": 4,
 "nbformat_minor": 2
}
