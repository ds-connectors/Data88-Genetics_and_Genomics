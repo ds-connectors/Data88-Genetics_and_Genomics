{
 "cells": [
  {
   "cell_type": "markdown",
   "metadata": {},
   "source": [
    "### Data 88: Data Science for Genetics and Genomics - 09/17/19\n",
    "\n",
    "# *Lab 1 - Comparative Genomics with EDA*\n",
    "\n",
    "### by Jonathan Fischer (adapted in part from work by Shishi Luo) "
   ]
  },
  {
   "cell_type": "code",
   "execution_count": null,
   "metadata": {},
   "outputs": [],
   "source": [
    "# Import the necessary modules\n",
    "from datascience import *\n",
    "%matplotlib inline\n",
    "import matplotlib.pyplot as plt\n",
    "import numpy as np\n",
    "import scipy.stats as sp\n",
    "plt.style.use('fivethirtyeight')"
   ]
  },
  {
   "cell_type": "markdown",
   "metadata": {},
   "source": [
    "## Let's explore genome sizes for some commonly studied organisms"
   ]
  },
  {
   "cell_type": "code",
   "execution_count": null,
   "metadata": {},
   "outputs": [],
   "source": [
    "# Load table of model organisms\n",
    "# name your table model_species\n",
    "\n",
    "# Hints:\n",
    "# table_name = Table.read_table('filename')\n",
    "# filename = https://raw.githubusercontent.com/ds-connectors/Data88-Genetics_and_Genomics/master/Lab01/model_species.csv\n",
    "\n"
   ]
  },
  {
   "cell_type": "code",
   "execution_count": null,
   "metadata": {},
   "outputs": [],
   "source": [
    "# We can see the whole table with the table_name.show() command. table_name will show the first 10 rows. Try it out!\n",
    "# table_name.show()\n"
   ]
  },
  {
   "cell_type": "code",
   "execution_count": null,
   "metadata": {},
   "outputs": [],
   "source": [
    "# Let's rank organisms by their genome size. To sort the table, \n",
    "# use table_name.sort('Column_name').show()\n",
    "# to sort in descending order, use the additional option like so: \n",
    "# table_name.sort('Column_name', descending = True).show()\n",
    "# Try both ways out\n",
    "\n"
   ]
  },
  {
   "cell_type": "code",
   "execution_count": null,
   "metadata": {},
   "outputs": [],
   "source": [
    "# Can we extract just the organisms with more than 60,000 genes? This is the rough number that humans have. \n",
    "# This is done by table_name.where(table_name['Column_name'] ~ condition). \n",
    "# ~ in the above is the operator for the condition. In this case, it's > for greater than\n"
   ]
  },
  {
   "cell_type": "markdown",
   "metadata": {},
   "source": [
    "## Let's compare the genome sizes of some pathogens"
   ]
  },
  {
   "cell_type": "code",
   "execution_count": null,
   "metadata": {},
   "outputs": [],
   "source": [
    "# Load pathogen information. Name the table pathogens\n",
    "# See Cell 2 for a hint\n",
    "# filename is https://raw.githubusercontent.com/ds-connectors/Data88-Genetics_and_Genomics/master/Lab01/pathogens.csv\n",
    "\n"
   ]
  },
  {
   "cell_type": "code",
   "execution_count": null,
   "metadata": {
    "scrolled": false
   },
   "outputs": [],
   "source": [
    "# Display full table. How many organisms does it have? Hint: Table.num_rows\n",
    "# See Cell 3 if you need a hint\n",
    "\n"
   ]
  },
  {
   "cell_type": "markdown",
   "metadata": {},
   "source": [
    "With so many organisms, it can be hard to interpret the table. Histograms are a great way to visualize the distribution of a quantity of interest."
   ]
  },
  {
   "cell_type": "code",
   "execution_count": null,
   "metadata": {},
   "outputs": [],
   "source": [
    "# Histogram of genome sizes (in megabases)\n",
    "# object.hist('column_name', bins = b, normed = n)\n",
    "# b gives the number of bins in the histogram\n",
    "# n is either True or False for whether bin heights should be normalized by number of observations\n",
    "# Choose 20 bins and normed = False\n",
    "\n"
   ]
  },
  {
   "cell_type": "code",
   "execution_count": null,
   "metadata": {},
   "outputs": [],
   "source": [
    "# Histograms of genome sizes split by subgroup (aka pivot histograms)\n",
    "# Let's normalize by frequency here because each group may have a different number of \n",
    "# object.hist('column_name', group = variable_to_group_by, bins = b, normed = n)\n",
    "\n"
   ]
  },
  {
   "cell_type": "code",
   "execution_count": null,
   "metadata": {},
   "outputs": [],
   "source": [
    "# Make scatterplot of the number of genes vs the genome size in pathogens\n",
    "# Also print Pearson and Spearman correlations. \n",
    "# Command is print(sp.pearsonr(table['Variable1'], table['Variable2'])) or\n",
    "# print(sp.spearmanr(table['Variable1'], table['Variable2']))\n",
    "# Number of genes on Y axis, genome size on X axis\n",
    "# object.scatter('X_column', 'Y_column')\n",
    "\n"
   ]
  },
  {
   "cell_type": "code",
   "execution_count": null,
   "metadata": {},
   "outputs": [],
   "source": [
    "# Make scatterplot of the number of proteins vs number of genes in pathogens\n",
    "# Number of proteins on Y axis, number of genes on X axis\n",
    "# object.scatter('X_column', 'Y_column')\n",
    "# print respective correlations\n"
   ]
  },
  {
   "cell_type": "code",
   "execution_count": null,
   "metadata": {},
   "outputs": [],
   "source": [
    "# Compute the mean, median, standard deviation, and interquartile range for \n",
    "# the genome sizes, number of genes, and number of proteins. Store them in a table with \n",
    "# Size, Genes, and Proteins as the columns\n",
    "\n",
    "# mean: np.mean, median: np.median, standard deviation: np.std, IQR: sp.iqr\n",
    "# Put these into a table names pathogen_summary with columns corresponding to Size, Genes, and Proteins\n",
    "\n",
    "# Example of how to construct a table\n",
    "#t = Table().with_columns([\n",
    "#    'letter', ['a', 'b', 'c', 'z'],\n",
    "#    'count',  [  9,   3,   3,   1],\n",
    "#    'points', [  1,   2,   2,  10],\n",
    "#]) \n",
    "\n",
    "\n",
    "                                                                                                                  "
   ]
  },
  {
   "cell_type": "markdown",
   "metadata": {},
   "source": [
    "## Let's repeat this analysis but for animals"
   ]
  },
  {
   "cell_type": "code",
   "execution_count": null,
   "metadata": {},
   "outputs": [],
   "source": [
    "# Load animal information. Name the table animals\n",
    "# See Cell 2 for a hint\n",
    "# filename is https://raw.githubusercontent.com/ds-connectors/Data88-Genetics_and_Genomics/master/Lab01/animals.csv\n",
    "\n"
   ]
  },
  {
   "cell_type": "code",
   "execution_count": null,
   "metadata": {},
   "outputs": [],
   "source": [
    "# Display full table. How many organisms does it have? Hint: Table.num_rows\n",
    "# See Cell 3 if you need a hint\n"
   ]
  },
  {
   "cell_type": "code",
   "execution_count": null,
   "metadata": {},
   "outputs": [],
   "source": [
    "# Histogram of genome sizes (in megabases)\n"
   ]
  },
  {
   "cell_type": "code",
   "execution_count": null,
   "metadata": {},
   "outputs": [],
   "source": [
    "# Histograms of genome sizes split by Subgroup (aka pivot histograms)\n",
    "# Let's normalize by frequency here because each group may have a different number of \n"
   ]
  },
  {
   "cell_type": "code",
   "execution_count": null,
   "metadata": {},
   "outputs": [],
   "source": [
    "# Make scatterplot of the number of genes vs the genome size in animals\n",
    "# Print correlations\n"
   ]
  },
  {
   "cell_type": "code",
   "execution_count": null,
   "metadata": {},
   "outputs": [],
   "source": [
    "# Make scatterplot of the number of proteins vs number of genes in animals\n",
    "# Print correlations\n"
   ]
  },
  {
   "cell_type": "code",
   "execution_count": null,
   "metadata": {},
   "outputs": [],
   "source": [
    "# Table of summary statistics (name it animal_summary)\n"
   ]
  },
  {
   "cell_type": "markdown",
   "metadata": {},
   "source": [
    "# Bonus exercises"
   ]
  },
  {
   "cell_type": "markdown",
   "metadata": {},
   "source": [
    "## Comparing pathogens and animals"
   ]
  },
  {
   "cell_type": "code",
   "execution_count": null,
   "metadata": {},
   "outputs": [],
   "source": [
    "# We need to merge the tables before comparing.\n",
    "\n",
    "# First, add a new column named 'Type' to each table which says either 'Pathogens' or 'Animals'\n",
    "# Hint: table.append_column(column_name, word)\n",
    "\n",
    "\n",
    "\n",
    "# Now define merged by setting it equal to pathogens. Then use the table.append(table2) syntax to merge the tables\n"
   ]
  },
  {
   "cell_type": "code",
   "execution_count": null,
   "metadata": {},
   "outputs": [],
   "source": [
    "# Make the normalized pivot histogram of genome sizes with 50 bins\n"
   ]
  },
  {
   "cell_type": "markdown",
   "metadata": {},
   "source": [
    "### The scaling is kind of distorted because of the wide range of values. Perhaps a log transformation would make things look better?"
   ]
  },
  {
   "cell_type": "code",
   "execution_count": null,
   "metadata": {},
   "outputs": [],
   "source": [
    "# Append a new column named 'Log size'\n",
    "# Use np.log10 to take the log10 of the 'Size' column. Remember that these are in Mb, so you should add 6 after taking the log!\n",
    "\n"
   ]
  },
  {
   "cell_type": "code",
   "execution_count": null,
   "metadata": {},
   "outputs": [],
   "source": [
    "# Make the normalized pivot histogram of genome sizes with 50 bins\n"
   ]
  },
  {
   "cell_type": "markdown",
   "metadata": {},
   "source": [
    "# Time to submit!"
   ]
  },
  {
   "cell_type": "code",
   "execution_count": null,
   "metadata": {},
   "outputs": [],
   "source": [
    "ok = Notebook('Lab01_EDA.ok')\n",
    "_ = ok.auth(inline=True)"
   ]
  },
  {
   "cell_type": "code",
   "execution_count": null,
   "metadata": {},
   "outputs": [],
   "source": [
    "# Submit the assignment.\n",
    "_ = ok.submit()"
   ]
  }
 ],
 "metadata": {
  "kernelspec": {
   "display_name": "Python 3",
   "language": "python",
   "name": "python3"
  },
  "language_info": {
   "codemirror_mode": {
    "name": "ipython",
    "version": 3
   },
   "file_extension": ".py",
   "mimetype": "text/x-python",
   "name": "python",
   "nbconvert_exporter": "python",
   "pygments_lexer": "ipython3",
   "version": "3.7.3"
  }
 },
 "nbformat": 4,
 "nbformat_minor": 2
}
