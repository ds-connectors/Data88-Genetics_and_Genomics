{
 "cells": [
  {
   "cell_type": "markdown",
   "metadata": {},
   "source": [
    "### Load the modules we'll need"
   ]
  },
  {
   "cell_type": "code",
   "execution_count": null,
   "metadata": {},
   "outputs": [],
   "source": [
    "from datascience import *\n",
    "import numpy as np\n",
    "import matplotlib\n",
    "%matplotlib inline\n",
    "import matplotlib.pyplot as plt\n",
    "import scipy.stats as stats\n",
    "plt.style.use('fivethirtyeight')\n",
    "import pandas as pd\n",
    "import seaborn as sns\n",
    "import sklearn\n",
    "from sklearn import preprocessing\n",
    "from sklearn.preprocessing import StandardScaler\n",
    "from sklearn.decomposition import PCA\n",
    "from sklearn.preprocessing import scale\n",
    "from sklearn.manifold import TSNE\n",
    "from sklearn.cluster import KMeans\n",
    "from scipy.spatial.distance import cdist\n",
    "from client.api.notebook import Notebook"
   ]
  },
  {
   "cell_type": "markdown",
   "metadata": {},
   "source": [
    "# Data Exploration: How do bulk RNA-seq and scRNA-seq data differ?"
   ]
  },
  {
   "cell_type": "markdown",
   "metadata": {},
   "source": [
    "Today we'll introduce single-cell RNA-seq data and show how it can be used. First, however, we'll see how a typical scRNA-seq data set compares to the bulk RNA-seq data we're more familiar with. There are a few key differences. First, bulk samples have many more reads than single-cell samples and have many more genes captured in a single experiment. This is due to the fact that a single bulk sample consists of many, many cells and thus has more RNA available to be captured. Related is the fact that expression values are much noisier in scRNA-seq data because each observation contains one cell rather than values averaged over many cells as in bulk. There is also additional technial variation in certain protocols because of the need to amplify RNA more aggressively because there is less to start with. We'll demonstrate some of these facts using bulk RNA-seq and scRNA-seq generated in the same experiment and tissue (spleen in the Tabula Muris). We'll focus on cells in the immune system (B, T, and natural killer (NK) cells)."
   ]
  },
  {
   "cell_type": "markdown",
   "metadata": {},
   "source": [
    "First, we'll load the data. These include metadata for the single cells as well as the expression data for the bulk and single-cell experiments. You don't need to change anything in these cells, but be sure to examine what's being done in the respective normalizations. Consider why they might be a bit different. These data have been partially pre-processed to remove non-expressed genes and ensure that the two data sets have the same genes included. This removes the need for tedious indexing and reduces the file sizes to help save our kernels! However, one side-effect is that we will have lower levels of sparsity than you would encounter with a raw data set."
   ]
  },
  {
   "cell_type": "code",
   "execution_count": null,
   "metadata": {},
   "outputs": [],
   "source": [
    "# Load metadata for single cells\n",
    "sc_meta = pd.read_csv('https://raw.githubusercontent.com/ds-connectors/Data88-Genetics_and_Genomics/master/Lab07/spleen_meta_sc.csv', sep = ',', header = 0).set_index('index').rename(columns ={'Unnamed: 0':'Sample Num'})"
   ]
  },
  {
   "cell_type": "code",
   "execution_count": null,
   "metadata": {},
   "outputs": [],
   "source": [
    "# Load bulk expression data and normalize it\n",
    "bulk_data = pd.read_csv('https://raw.githubusercontent.com/ds-connectors/Data88-Genetics_and_Genomics/master/Lab07/bulk_data.csv', sep = ',', header = 0).set_index('Gene')\n",
    "bulk_total_med = bulk_data.sum().median()\n",
    "bulk_sample_med = bulk_data.median()\n",
    "bulk_data_norm = bulk_data / bulk_sample_med * bulk_total_med"
   ]
  },
  {
   "cell_type": "code",
   "execution_count": null,
   "metadata": {},
   "outputs": [],
   "source": [
    "# Load single-cell expression data and normalize it\n",
    "scRNA_data_pre = pd.read_csv('https://raw.githubusercontent.com/ds-connectors/Data88-Genetics_and_Genomics/master/Lab07/cell_data.csv', sep = ',', header = 0).set_index('Gene')\n",
    "# These data were on log scale so let's go back to counts\n",
    "sc_data = (2 ** scRNA_data_pre - 1)\n",
    "sc_total_med = sc_data.sum().median()\n",
    "sc_data_norm = sc_data / sc_data.sum() * sc_total_med"
   ]
  },
  {
   "cell_type": "markdown",
   "metadata": {},
   "source": [
    "Now, let's look at how many genes have non-zero values for each sample/cell. We say these genes are \"expressed\" in the corresponding sample. You should notice a marked difference between the two data types."
   ]
  },
  {
   "cell_type": "code",
   "execution_count": null,
   "metadata": {},
   "outputs": [],
   "source": [
    "# Compare histograms of the number of genes \"expressed\" per bulk sample and per single cell\n",
    "plt.figure(figsize=(15,5))\n",
    "\n",
    "plt.subplot(121)\n",
    "avg_genes_per_sample_bulk = (bulk_data_norm > 0).mean()\n",
    "plt.hist(?, bins = 15)\n",
    "plt.title(\"Bulk RNA-seq\") \n",
    "plt.xlabel('Fraction of genes expressed')\n",
    "plt.ylabel('Counts')\n",
    "\n",
    "plt.subplot(122)\n",
    "avg_genes_per_sample_sc = ?\n",
    "plt.hist(?, bins = 15)\n",
    "plt.title(\"scRNA-seq\") \n",
    "plt.xlabel('Fraction of genes expressed')\n",
    "plt.ylabel('Counts')\n",
    "\n",
    "plt.show()"
   ]
  },
  {
   "cell_type": "markdown",
   "metadata": {},
   "source": [
    "Let's consider the same question from a slightly different angle. For individual genes, how many samples/cells express that gene? This should only require a minor modification to your previous code."
   ]
  },
  {
   "cell_type": "code",
   "execution_count": null,
   "metadata": {},
   "outputs": [],
   "source": [
    "# Compare histograms of the number of samples or cells which express individual genes\n",
    "\n",
    "# HINT: WHICH AXIS DO WE NOW WANT TO CONSIDER WHEN TAKING THE MEAN?\n",
    "\n",
    "plt.figure(figsize=(15,5))\n",
    "\n",
    "plt.subplot(121)\n",
    "avg_samples_per_gene_bulk = (?).mean(axis = ?)\n",
    "plt.hist(?, bins = 15)\n",
    "plt.title(\"Bulk RNA-seq\") \n",
    "plt.xlabel('Fraction of samples expressing each gene')\n",
    "plt.ylabel('Counts')\n",
    "\n",
    "plt.subplot(122)\n",
    "avg_cells_per_gene_sc = (?).mean(axis = ?)\n",
    "plt.hist(?, bins = 15)\n",
    "plt.title(\"scRNA-seq\") \n",
    "plt.xlabel('Fraction of cells expressing each gene')\n",
    "plt.ylabel('Counts')\n",
    "\n",
    "plt.show()"
   ]
  },
  {
   "cell_type": "markdown",
   "metadata": {},
   "source": [
    "Finally, let's see what fraction of our entries are zero. This is referred to as the \"sparsity\" of the data set."
   ]
  },
  {
   "cell_type": "code",
   "execution_count": null,
   "metadata": {},
   "outputs": [],
   "source": [
    "# Compute and display the sparsity of each data matrix. That is, the fraction of the entries which are 0.\n",
    "sparsity = [(bulk_data_norm == 0).sum().sum() / bulk_data_norm.size,\n",
    "            ? / ?] # fill in the sc data sparsity\n",
    "\n",
    "sparsity"
   ]
  },
  {
   "cell_type": "markdown",
   "metadata": {},
   "source": [
    "Having investigated the sparsity patterns of our data, let's compute a few summary statistics. Let's do the mean, standard deviation, and coefficient of variation. These tell us about the centrality, spread, and \"noise-to-signal\" ratio. As you may suspect, there should be more noise in your scRNA-seq data."
   ]
  },
  {
   "cell_type": "code",
   "execution_count": null,
   "metadata": {},
   "outputs": [],
   "source": [
    "# Compute the mean and standard deviation of expression levels for each gene in both matrices. \n",
    "# Use these values to compute the coefficients of variation (sd/mean)\n",
    "bulk_gene_means = np.log2(bulk_data_norm+1).mean(axis = 1)\n",
    "sc_gene_means = ?\n",
    "\n",
    "bulk_gene_sds = np.log2(bulk_data_norm+1).std(axis = 1)\n",
    "sc_gene_sds = ?\n",
    "\n",
    "bulk_gene_cvs = bulk_gene_sds / bulk_gene_means\n",
    "sc_gene_cvs = ?"
   ]
  },
  {
   "cell_type": "code",
   "execution_count": null,
   "metadata": {},
   "outputs": [],
   "source": [
    "# Plot the means, standard deviations, and coefficients of variation for each gene in the single-cell and bulk\n",
    "# datasets. \n",
    "\n",
    "# PUT THE BULK VALUES ON THE X-AXIS\n",
    "\n",
    "plt.figure(figsize=(15,5))\n",
    "\n",
    "plt.subplot(131)\n",
    "plt.scatter(?, ?)\n",
    "plt.title('Means') \n",
    "plt.xlabel('Bulk RNA-seq')\n",
    "plt.ylabel('scRNA-seq')\n",
    "\n",
    "plt.subplot(132)\n",
    "plt.scatter(?, ?)\n",
    "plt.title('Standard Deviations') \n",
    "plt.xlabel('Bulk RNA-seq')\n",
    "plt.ylabel('scRNA-seq')\n",
    "\n",
    "plt.subplot(133)\n",
    "plt.scatter(?, ?)\n",
    "plt.title('Coefficients of Variation') \n",
    "plt.xlabel('Bulk RNA-seq')\n",
    "plt.ylabel('scRNA-seq')\n",
    "plt.show()"
   ]
  },
  {
   "cell_type": "markdown",
   "metadata": {},
   "source": [
    "# Data Analysis"
   ]
  },
  {
   "cell_type": "markdown",
   "metadata": {},
   "source": [
    "We've seen that there are some obvious differences in how typical scRNA-seq and bulk RNA-seq data sets behave. This leads to some differences in the most common analysis tools, a fact compounded by the disparate set of tasks we usually want to perform. Whereas bulk experiments are often used for differential expression between conditions, scRNA-seq is utilized for the identification and interrogation of different cell types. Let's walk through a standard scRNA-seq analysis now."
   ]
  },
  {
   "cell_type": "code",
   "execution_count": null,
   "metadata": {},
   "outputs": [],
   "source": [
    "# We'll start with PCA. Apply the built-in scaler and then perform PCA on this matrix. \n",
    "# You don't need to modify this cell.\n",
    "x = StandardScaler().fit_transform(np.log2(sc_data_norm.T+1))\n",
    "pca = PCA(n_components = 100)\n",
    "principalComponents = pca.fit_transform(x)"
   ]
  },
  {
   "cell_type": "code",
   "execution_count": null,
   "metadata": {},
   "outputs": [],
   "source": [
    "# To see the results of PCA, let's plot the projections and see if they separate by cell type. In this case, we know the\n",
    "# true labels of cells from the experiment.\n",
    "plt.scatter(principalComponents[sc_meta['cell_ontology_class'] == 'B cell',0], principalComponents[sc_meta['cell_ontology_class'] == 'B cell',1])\n",
    "plt.scatter(?, ?) # Plot the T cells\n",
    "plt.scatter(?, ?) # Plot the NK cells\n",
    "plt.legend(['B cells','T cells', 'NK cells'])\n",
    "plt.xlabel('PC 1')\n",
    "plt.ylabel('PC 2')\n",
    "plt.title('PCA, true labels')\n",
    "plt.show()"
   ]
  },
  {
   "cell_type": "code",
   "execution_count": null,
   "metadata": {},
   "outputs": [],
   "source": [
    "# Now let's use t-SNE, a non-linear dimenstion reduction method which we apply after PCA. You don't need to modify\n",
    "# anything in this cell.\n",
    "tsne = TSNE(n_components = 2)\n",
    "X_embedded = tsne.fit_transform(principalComponents)"
   ]
  },
  {
   "cell_type": "code",
   "execution_count": null,
   "metadata": {},
   "outputs": [],
   "source": [
    "# Now plot the t-SNE embeddings and see what's changed.\n",
    "plt.scatter(X_embedded[sc_meta['cell_ontology_class'] == 'B cell',0], X_embedded[sc_meta['cell_ontology_class'] == 'B cell',1])\n",
    "plt.scatter(?, ?) # Plot the T cells\n",
    "plt.scatter(?, ?) # Plot the NK cells\n",
    "plt.legend(['B cells','T cells', 'NK cells'])\n",
    "plt.xlabel('PC 1')\n",
    "plt.ylabel('PC 2')\n",
    "plt.title('PCA, true labels')\n",
    "plt.show()"
   ]
  },
  {
   "cell_type": "code",
   "execution_count": null,
   "metadata": {},
   "outputs": [],
   "source": [
    "# We're lucky in our case because we knew the true labels from the experiment. However, we often don't.\n",
    "# In such a case, the simplest thing to do is something called k-means. This is a clustering algorithm\n",
    "# which labels the cells as belonging to a cluster once the user specifies the total number of clusters.\n",
    "# You don't need to modify this cell.\n",
    "kmeans = KMeans(n_clusters=3)\n",
    "kmeans.fit(X_embedded)\n",
    "predictions = kmeans.predict(X_embedded)"
   ]
  },
  {
   "cell_type": "code",
   "execution_count": null,
   "metadata": {},
   "outputs": [],
   "source": [
    "# Let's plot again using the labels from k-means. Do these agree with what we know to be the truth? Run the \n",
    "# cell a few times and see what happens. Also feel free to change the number of clusters in the cell above.\n",
    "plt.scatter(X_embedded[predictions == 0,0], X_embedded[predictions == 0,1])\n",
    "plt.scatter(?, ?) # Plot cluster 1\n",
    "plt.scatter(?, ?) # Plot cluster 2\n",
    "plt.legend(['B cells','T cells', 'NK cells'])\n",
    "plt.xlabel('PC 1')\n",
    "plt.ylabel('PC 2')\n",
    "plt.title('PCA, true labels')\n",
    "plt.show()"
   ]
  },
  {
   "cell_type": "code",
   "execution_count": null,
   "metadata": {},
   "outputs": [],
   "source": [
    "# The last step of a standard analysis is typically to identify the marker genes for each cell population. \n",
    "# One simple way to do this is to perform a test for each gene which compares its expression in the different cell\n",
    "# types. Let's find how many genes show evidence of differential expression between B and T cells.\n",
    "B_ind = list(np.where(sc_meta['cell_ontology_class'] == 'B cell')[0])\n",
    "T_ind = ?\n",
    "\n",
    "p_vector = make_array()\n",
    "for i in np.arange(?):      # iterate through each gene\n",
    "    p_vector = np.append(p_vector, ?)   # perform a mann-whitney test to compare cell types and get the p-value\n",
    "\n",
    "# Recall the following gives the p-value with the appropriate inputs for x and y: \n",
    "# stats.mannwhitneyu(x = ?, y = ?)[1]\n",
    "#HINT: you may need to use sc_data_norm.iloc[i,B_ind] and something similar\n",
    "\n",
    "n_de_BT = ?   # compute how many p-values are less than or equal to 0.05\n",
    "n_de_BT"
   ]
  },
  {
   "cell_type": "markdown",
   "metadata": {},
   "source": [
    "# Optional: Elbow plot for K-means"
   ]
  },
  {
   "cell_type": "markdown",
   "metadata": {},
   "source": [
    "An elbow plot is a diagnostic tool which is sometimes used to select the number of clusters in an analysis. Essentially, it plots how well the clustering performs as a function of the number of clusters chosen. Since more clusters always equals better performance, we're looking for the point at which the improvement plateaus. Using this scRNA-seq data set, make an elbow plot with k-means. To generate the plot, you'll want to compute the sum of the squared distance from each point to the appropriate cluster center for each value of k used. Let's do from 1 to 10."
   ]
  },
  {
   "cell_type": "code",
   "execution_count": null,
   "metadata": {},
   "outputs": [],
   "source": [
    " "
   ]
  },
  {
   "cell_type": "markdown",
   "metadata": {},
   "source": [
    "# Submission"
   ]
  },
  {
   "cell_type": "code",
   "execution_count": null,
   "metadata": {},
   "outputs": [],
   "source": [
    "ok = Notebook('Lab07_rnaseq.ok')\n",
    "_ = ok.auth(inline=True)"
   ]
  },
  {
   "cell_type": "code",
   "execution_count": null,
   "metadata": {},
   "outputs": [],
   "source": [
    "# Submit the assignment.\n",
    "_ = ok.submit()"
   ]
  }
 ],
 "metadata": {
  "kernelspec": {
   "display_name": "Python 3",
   "language": "python",
   "name": "python3"
  },
  "language_info": {
   "codemirror_mode": {
    "name": "ipython",
    "version": 3
   },
   "file_extension": ".py",
   "mimetype": "text/x-python",
   "name": "python",
   "nbconvert_exporter": "python",
   "pygments_lexer": "ipython3",
   "version": "3.7.3"
  }
 },
 "nbformat": 4,
 "nbformat_minor": 2
}
